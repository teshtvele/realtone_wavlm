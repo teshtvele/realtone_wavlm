{
 "cells": [
  {
   "cell_type": "markdown",
   "id": "80398755-80ab-413f-b91c-6b3dd2105231",
   "metadata": {},
   "source": [
    "# Дообучение WavLM для детекции аудиодипфейков на комбинированном датасете\n",
    "Этот ноутбук предназначен для дообучения модели WavLM-Base на большом и разнообразном наборе данных для задачи классификации аудио на \"подлинное\" (bonafide) и \"фейковое\" (spoof).  "
   ]
  },
  {
   "cell_type": "markdown",
   "id": "ca4bc5b1-1738-4a47-9983-2a17b2f40f98",
   "metadata": {},
   "source": [
    "Термин «**дипфейк**» (от англ. deep learning – «глубокое обучение» и fake – «подделка») обозначает синтетический медиаконтент, созданный с использованием технологий глубокого обучения. В контексте аудио это подразумевает генерацию или модификацию речевых сигналов таким образом, чтобы они имитировали голос конкретного человека или звучали как естественная речь, но при этом передавали ложную информацию или использовались в злонамеренных целях. Наиболее распространенной формой является синтез речи, где голос человека генерируется для озвучивания текста, которого он на самом деле не произносил, или преобразование голоса, когда характеристики голоса одного человека переносятся на речь другого.\n",
    "\n",
    "Можно выделить несколько основных типов аудиодипфейков, представляющих угрозу:  \n",
    "* **Синтез речи по тексту (Text-to-Speech, TTS)**: современные TTS-системы способны генерировать речь, практически неотличимую от человеческой, с возможностью клонирования тембра и интонаций конкретного диктора по небольшому объему образцов его голоса. Это используется для создания фальшивых заявлений от имени публичных лиц, автоматизированного мошенничества (например, звонки от имени банковских служб).  \n",
    "* **Преобразование голоса (Voice Conversion, VC):** технологии VC позволяют изменить запись голоса одного человека так, чтобы она звучала, как будто ее произнес другой человек, сохраняя при этом содержание и интонацию исходной речи. Это может применяться для создания компрометирующих аудиозаписей или для обхода систем голосовой биометрической аутентификации.  \n",
    "* **Атаки на основе воспроизведения (Replay Attacks):** данный тип атак заключается в воспроизведении ранее записанного фрагмента подлинной речи жертвы для обмана системы или собеседника. Хотя технически это не генерация нового контента, такие атаки часто рассматриваются в контексте спуфинга и требуют отдельных методов детекции, так как запись, прошедшая через канал воспроизведения-записи, приобретает специфические искажения."
   ]
  },
  {
   "cell_type": "markdown",
   "id": "1ab6e158-153c-4fd9-8455-647a3db331fc",
   "metadata": {},
   "source": [
    "Для решения задачи была выбрана модель [WavLM](https://huggingface.co/microsoft/wavlm-base) (Waveform Language Model). Этот выбор обусловлен способностью WavLM извлекать высокоуровневые представления из сырых аудиоданных благодаря предобучению на больших массивах неразмеченной речи. Архитектура WavLM, основанная на трансформере, успешно моделирует как локальные, так и глобальные контекстуальные зависимости в аудиосигнале. Важной особенностью WavLM, отличающей ее от некоторых предшественников, является включение задачи шумоподавления на этапе предобучения, что потенциально повышает робастность модели к различным акустическим условиям и шумам, часто присутствующим в реальных аудиозаписях и дипфейках  \n",
    "![](images/model_architecture.png)"
   ]
  },
  {
   "cell_type": "markdown",
   "id": "2301c642-0477-45f3-bbd9-f10024cde0cb",
   "metadata": {},
   "source": [
    "## Конфигурация и глобальные Параметры"
   ]
  },
  {
   "cell_type": "code",
   "execution_count": 1,
   "id": "3d700b27",
   "metadata": {
    "_cell_guid": "b1076dfc-b9ad-4769-8c92-a6c4dae69d19",
    "_uuid": "8f2839f25d086af736a60e9eeb907d3b93b6e0e5",
    "execution": {
     "iopub.execute_input": "2025-09-08T12:31:23.722287Z",
     "iopub.status.busy": "2025-09-08T12:31:23.721636Z",
     "iopub.status.idle": "2025-09-08T12:31:39.894294Z",
     "shell.execute_reply": "2025-09-08T12:31:39.893500Z"
    },
    "papermill": {
     "duration": 16.183188,
     "end_time": "2025-09-08T12:31:39.895760",
     "exception": false,
     "start_time": "2025-09-08T12:31:23.712572",
     "status": "completed"
    },
    "tags": []
   },
   "outputs": [],
   "source": [
    "import torch\n",
    "import numpy as np\n",
    "import pandas as pd\n",
    "import matplotlib.pyplot as plt\n",
    "import seaborn as sns\n",
    "from pathlib import Path\n",
    "from tqdm.notebook import tqdm\n",
    "import json\n",
    "import os\n",
    "import random\n",
    "import gc\n",
    "import glob\n",
    "import shutil\n",
    "import time\n",
    "from collections import Counter\n",
    "\n",
    "import torchaudio\n",
    "from torch import nn, optim\n",
    "from torch.utils.data import DataLoader, Dataset, WeightedRandomSampler\n",
    "from transformers import AutoModel\n",
    "from sklearn.model_selection import train_test_split\n",
    "from sklearn.metrics import (\n",
    "    roc_auc_score, roc_curve, f1_score, classification_report,\n",
    "    confusion_matrix, ConfusionMatrixDisplay\n",
    ")"
   ]
  },
  {
   "cell_type": "code",
   "execution_count": 2,
   "id": "7ec91469",
   "metadata": {
    "execution": {
     "iopub.execute_input": "2025-09-08T12:31:39.912330Z",
     "iopub.status.busy": "2025-09-08T12:31:39.911519Z",
     "iopub.status.idle": "2025-09-08T12:31:39.916097Z",
     "shell.execute_reply": "2025-09-08T12:31:39.915425Z"
    },
    "papermill": {
     "duration": 0.012906,
     "end_time": "2025-09-08T12:31:39.917171",
     "exception": false,
     "start_time": "2025-09-08T12:31:39.904265",
     "status": "completed"
    },
    "tags": []
   },
   "outputs": [],
   "source": [
    "# \"Чистые\" цифровые\n",
    "PATH_MLADDC_T2 = Path(\"/kaggle/input/mladdc-t2/T2\")\n",
    "PATH_SLAVIC_COMBINED = Path(\"/kaggle/input/m-ailabs-mlaadru-uk-pl/m_ailabs_mlaad\")\n",
    "PATH_PYARA_BASE = Path(\"/kaggle/input/pyara/final_dataset\")\n",
    "PYARA_METADATA_FILE = PATH_PYARA_BASE / \"final_dataset.tsv\"\n",
    "PATH_GEN_RU_PHRASES = Path(\"/kaggle/input/generated-russian-phrases/Ready_For_Action\")\n",
    "\n",
    "# Replay-ориентированные\n",
    "PATH_REPLAYDF = Path(\"/kaggle/input/replaydf/ReplayDF\")\n",
    "PATH_ASV21_REPLAY_BALANCED = Path(\"/kaggle/input/ready-to-input-for-training/combined_folder\")\n",
    "PATH_FLEURS_HS = Path(\"/kaggle/input/fleurs-hs/fleurs-hs\")\n",
    "PATH_FOR_REREC_BASE = Path(\"/kaggle/input/the-fake-or-real-dataset/for-rerec/for-rerecorded\")"
   ]
  },
  {
   "cell_type": "code",
   "execution_count": 3,
   "id": "5f755bd4",
   "metadata": {
    "execution": {
     "iopub.execute_input": "2025-09-08T12:31:39.931013Z",
     "iopub.status.busy": "2025-09-08T12:31:39.930605Z",
     "iopub.status.idle": "2025-09-08T12:31:39.934620Z",
     "shell.execute_reply": "2025-09-08T12:31:39.933962Z"
    },
    "papermill": {
     "duration": 0.012037,
     "end_time": "2025-09-08T12:31:39.935739",
     "exception": false,
     "start_time": "2025-09-08T12:31:39.923702",
     "status": "completed"
    },
    "tags": []
   },
   "outputs": [],
   "source": [
    "BASE_MODEL_CHECKPOINT_PATH = Path(\"/kaggle/input/wavlm_asvspoof21/pytorch/default/1/training_checkpoint(1).pth\")\n",
    "RESUME_CHECKPOINT_PATH = Path(\"/kaggle/input/wavlm_chk_v2/pytorch/default/1/checkpoint_final_all_data_v2.pth\")\n",
    "\n",
    "FINAL_ALL_MODEL_SAVE_PATH = Path(\"/kaggle/working/best_wavlm_final_all_data_v2.pth\")\n",
    "FINAL_ALL_CHECKPOINT_PATH = Path(\"/kaggle/working/checkpoint_final_all_data_v2.pth\")\n",
    "FINAL_ALL_HISTORY_SAVE_PATH = Path(\"/kaggle/working/history_final_all_data_v2.json\")\n",
    "PLOTS_ALL_SAVE_DIR = Path(\"/kaggle/working/final_all_data_plots_v2\")\n",
    "PLOTS_ALL_SAVE_DIR.mkdir(parents=True, exist_ok=True)"
   ]
  },
  {
   "cell_type": "markdown",
   "id": "f0879380-6c45-4486-a325-6c46420ddfd7",
   "metadata": {},
   "source": [
    "Как уже говорилось ранее, для решения задачи будем использовать WavLM-base. Ее особенность заключается в том, что она обучалась на аудио с частотой дискретизации 16000 Гц, поэтому для дообучения на наших датасетах мы должны провести ресемплинг до целевой частоты дискретизации, преобразование в монофонический формат путем усреднения каналов (если исходный файл был стереофоническим). Затем каждый аудиофайл обрезать или дополнить нулями до фиксированной длины в 4 секунды (что соответствует 64000 отсчетам при частоте 16 кГц). Обучение будет проходить в течение 5 эпох, а на тест и валидацию выделим по 15%"
   ]
  },
  {
   "cell_type": "code",
   "execution_count": 4,
   "id": "a0246101",
   "metadata": {
    "execution": {
     "iopub.execute_input": "2025-09-08T12:31:39.949982Z",
     "iopub.status.busy": "2025-09-08T12:31:39.949757Z",
     "iopub.status.idle": "2025-09-08T12:31:39.953529Z",
     "shell.execute_reply": "2025-09-08T12:31:39.952972Z"
    },
    "papermill": {
     "duration": 0.012334,
     "end_time": "2025-09-08T12:31:39.954653",
     "exception": false,
     "start_time": "2025-09-08T12:31:39.942319",
     "status": "completed"
    },
    "tags": []
   },
   "outputs": [],
   "source": [
    "MODEL_CHECKPOINT_HF = \"microsoft/wavlm-base\"\n",
    "SAMPLE_RATE = 16000\n",
    "MAX_LENGTH_SECONDS = 4\n",
    "NUM_SAMPLES = MAX_LENGTH_SECONDS * SAMPLE_RATE\n",
    "\n",
    "FINAL_ALL_BATCH_SIZE = 32 \n",
    "FINAL_ALL_NUM_EPOCHS = 5  \n",
    "FINAL_ALL_LEARNING_RATE = 1e-6 \n",
    "FINAL_ALL_WEIGHT_DECAY = 0.01\n",
    "GRADIENT_ACCUMULATION_STEPS = 2 \n",
    "NUM_WORKERS = 2\n",
    "\n",
    "FINAL_ALL_VAL_SIZE = 0.15  \n",
    "FINAL_ALL_TEST_SIZE = 0.15 "
   ]
  },
  {
   "cell_type": "markdown",
   "id": "70f00286-74c9-4dba-9251-b38b9a587519",
   "metadata": {},
   "source": [
    "Выбираем устройство для вычислений и устанавливаем random seed для всех библиотек, чтобы обеспечить воспроизводимость результатов."
   ]
  },
  {
   "cell_type": "code",
   "execution_count": 5,
   "id": "31ecb2a4",
   "metadata": {
    "execution": {
     "iopub.execute_input": "2025-09-08T12:31:39.968927Z",
     "iopub.status.busy": "2025-09-08T12:31:39.968696Z",
     "iopub.status.idle": "2025-09-08T12:31:39.978742Z",
     "shell.execute_reply": "2025-09-08T12:31:39.977934Z"
    },
    "papermill": {
     "duration": 0.018877,
     "end_time": "2025-09-08T12:31:39.979838",
     "exception": false,
     "start_time": "2025-09-08T12:31:39.960961",
     "status": "completed"
    },
    "tags": []
   },
   "outputs": [
    {
     "name": "stdout",
     "output_type": "stream",
     "text": [
      "Используемое устройство: cuda\n",
      "Имя GPU: Tesla P100-PCIE-16GB\n",
      "Установлен random seed: 42\n"
     ]
    }
   ],
   "source": [
    "device = torch.device(\"cuda\" if torch.cuda.is_available() else \"cpu\")\n",
    "print(f\"Используемое устройство: {device}\")\n",
    "if device.type == 'cuda':\n",
    "    print(f\"Имя GPU: {torch.cuda.get_device_name(0)}\")\n",
    "    torch.backends.cudnn.benchmark = True\n",
    "\n",
    "seed = 42\n",
    "random.seed(seed); np.random.seed(seed); torch.manual_seed(seed)\n",
    "if torch.cuda.is_available(): torch.cuda.manual_seed_all(seed)\n",
    "print(f\"Установлен random seed: {seed}\")"
   ]
  },
  {
   "cell_type": "markdown",
   "id": "ab6b034b-dbb8-45cf-9aaf-0faaf55ba01c",
   "metadata": {},
   "source": [
    "Перед началом работы убедимся, что все необходимые датасеты и модели доступны по указанным путям"
   ]
  },
  {
   "cell_type": "code",
   "execution_count": 6,
   "id": "758e44c7",
   "metadata": {
    "execution": {
     "iopub.execute_input": "2025-09-08T12:31:39.994285Z",
     "iopub.status.busy": "2025-09-08T12:31:39.993813Z",
     "iopub.status.idle": "2025-09-08T12:31:40.017115Z",
     "shell.execute_reply": "2025-09-08T12:31:40.016365Z"
    },
    "papermill": {
     "duration": 0.031748,
     "end_time": "2025-09-08T12:31:40.018213",
     "exception": false,
     "start_time": "2025-09-08T12:31:39.986465",
     "status": "completed"
    },
    "tags": []
   },
   "outputs": [
    {
     "name": "stdout",
     "output_type": "stream",
     "text": [
      "Путь 'Base Model Checkpoint' найден: /kaggle/input/wavlm_asvspoof21/pytorch/default/1/training_checkpoint(1).pth\n",
      "Путь 'MLADDC Base Path' найден: /kaggle/input/mladdc-t2/T2\n",
      "Путь 'Slavic Combined Base Path' найден: /kaggle/input/m-ailabs-mlaadru-uk-pl/m_ailabs_mlaad\n",
      "Путь 'Pyara Base Path' найден: /kaggle/input/pyara/final_dataset\n",
      "Путь 'Pyara Metadata File' найден: /kaggle/input/pyara/final_dataset/final_dataset.tsv\n",
      "Путь 'Generated Russian Phrases Base Path' найден: /kaggle/input/generated-russian-phrases/Ready_For_Action\n",
      "Путь 'ReplayDF Base Path' найден: /kaggle/input/replaydf/ReplayDF\n",
      "Путь 'ASV21 Replay Balanced Path' найден: /kaggle/input/ready-to-input-for-training/combined_folder\n",
      "Путь 'Fleurs-HS Base Path' найден: /kaggle/input/fleurs-hs/fleurs-hs\n",
      "Путь 'FoR-rerec Base Path' найден: /kaggle/input/the-fake-or-real-dataset/for-rerec/for-rerecorded\n"
     ]
    }
   ],
   "source": [
    "critical_paths_to_check = {\n",
    "    \"Base Model Checkpoint\": BASE_MODEL_CHECKPOINT_PATH,\n",
    "    \"MLADDC Base Path\": PATH_MLADDC_T2,\n",
    "    \"Slavic Combined Base Path\": PATH_SLAVIC_COMBINED,\n",
    "    \"Pyara Base Path\": PATH_PYARA_BASE,\n",
    "    \"Pyara Metadata File\": PYARA_METADATA_FILE,\n",
    "    \"Generated Russian Phrases Base Path\": PATH_GEN_RU_PHRASES,\n",
    "    \"ReplayDF Base Path\": PATH_REPLAYDF,\n",
    "    \"ASV21 Replay Balanced Path\": PATH_ASV21_REPLAY_BALANCED,\n",
    "    \"Fleurs-HS Base Path\": PATH_FLEURS_HS,\n",
    "    \"FoR-rerec Base Path\": PATH_FOR_REREC_BASE,\n",
    "}\n",
    "all_paths_ok = True\n",
    "for name, path_obj in critical_paths_to_check.items():\n",
    "    if not path_obj.exists():\n",
    "        print(f\"ПРЕДУПРЕЖДЕНИЕ: Путь '{name}' не найден: {path_obj}\")\n",
    "        all_paths_ok = False\n",
    "    else:\n",
    "        print(f\"Путь '{name}' найден: {path_obj}\")\n",
    "\n",
    "if not all_paths_ok:\n",
    "    print(\"\\nВНИМАНИЕ: Не все пути к датасетам или базовой модели найдены. Проверьте конфигурацию\")"
   ]
  },
  {
   "cell_type": "markdown",
   "id": "59c6a9f9-0f98-4936-a928-f829531f55ac",
   "metadata": {},
   "source": [
    "## Вспомогательные функции и классы"
   ]
  },
  {
   "cell_type": "markdown",
   "id": "7973a014-0a3e-47ad-8033-9ad133ebf10d",
   "metadata": {},
   "source": [
    "Основной метрикой для оценки качества модели и выбора лучшей эпохи будет служить показатель EER (Equal Error Rate), который вычисляется как точка на ROC-кривой, где вероятность ложного принятия (FAR) равна вероятности ложного отклонения (FRR).  \n",
    "![](images/eer.png)\n"
   ]
  },
  {
   "cell_type": "code",
   "execution_count": 7,
   "id": "58defc6e",
   "metadata": {
    "execution": {
     "iopub.execute_input": "2025-09-08T12:31:40.032974Z",
     "iopub.status.busy": "2025-09-08T12:31:40.032500Z",
     "iopub.status.idle": "2025-09-08T12:31:40.036720Z",
     "shell.execute_reply": "2025-09-08T12:31:40.036203Z"
    },
    "papermill": {
     "duration": 0.012878,
     "end_time": "2025-09-08T12:31:40.037735",
     "exception": false,
     "start_time": "2025-09-08T12:31:40.024857",
     "status": "completed"
    },
    "tags": []
   },
   "outputs": [],
   "source": [
    "plt.rcParams['font.sans-serif'] = ['DejaVu Sans']\n",
    "plt.rcParams['axes.unicode_minus'] = False\n",
    "\n",
    "def EER(y_true, y_score):\n",
    "    fpr, tpr, thresholds = roc_curve(y_true, y_score, pos_label=1)\n",
    "    fnr = 1 - tpr\n",
    "    eer_index = np.nanargmin(np.absolute(fnr - fpr))\n",
    "    eer = fpr[eer_index]\n",
    "    return eer"
   ]
  },
  {
   "cell_type": "markdown",
   "id": "2fd23098-fb6e-4802-ad49-a64e1e6123fe",
   "metadata": {},
   "source": [
    "Определим функции для построения графиков истории обучения, матрицы ошибок и ROC-кривой"
   ]
  },
  {
   "cell_type": "code",
   "execution_count": 8,
   "id": "cd732b9b",
   "metadata": {
    "execution": {
     "iopub.execute_input": "2025-09-08T12:31:40.051678Z",
     "iopub.status.busy": "2025-09-08T12:31:40.051218Z",
     "iopub.status.idle": "2025-09-08T12:31:40.058704Z",
     "shell.execute_reply": "2025-09-08T12:31:40.058184Z"
    },
    "papermill": {
     "duration": 0.015381,
     "end_time": "2025-09-08T12:31:40.059720",
     "exception": false,
     "start_time": "2025-09-08T12:31:40.044339",
     "status": "completed"
    },
    "tags": []
   },
   "outputs": [],
   "source": [
    "def plot_training_history(history, title_prefix=\"\", save_path=None):\n",
    "    train_losses = history.get('train_loss', [])\n",
    "    val_losses = history.get('val_loss', [])\n",
    "    train_accs = history.get('train_acc', [])\n",
    "    val_accs = history.get('val_acc', [])\n",
    "    train_eers = history.get('train_eer', [])\n",
    "    val_eers = history.get('val_eer', [])\n",
    "    if not train_losses: print(\"Нет данных для plot_training_history.\"); return\n",
    "    epochs = range(1, len(train_losses) + 1)\n",
    "    fig, axs = plt.subplots(1, 3, figsize=(18, 5))\n",
    "    axs[0].plot(epochs, train_losses, 'bo-', label='Ошибка обучения'); axs[0].plot(epochs, val_losses, 'ro-', label='Ошибка валидации')\n",
    "    axs[0].set_title(f'{title_prefix} Потери'); axs[0].set_xlabel('Эпохи'); axs[0].set_ylabel('Потери'); axs[0].legend(); axs[0].grid(True)\n",
    "    axs[1].plot(epochs, train_accs, 'go-', label='Тренировочная Accuracy'); axs[1].plot(epochs, val_accs, 'mo-', label='Валидационная Accuracy')\n",
    "    axs[1].set_title(f'{title_prefix} Accuracy'); axs[1].set_xlabel('Эпохи'); axs[1].set_ylabel('Accuracy (%)'); axs[1].legend(); axs[1].grid(True)\n",
    "    axs[2].plot(epochs, train_eers, 'co-', label='Тренировочная EER'); axs[2].plot(epochs, val_eers, 'yo-', label='Валидационная EER')\n",
    "    axs[2].set_title(f'{title_prefix} EER'); axs[2].set_xlabel('Эпохи'); axs[2].set_ylabel('EER'); axs[2].legend(); axs[2].grid(True)\n",
    "    plt.tight_layout()\n",
    "    if save_path: plt.savefig(save_path); print(f\"График истории сохранен: {save_path}\")\n",
    "    plt.show()\n"
   ]
  },
  {
   "cell_type": "code",
   "execution_count": 9,
   "id": "37a4c5a1",
   "metadata": {
    "execution": {
     "iopub.execute_input": "2025-09-08T12:31:40.074001Z",
     "iopub.status.busy": "2025-09-08T12:31:40.073501Z",
     "iopub.status.idle": "2025-09-08T12:31:40.077882Z",
     "shell.execute_reply": "2025-09-08T12:31:40.077276Z"
    },
    "papermill": {
     "duration": 0.012512,
     "end_time": "2025-09-08T12:31:40.078848",
     "exception": false,
     "start_time": "2025-09-08T12:31:40.066336",
     "status": "completed"
    },
    "tags": []
   },
   "outputs": [],
   "source": [
    "def plot_confusion_matrix_custom(cm, class_names=['Подлинник', 'Фейк'], title='Матрица ошибок', save_path=None):\n",
    "    plt.figure(figsize=(6, 5)); sns.heatmap(cm, annot=True, fmt='d', cmap='Blues', xticklabels=class_names, yticklabels=class_names)\n",
    "    plt.title(title); plt.ylabel('Истинная метка'); plt.xlabel('Предсказанная метка'); plt.tight_layout()\n",
    "    if save_path: plt.savefig(save_path); print(f\"Матрица ошибок сохранена: {save_path}\")\n",
    "    plt.show()"
   ]
  },
  {
   "cell_type": "code",
   "execution_count": 10,
   "id": "b8679c4f",
   "metadata": {
    "execution": {
     "iopub.execute_input": "2025-09-08T12:31:40.092543Z",
     "iopub.status.busy": "2025-09-08T12:31:40.092345Z",
     "iopub.status.idle": "2025-09-08T12:31:40.099322Z",
     "shell.execute_reply": "2025-09-08T12:31:40.098723Z"
    },
    "papermill": {
     "duration": 0.015054,
     "end_time": "2025-09-08T12:31:40.100371",
     "exception": false,
     "start_time": "2025-09-08T12:31:40.085317",
     "status": "completed"
    },
    "tags": []
   },
   "outputs": [],
   "source": [
    "def plot_roc_curve_custom(y_true, y_scores, title='ROC кривая', save_path=None):\n",
    "    if len(np.unique(y_true)) < 2: print(f\"Нет данных для ROC '{title}'.\"); plt.figure(figsize=(7, 6)); plt.text(0.5, 0.5, 'Нет данных', ha='center'); plt.title(title); plt.show(); return\n",
    "    if y_scores is None or len(y_scores) != len(y_true): print(f\"Некорректные y_scores для '{title}'.\"); plt.figure(figsize=(7, 6)); plt.text(0.5, 0.5, 'Ошибка y_scores'); plt.title(title); plt.show(); return\n",
    "    fpr, tpr, _ = roc_curve(y_true, y_scores, pos_label=1); auc_score = roc_auc_score(y_true, y_scores); eer_val = EER(y_true, y_scores)\n",
    "    plt.figure(figsize=(7, 6)); plt.plot(fpr, tpr, color='darkorange', lw=2, label=f'ROC (AUC={auc_score:.2f}, EER={eer_val:.4f})')\n",
    "    plt.plot([0, 1], [0, 1], color='navy', lw=2, linestyle='--'); fnr = 1 - tpr; eer_idx = np.nanargmin(np.absolute(fnr - fpr))\n",
    "    plt.plot(fpr[eer_idx], tpr[eer_idx], marker='o', markersize=8, color=\"red\", label=f'Точка EER ({fpr[eer_idx]:.2f}, {tpr[eer_idx]:.2f})')\n",
    "    plt.xlim([0.0, 1.0]); plt.ylim([0.0, 1.05]); plt.xlabel('FPR'); plt.ylabel('TPR'); plt.title(title); plt.legend(loc=\"lower right\"); plt.grid(True); plt.tight_layout()\n",
    "    if save_path: plt.savefig(save_path); print(f\"ROC-кривая сохранена: {save_path}\")\n",
    "    plt.show()"
   ]
  },
  {
   "cell_type": "markdown",
   "id": "c0be1306-d57d-4736-ac7f-093d11c6666d",
   "metadata": {},
   "source": [
    "Класс CustomWavLMForClassification, определяющий архитектуру нашей модели поверх базовой WavLM"
   ]
  },
  {
   "cell_type": "code",
   "execution_count": 11,
   "id": "2eef9d48",
   "metadata": {
    "execution": {
     "iopub.execute_input": "2025-09-08T12:31:40.115273Z",
     "iopub.status.busy": "2025-09-08T12:31:40.114503Z",
     "iopub.status.idle": "2025-09-08T12:31:40.120388Z",
     "shell.execute_reply": "2025-09-08T12:31:40.119857Z"
    },
    "papermill": {
     "duration": 0.014156,
     "end_time": "2025-09-08T12:31:40.121481",
     "exception": false,
     "start_time": "2025-09-08T12:31:40.107325",
     "status": "completed"
    },
    "tags": []
   },
   "outputs": [],
   "source": [
    "class CustomWavLMForClassification(nn.Module):\n",
    "    def __init__(self, checkpoint_hf=MODEL_CHECKPOINT_HF, num_labels=1):\n",
    "        super(CustomWavLMForClassification, self).__init__()\n",
    "        print(f\"Инициализация CustomWavLMForClassification с HuggingFace чекпоинтом: {checkpoint_hf}\")\n",
    "        self.wavlm = AutoModel.from_pretrained(checkpoint_hf)\n",
    "        self.hidden_size = self.wavlm.config.hidden_size\n",
    "\n",
    "        self.pool_output_size = 128\n",
    "        self.pool = nn.AdaptiveAvgPool1d(self.pool_output_size)\n",
    "        self.linear = nn.Linear(self.hidden_size * self.pool_output_size, num_labels)\n",
    "\n",
    "    def forward(self, waveforms):\n",
    "        target_device = next(self.parameters()).device\n",
    "        waveforms = waveforms.to(target_device)\n",
    "        outputs = self.wavlm(input_values=waveforms, return_dict=True)\n",
    "        features = outputs.last_hidden_state\n",
    "        x = features.transpose(1, 2)\n",
    "        x = self.pool(x)\n",
    "        x = x.reshape(x.shape[0], -1)\n",
    "        logits = self.linear(x)\n",
    "        if logits.shape[-1] == 1:\n",
    "            return logits.squeeze(-1)\n",
    "        else:\n",
    "            return logits"
   ]
  },
  {
   "cell_type": "markdown",
   "id": "71f85dad-3c7c-4de2-bfd4-4b4690a8c8b4",
   "metadata": {},
   "source": [
    "Функция ```normalize_lang_code``` приводит коды языков к единому формату."
   ]
  },
  {
   "cell_type": "code",
   "execution_count": 12,
   "id": "1eb395c1",
   "metadata": {
    "execution": {
     "iopub.execute_input": "2025-09-08T12:31:40.135314Z",
     "iopub.status.busy": "2025-09-08T12:31:40.135073Z",
     "iopub.status.idle": "2025-09-08T12:31:40.140871Z",
     "shell.execute_reply": "2025-09-08T12:31:40.140333Z"
    },
    "papermill": {
     "duration": 0.013813,
     "end_time": "2025-09-08T12:31:40.141846",
     "exception": false,
     "start_time": "2025-09-08T12:31:40.128033",
     "status": "completed"
    },
    "tags": []
   },
   "outputs": [],
   "source": [
    "def normalize_lang_code(lang_name):\n",
    "    lang_name = str(lang_name).lower().strip()\n",
    "    mapping = {\n",
    "        'russian': 'ru', 'english': 'en', 'polish': 'pl', 'ukrainian': 'uk',\n",
    "        'french': 'fr', 'german': 'de', 'spanish': 'es', 'swedish': 'sv',\n",
    "        'portuguese': 'pt', 'japanese': 'ja', 'arabic': 'ar', 'indonesian': 'id',\n",
    "        'vietnamese': 'vi', 'chinese': 'zh', 'catalan': 'ca', 'basque': 'eu',\n",
    "        'breton': 'br', 'dutch': 'nl', 'esperanto': 'eo', 'hakka': 'hak',\n",
    "        'interlingua': 'ia', 'italian': 'it', 'kabyle': 'kab', 'kinyarwanda': 'rw',\n",
    "        'kyrgyz': 'ky', 'latvian': 'lv', 'maltese': 'mt', 'mongolian': 'mn',\n",
    "        'persian': 'fa', 'romanian': 'ro', 'sakha': 'sah', 'slovenian': 'sl',\n",
    "        'tamil': 'ta', 'tatar': 'tt', 'turkish': 'tr', 'welsh': 'cy'\n",
    "    }\n",
    "    if ('_' in lang_name or '-' in lang_name) and len(lang_name.split('_')[0].split('-')[0]) == 2:\n",
    "        return lang_name.split('_')[0].split('-')[0]\n",
    "    if lang_name in mapping: return mapping[lang_name]\n",
    "    if len(lang_name) == 2: return lang_name\n",
    "    return lang_name[:2] if len(lang_name) >= 2 else lang_name"
   ]
  },
  {
   "cell_type": "markdown",
   "id": "1ec720e2-a927-4624-ae91-c7be39904780",
   "metadata": {},
   "source": [
    "## Подготовка и загрузка Данных"
   ]
  },
  {
   "cell_type": "code",
   "execution_count": 13,
   "id": "4dd0711c",
   "metadata": {
    "execution": {
     "iopub.execute_input": "2025-09-08T12:31:40.156065Z",
     "iopub.status.busy": "2025-09-08T12:31:40.155845Z",
     "iopub.status.idle": "2025-09-08T12:31:40.163626Z",
     "shell.execute_reply": "2025-09-08T12:31:40.162939Z"
    },
    "papermill": {
     "duration": 0.016202,
     "end_time": "2025-09-08T12:31:40.164675",
     "exception": false,
     "start_time": "2025-09-08T12:31:40.148473",
     "status": "completed"
    },
    "tags": []
   },
   "outputs": [],
   "source": [
    "def prepare_mladdc_data(base_mladdc_path):\n",
    "    all_mladdc_files = []\n",
    "    print(f\"\\n--- Сбор данных из MLADDC: {base_mladdc_path} ---\")\n",
    "    lang_corrections = {\n",
    "        'japenese': 'japanese',\n",
    "        'portugese': 'portuguese',\n",
    "        'vitnamese': 'vietnamese'\n",
    "    }\n",
    "\n",
    "    known_mladdc_langs = {\n",
    "        'arabic', 'basque', 'breton', 'catalan', 'chinese', 'dutch',\n",
    "        'english', 'esperanto', 'french', 'german', 'hakka', 'indonesian',\n",
    "        'interlingua', 'italian', 'japanese', 'kabyle', 'kinyarwanda', 'kyrgyz',\n",
    "        'latvian', 'maltese', 'mongolian', 'persian', 'polish', 'portuguese',\n",
    "        'romanian', 'russian', 'sakha', 'slovenian', 'spanish', 'swedish',\n",
    "        'tamil', 'tatar', 'turkish', 'ukrainian', 'welsh', 'vietnamese' \n",
    "    }\n",
    "\n",
    "\n",
    "    for split_name in ['train', 'val', 'test']:\n",
    "        split_path = base_mladdc_path / split_name\n",
    "        if not split_path.is_dir():\n",
    "            print(f\"  Предупреждение: Директория MLADDC сплита {split_path} не найдена.\")\n",
    "            continue\n",
    "\n",
    "        print(f\"  Обработка MLADDC сплита: {split_name}\")\n",
    "        for label_type, label_val in [(\"real\", 0), (\"deepfake\", 1)]:\n",
    "            current_data_path = split_path / label_type\n",
    "            if not current_data_path.is_dir():\n",
    "                print(f\"    Предупреждение: Директория {current_data_path} не найдена.\")\n",
    "                continue\n",
    "\n",
    "            for filepath in current_data_path.glob('**/*.wav'):\n",
    "                filename = filepath.name\n",
    "                name_without_ext = filename[:-4]\n",
    "                parts = name_without_ext.split('_')\n",
    "                language = None\n",
    "\n",
    "                if len(parts) == 2 and parts[1].isdigit():\n",
    "                    language = parts[0].lower()\n",
    "                elif len(parts) > 2 and parts[-1].isdigit(): \n",
    "                    language_parts = parts[1:-1]\n",
    "                    language = \"_\".join(language_parts).lower()\n",
    "\n",
    "                if language:\n",
    "                    language = lang_corrections.get(language, language)\n",
    "                    if language in known_mladdc_langs or len(language) == 2 : \n",
    "                         all_mladdc_files.append({\n",
    "                            \"path\": str(filepath),\n",
    "                            \"label\": label_val,\n",
    "                            \"language\": language if len(language) == 2 else language.split('_')[0],\n",
    "                            \"source\": \"mladdc\"\n",
    "                        })\n",
    "    if not all_mladdc_files:\n",
    "         return pd.DataFrame(columns=['path', 'label', 'language', 'source'])\n",
    "    return pd.DataFrame(all_mladdc_files)"
   ]
  },
  {
   "cell_type": "code",
   "execution_count": 14,
   "id": "53de76dc",
   "metadata": {
    "execution": {
     "iopub.execute_input": "2025-09-08T12:31:40.178390Z",
     "iopub.status.busy": "2025-09-08T12:31:40.178156Z",
     "iopub.status.idle": "2025-09-08T12:31:40.184022Z",
     "shell.execute_reply": "2025-09-08T12:31:40.183278Z"
    },
    "papermill": {
     "duration": 0.014021,
     "end_time": "2025-09-08T12:31:40.185132",
     "exception": false,
     "start_time": "2025-09-08T12:31:40.171111",
     "status": "completed"
    },
    "tags": []
   },
   "outputs": [],
   "source": [
    "def prepare_slavic_data(prepared_slavic_base_path):\n",
    "    all_slavic_files = []\n",
    "    target_iso_codes = {\"pl\", \"ru\", \"uk\"}\n",
    "    print(f\"\\n--- Сбор данных из Slavic Combined: {prepared_slavic_base_path} ---\")\n",
    "\n",
    "    for split_name in ['train', 'val', 'test']:\n",
    "        split_path = prepared_slavic_base_path / split_name\n",
    "        if not split_path.is_dir():\n",
    "            print(f\"  Предупреждение: Директория Slavic Combined сплита {split_path} не найдена.\")\n",
    "            continue\n",
    "\n",
    "        print(f\"  Обработка Slavic Combined сплита: {split_name}\")\n",
    "        for label_type, label_val in [(\"real\", 0), (\"fake\", 1)]:\n",
    "            current_data_path = split_path / label_type\n",
    "            if not current_data_path.is_dir():\n",
    "                print(f\"    Предупреждение: Директория {current_data_path} не найдена.\")\n",
    "                continue\n",
    "\n",
    "            for audio_file in current_data_path.glob('*.wav'): # Предполагаем .wav\n",
    "                filename_parts = audio_file.name.split('_')\n",
    "                if len(filename_parts) > 1 and filename_parts[0] in target_iso_codes:\n",
    "                    lang_code = filename_parts[0]\n",
    "                    all_slavic_files.append({\n",
    "                        \"path\": str(audio_file),\n",
    "                        \"label\": label_val,\n",
    "                        \"language\": lang_code,\n",
    "                        \"source\": \"slavic_combined\"\n",
    "                    })\n",
    "    if not all_slavic_files:\n",
    "        return pd.DataFrame(columns=['path', 'label', 'language', 'source'])\n",
    "    return pd.DataFrame(all_slavic_files)"
   ]
  },
  {
   "cell_type": "code",
   "execution_count": 15,
   "id": "f49dc5dd",
   "metadata": {
    "execution": {
     "iopub.execute_input": "2025-09-08T12:31:40.199542Z",
     "iopub.status.busy": "2025-09-08T12:31:40.198995Z",
     "iopub.status.idle": "2025-09-08T12:31:40.206706Z",
     "shell.execute_reply": "2025-09-08T12:31:40.206192Z"
    },
    "papermill": {
     "duration": 0.015864,
     "end_time": "2025-09-08T12:31:40.207678",
     "exception": false,
     "start_time": "2025-09-08T12:31:40.191814",
     "status": "completed"
    },
    "tags": []
   },
   "outputs": [],
   "source": [
    "def prepare_pyara_data(pyara_base_path, pyara_metadata_file):\n",
    "    all_pyara_files = []\n",
    "    print(f\"\\n--- Сбор данных из Pyara: {pyara_base_path} ---\")\n",
    "\n",
    "    if not pyara_metadata_file.exists():\n",
    "        print(f\"  Ошибка: Файл метаданных Pyara {pyara_metadata_file} не найден!\")\n",
    "        return pd.DataFrame(columns=['path', 'label', 'language', 'source'])\n",
    "\n",
    "    try:\n",
    "        # Используем names, чтобы правильно присвоить имена колонок, пропуская первую строку (заголовок)\n",
    "        col_names = ['path_relative', 'transcript', 'age_group', 'gender', 'label_str', 'algorithm', 'duration']\n",
    "        df_pyara_raw = pd.read_csv(\n",
    "            pyara_metadata_file,\n",
    "            sep='\\t',\n",
    "            header=None, # Первая строка - заголовок, но мы его пропускаем через skiprows\n",
    "            names=col_names,\n",
    "            skiprows=1, # Пропускаем первую строку с заголовками\n",
    "            on_bad_lines='warn'\n",
    "        )\n",
    "\n",
    "        if df_pyara_raw.empty:\n",
    "            print(\"  Не удалось прочитать данные из TSV файла Pyara или файл пуст после пропуска заголовка.\")\n",
    "            return pd.DataFrame(columns=['path', 'label', 'language', 'source'])\n",
    "\n",
    "        # Отбираем нужные колонки и удаляем строки с NaN в них\n",
    "        df_pyara_proc = df_pyara_raw[['path_relative', 'label_str']].copy()\n",
    "        df_pyara_proc.dropna(subset=['path_relative', 'label_str'], inplace=True)\n",
    "\n",
    "        # Конвертируем метки в int (0 или 1)\n",
    "        # Убедимся, что 'label_str' содержит только '0' или '1' (или то, что можно в них превратить)\n",
    "        df_pyara_proc = df_pyara_proc[df_pyara_proc['label_str'].isin(['0', '1', 0, 1])]\n",
    "        df_pyara_proc['label'] = df_pyara_proc['label_str'].astype(int)\n",
    "\n",
    "\n",
    "        for idx, row in tqdm(df_pyara_proc.iterrows(), total=len(df_pyara_proc), desc=\"  Обработка файлов Pyara\"):\n",
    "            relative_path_str = str(row['path_relative']).strip().replace('\\\\', '/')\n",
    "            full_audio_path = pyara_base_path / relative_path_str\n",
    "\n",
    "            if full_audio_path.exists() and full_audio_path.is_file():\n",
    "                all_pyara_files.append({\n",
    "                    \"path\": str(full_audio_path),\n",
    "                    \"label\": row['label'],\n",
    "                    \"language\": \"ru\", \n",
    "                    \"source\": \"pyara\"\n",
    "                })\n",
    "\n",
    "        if not all_pyara_files:\n",
    "            return pd.DataFrame(columns=['path', 'label', 'language', 'source'])\n",
    "        return pd.DataFrame(all_pyara_files)\n",
    "\n",
    "    except Exception as e:\n",
    "        print(f\"  Критическая ошибка при обработке Pyara: {e}\")\n",
    "        import traceback\n",
    "        traceback.print_exc()\n",
    "        return pd.DataFrame(columns=['path', 'label', 'language', 'source'])\n"
   ]
  },
  {
   "cell_type": "code",
   "execution_count": 16,
   "id": "77175ca9",
   "metadata": {
    "execution": {
     "iopub.execute_input": "2025-09-08T12:31:40.221870Z",
     "iopub.status.busy": "2025-09-08T12:31:40.221282Z",
     "iopub.status.idle": "2025-09-08T12:31:40.227060Z",
     "shell.execute_reply": "2025-09-08T12:31:40.226541Z"
    },
    "papermill": {
     "duration": 0.01402,
     "end_time": "2025-09-08T12:31:40.228115",
     "exception": false,
     "start_time": "2025-09-08T12:31:40.214095",
     "status": "completed"
    },
    "tags": []
   },
   "outputs": [],
   "source": [
    "def prepare_generated_russian_phrases_data(base_path):\n",
    "    all_files = []\n",
    "    print(f\"\\\\n--- Сбор данных из Generated Russian Phrases: {base_path} ---\")\n",
    "\n",
    "    for split in [\"train\", \"test\"]:\n",
    "        metadata_file = base_path / f\"{split}.txt\"\n",
    "        wav_folder = base_path / split / \"wav\"\n",
    "\n",
    "        if not metadata_file.exists() or not wav_folder.is_dir():\n",
    "            print(f\"  Предупреждение: Не найден файл {metadata_file} или папка {wav_folder}\")\n",
    "            continue\n",
    "\n",
    "        # Читаем файл с метаданными\n",
    "        with open(metadata_file, 'r', encoding='utf-8') as f:\n",
    "            for line in f:\n",
    "                parts = line.strip().split(' - ')\n",
    "                if len(parts) == 2:\n",
    "                    filename, label_str = parts\n",
    "                    # Присваиваем метку: 1 для 'spoof', 0 для 'bonafide'\n",
    "                    label = 1 if label_str == 'spoof' else 0\n",
    "                    filepath = wav_folder / filename\n",
    "                    if filepath.exists():\n",
    "                        all_files.append({\n",
    "                            \"path\": str(filepath),\n",
    "                            \"label\": label,\n",
    "                            \"language\": \"ru\",\n",
    "                            \"source\": \"gen_russian_phrases\"\n",
    "                        })\n",
    "\n",
    "    if not all_files:\n",
    "        return pd.DataFrame(columns=['path', 'label', 'language', 'source'])\n",
    "    return pd.DataFrame(all_files)"
   ]
  },
  {
   "cell_type": "code",
   "execution_count": 17,
   "id": "283923d6",
   "metadata": {
    "execution": {
     "iopub.execute_input": "2025-09-08T12:31:40.242287Z",
     "iopub.status.busy": "2025-09-08T12:31:40.241878Z",
     "iopub.status.idle": "2025-09-08T12:31:40.247347Z",
     "shell.execute_reply": "2025-09-08T12:31:40.246832Z"
    },
    "papermill": {
     "duration": 0.013596,
     "end_time": "2025-09-08T12:31:40.248366",
     "exception": false,
     "start_time": "2025-09-08T12:31:40.234770",
     "status": "completed"
    },
    "tags": []
   },
   "outputs": [],
   "source": [
    "def prepare_replaydf_data(replaydf_base_path, target_languages={\"en\", \"pl\", \"fr\", \"de\", \"es\", \"it\"}):\n",
    "    all_files = []; wav_path = replaydf_base_path / \"wav\"\n",
    "    if not wav_path.is_dir(): return pd.DataFrame(columns=['path', 'label', 'language', 'source'])\n",
    "    processed_files_count = 0\n",
    "    for uid_folder in tqdm(list(wav_path.iterdir()), desc=\"  ReplayDF UID\", leave=False):\n",
    "        if not uid_folder.is_dir(): continue\n",
    "        for label_type_folder_name, label_val in [(\"benign\", 0), (\"spoof\", 1)]:\n",
    "            attack_type_path = uid_folder / label_type_folder_name\n",
    "            if not attack_type_path.is_dir(): continue\n",
    "            for lang_folder in attack_type_path.iterdir():\n",
    "                if not lang_folder.is_dir(): continue\n",
    "                lang_code_candidate = normalize_lang_code(lang_folder.name)\n",
    "                if lang_code_candidate in target_languages:\n",
    "                    for audio_file in lang_folder.glob('*.wav'):\n",
    "                        if audio_file.is_file():\n",
    "                            all_files.append({\"path\": str(audio_file), \"label\": label_val, \"language\": lang_code_candidate, \"source\": \"replaydf\"}); processed_files_count += 1\n",
    "    if not all_files: return pd.DataFrame(columns=['path', 'label', 'language', 'source'])\n",
    "    return pd.DataFrame(all_files)"
   ]
  },
  {
   "cell_type": "code",
   "execution_count": 18,
   "id": "ec96a5d2",
   "metadata": {
    "execution": {
     "iopub.execute_input": "2025-09-08T12:31:40.262397Z",
     "iopub.status.busy": "2025-09-08T12:31:40.261954Z",
     "iopub.status.idle": "2025-09-08T12:31:40.266588Z",
     "shell.execute_reply": "2025-09-08T12:31:40.265876Z"
    },
    "papermill": {
     "duration": 0.012651,
     "end_time": "2025-09-08T12:31:40.267647",
     "exception": false,
     "start_time": "2025-09-08T12:31:40.254996",
     "status": "completed"
    },
    "tags": []
   },
   "outputs": [],
   "source": [
    "def prepare_asv21bal_replay_data(base_path):\n",
    "    data = []\n",
    "    for label_type, label_val in [(\"real\", 0), (\"fake\", 1)]:\n",
    "        current_data_path = base_path / label_type\n",
    "        if not current_data_path.is_dir(): continue\n",
    "        for ext in [\"*.wav\", \"*.flac\"]:\n",
    "            for filepath in current_data_path.glob(f'**/{ext}'):\n",
    "                 data.append({\"path\": str(filepath), \"label\": label_val, \"language\": \"en\", \"source\": \"asv21bal_replay\"})\n",
    "    if not data: return pd.DataFrame(columns=['path', 'label', 'language', 'source'])\n",
    "    return pd.DataFrame(data)"
   ]
  },
  {
   "cell_type": "code",
   "execution_count": 19,
   "id": "0ae024e2",
   "metadata": {
    "execution": {
     "iopub.execute_input": "2025-09-08T12:31:40.281723Z",
     "iopub.status.busy": "2025-09-08T12:31:40.281328Z",
     "iopub.status.idle": "2025-09-08T12:31:40.286343Z",
     "shell.execute_reply": "2025-09-08T12:31:40.285657Z"
    },
    "papermill": {
     "duration": 0.013229,
     "end_time": "2025-09-08T12:31:40.287377",
     "exception": false,
     "start_time": "2025-09-08T12:31:40.274148",
     "status": "completed"
    },
    "tags": []
   },
   "outputs": [],
   "source": [
    "def prepare_fleurs_hs_pl_data(base_path):\n",
    "    data = []; lang_path = base_path / \"pl_pl\"\n",
    "    if not lang_path.is_dir(): return pd.DataFrame(columns=['path', 'label', 'language', 'source'])\n",
    "    for split in [\"dev\", \"train\", \"test\"]:\n",
    "        split_path = lang_path / split\n",
    "        if not split_path.is_dir(): continue\n",
    "        for label_type, label_val in [(\"real\", 0), (\"fake\", 1)]:\n",
    "            current_data_path = split_path / label_type\n",
    "            if not current_data_path.is_dir(): continue\n",
    "            for filepath in current_data_path.glob('**/*.wav'): \n",
    "                 if filepath.is_file():\n",
    "                    data.append({\"path\": str(filepath), \"label\": label_val, \"language\": \"pl\", \"source\": \"fleurs_hs_pl\"})\n",
    "    if not data: return pd.DataFrame(columns=['path', 'label', 'language', 'source'])\n",
    "    return pd.DataFrame(data)"
   ]
  },
  {
   "cell_type": "code",
   "execution_count": 20,
   "id": "a088d4f5",
   "metadata": {
    "execution": {
     "iopub.execute_input": "2025-09-08T12:31:40.301025Z",
     "iopub.status.busy": "2025-09-08T12:31:40.300654Z",
     "iopub.status.idle": "2025-09-08T12:31:40.305354Z",
     "shell.execute_reply": "2025-09-08T12:31:40.304683Z"
    },
    "papermill": {
     "duration": 0.012677,
     "end_time": "2025-09-08T12:31:40.306500",
     "exception": false,
     "start_time": "2025-09-08T12:31:40.293823",
     "status": "completed"
    },
    "tags": []
   },
   "outputs": [],
   "source": [
    "def prepare_for_rerec_data(base_path):\n",
    "    data = []\n",
    "    for split in [\"training\", \"validation\", \"testing\"]:\n",
    "        split_path = base_path / split\n",
    "        if not split_path.is_dir(): continue\n",
    "        for label_type, label_val in [(\"real\", 0), (\"fake\", 1)]:\n",
    "            current_data_path = split_path / label_type\n",
    "            if not current_data_path.is_dir(): continue\n",
    "            for filepath in current_data_path.glob('**/*.wav'):\n",
    "                 data.append({\"path\": str(filepath), \"label\": label_val, \"language\": \"en\", \"source\": \"for_rerec\"})\n",
    "    if not data: return pd.DataFrame(columns=['path', 'label', 'language', 'source'])\n",
    "    return pd.DataFrame(data)\n"
   ]
  },
  {
   "cell_type": "code",
   "execution_count": 21,
   "id": "67a201e0",
   "metadata": {
    "execution": {
     "iopub.execute_input": "2025-09-08T12:31:40.320384Z",
     "iopub.status.busy": "2025-09-08T12:31:40.319862Z",
     "iopub.status.idle": "2025-09-08T12:52:13.816536Z",
     "shell.execute_reply": "2025-09-08T12:52:13.815713Z"
    },
    "papermill": {
     "duration": 1233.511232,
     "end_time": "2025-09-08T12:52:13.824217",
     "exception": false,
     "start_time": "2025-09-08T12:31:40.312985",
     "status": "completed"
    },
    "tags": []
   },
   "outputs": [
    {
     "name": "stdout",
     "output_type": "stream",
     "text": [
      "--- Загрузка данных из ВСЕХ источников ---\n",
      "\n",
      "--- Сбор данных из MLADDC: /kaggle/input/mladdc-t2/T2 ---\n",
      "  Обработка MLADDC сплита: train\n",
      "  Обработка MLADDC сплита: val\n",
      "  Обработка MLADDC сплита: test\n",
      "Загружено из MLADDC: 136000 файлов\n",
      "\n",
      "--- Сбор данных из Slavic Combined: /kaggle/input/m-ailabs-mlaadru-uk-pl/m_ailabs_mlaad ---\n",
      "  Обработка Slavic Combined сплита: train\n",
      "  Обработка Slavic Combined сплита: val\n",
      "  Обработка Slavic Combined сплита: test\n",
      "Загружено из Slavic Combined: 32000 файлов\n",
      "\n",
      "--- Сбор данных из Pyara: /kaggle/input/pyara/final_dataset ---\n"
     ]
    },
    {
     "data": {
      "application/vnd.jupyter.widget-view+json": {
       "model_id": "629d7ce333a6440ba5b11c1ed3805a93",
       "version_major": 2,
       "version_minor": 0
      },
      "text/plain": [
       "  Обработка файлов Pyara:   0%|          | 0/201778 [00:00<?, ?it/s]"
      ]
     },
     "metadata": {},
     "output_type": "display_data"
    },
    {
     "name": "stdout",
     "output_type": "stream",
     "text": [
      "Загружено из Pyara: 201778 файлов\n",
      "\\n--- Сбор данных из Generated Russian Phrases: /kaggle/input/generated-russian-phrases/Ready_For_Action ---\n",
      "Загружено из Generated Russian Phrases: 25071 файлов\n"
     ]
    },
    {
     "data": {
      "application/vnd.jupyter.widget-view+json": {
       "model_id": "a01c72d16e114d1283b61488bb3a1c39",
       "version_major": 2,
       "version_minor": 0
      },
      "text/plain": [
       "  ReplayDF UID:   0%|          | 0/110 [00:00<?, ?it/s]"
      ]
     },
     "metadata": {},
     "output_type": "display_data"
    },
    {
     "name": "stdout",
     "output_type": "stream",
     "text": [
      "Загружено из ReplayDF: 8800 файлов\n",
      "  Языки в ReplayDF: ['pl' 'en']\n",
      "Загружено из ASVspoof 2021 Balanced Replay: 110468 файлов\n",
      "Загружено из Fleurs-HS (Polish): 7874 файлов\n",
      "  Метки в Fleurs-HS: [0 1]\n",
      "Загружено из FoR-rerec: 13268 файлов\n"
     ]
    }
   ],
   "source": [
    "print(\"--- Загрузка данных из ВСЕХ источников ---\")\n",
    "df_mladdc = prepare_mladdc_data(PATH_MLADDC_T2)\n",
    "print(f\"Загружено из MLADDC: {len(df_mladdc)} файлов\")\n",
    "\n",
    "df_slavic = prepare_slavic_data(PATH_SLAVIC_COMBINED)\n",
    "print(f\"Загружено из Slavic Combined: {len(df_slavic)} файлов\")\n",
    "\n",
    "df_pyara = prepare_pyara_data(PATH_PYARA_BASE, PYARA_METADATA_FILE)\n",
    "print(f\"Загружено из Pyara: {len(df_pyara)} файлов\")\n",
    "\n",
    "df_gen_ru = prepare_generated_russian_phrases_data(PATH_GEN_RU_PHRASES)\n",
    "print(f\"Загружено из Generated Russian Phrases: {len(df_gen_ru)} файлов\")\n",
    "\n",
    "target_replay_langs = {\"en\", \"pl\"} \n",
    "df_replay = prepare_replaydf_data(PATH_REPLAYDF, target_languages=target_replay_langs)\n",
    "print(f\"Загружено из ReplayDF: {len(df_replay)} файлов\")\n",
    "if not df_replay.empty: print(f\"  Языки в ReplayDF: {df_replay['language'].unique()}\")\n",
    "\n",
    "df_asv21_replay = prepare_asv21bal_replay_data(PATH_ASV21_REPLAY_BALANCED)\n",
    "print(f\"Загружено из ASVspoof 2021 Balanced Replay: {len(df_asv21_replay)} файлов\")\n",
    "\n",
    "df_fleurs = prepare_fleurs_hs_pl_data(PATH_FLEURS_HS)\n",
    "print(f\"Загружено из Fleurs-HS (Polish): {len(df_fleurs)} файлов\")\n",
    "if not df_fleurs.empty: print(f\"  Метки в Fleurs-HS: {df_fleurs['label'].unique()}\")\n",
    "\n",
    "df_for = prepare_for_rerec_data(PATH_FOR_REREC_BASE)\n",
    "print(f\"Загружено из FoR-rerec: {len(df_for)} файлов\")"
   ]
  },
  {
   "cell_type": "code",
   "execution_count": 22,
   "id": "6732465e",
   "metadata": {
    "execution": {
     "iopub.execute_input": "2025-09-08T12:52:13.839224Z",
     "iopub.status.busy": "2025-09-08T12:52:13.838989Z",
     "iopub.status.idle": "2025-09-08T12:52:13.847770Z",
     "shell.execute_reply": "2025-09-08T12:52:13.847265Z"
    },
    "papermill": {
     "duration": 0.01752,
     "end_time": "2025-09-08T12:52:13.848888",
     "exception": false,
     "start_time": "2025-09-08T12:52:13.831368",
     "status": "completed"
    },
    "tags": []
   },
   "outputs": [],
   "source": [
    "# --- Добавляем столбец 'attack_type' для каждого датафрейма ---\n",
    "# Цифровые атаки\n",
    "if not df_mladdc.empty: df_mladdc['attack_type'] = 'digital'\n",
    "if not df_slavic.empty: df_slavic['attack_type'] = 'digital'\n",
    "if not df_pyara.empty: df_pyara['attack_type'] = 'digital'\n",
    "if not df_gen_ru.empty: df_gen_ru['attack_type'] = 'digital'\n",
    "\n",
    "# Replay-атаки\n",
    "if not df_replay.empty: df_replay['attack_type'] = 'replay'\n",
    "if not df_asv21_replay.empty: df_asv21_replay['attack_type'] = 'replay'\n",
    "if not df_fleurs.empty: df_fleurs['attack_type'] = 'replay'\n",
    "if not df_for.empty: df_for['attack_type'] = 'replay'"
   ]
  },
  {
   "cell_type": "code",
   "execution_count": 23,
   "id": "d7eb5cec",
   "metadata": {
    "execution": {
     "iopub.execute_input": "2025-09-08T12:52:13.864508Z",
     "iopub.status.busy": "2025-09-08T12:52:13.864268Z",
     "iopub.status.idle": "2025-09-08T12:52:17.671849Z",
     "shell.execute_reply": "2025-09-08T12:52:17.671063Z"
    },
    "papermill": {
     "duration": 3.817121,
     "end_time": "2025-09-08T12:52:17.673120",
     "exception": false,
     "start_time": "2025-09-08T12:52:13.855999",
     "status": "completed"
    },
    "tags": []
   },
   "outputs": [
    {
     "name": "stdout",
     "output_type": "stream",
     "text": [
      "Добавляется MLADDC с 136000 файлами.\n",
      "Добавляется SlavicCombined с 32000 файлами.\n",
      "Добавляется Pyara с 201778 файлами.\n",
      "Добавляется GenRussian с 25071 файлами.\n",
      "Добавляется ReplayDF с 8800 файлами.\n",
      "Добавляется ASV21Replay с 110468 файлами.\n",
      "Добавляется FleursHS с 7874 файлами.\n",
      "Добавляется FoR-rerec с 13268 файлами.\n",
      "\\n--- Общий сырой датасет (до удаления дубликатов) ---\n",
      "Всего файлов: 535259\n",
      "Всего файлов после удаления дубликатов путей: 535259\n",
      "\\nСтатистика объединенного сырого датасета:\n",
      "Распределение по источникам:\n",
      "source\n",
      "pyara                  201778\n",
      "mladdc                 136000\n",
      "asv21bal_replay        110468\n",
      "slavic_combined         32000\n",
      "gen_russian_phrases     25071\n",
      "for_rerec               13268\n",
      "replaydf                 8800\n",
      "fleurs_hs_pl             7874\n",
      "Name: count, dtype: int64\n",
      "\\nРаспределение по языкам (топ 20):\n",
      "language\n",
      "ru    248849\n",
      "en    140136\n",
      "pl     24274\n",
      "fr     12000\n",
      "sv     12000\n",
      "de     12000\n",
      "es     12000\n",
      "pt     12000\n",
      "ar     12000\n",
      "ja     12000\n",
      "vi     12000\n",
      "id     12000\n",
      "uk     10000\n",
      "zh      4000\n",
      "Name: count, dtype: int64\n",
      "\\nРаспределение по меткам:\n",
      "label\n",
      "1    297858\n",
      "0    237401\n",
      "Name: count, dtype: int64\n",
      "label\n",
      "1    0.556475\n",
      "0    0.443525\n",
      "Name: proportion, dtype: float64\n",
      "\\nРаспределение по типам атак:\n",
      "attack_type\n",
      "digital    394849\n",
      "replay     140410\n",
      "Name: count, dtype: int64\n",
      "attack_type\n",
      "digital    0.737678\n",
      "replay     0.262322\n",
      "Name: proportion, dtype: float64\n",
      "\\n--- EDA для Сырого Объединенного Датасета ---\n"
     ]
    },
    {
     "data": {
      "image/png": "[encoded data removed]",
      "text/plain": [
       "<Figure size 1000x600 with 1 Axes>"
      ]
     },
     "metadata": {},
     "output_type": "display_data"
    },
    {
     "data": {
      "image/png": "[encoded data removed]",
      "text/plain": [
       "<Figure size 1200x800 with 1 Axes>"
      ]
     },
     "metadata": {},
     "output_type": "display_data"
    },
    {
     "data": {
      "image/png": "[encoded data removed]",
      "text/plain": [
       "<Figure size 600x400 with 1 Axes>"
      ]
     },
     "metadata": {},
     "output_type": "display_data"
    },
    {
     "data": {
      "image/png": "[encoded data removed]",
      "text/plain": [
       "<Figure size 800x500 with 1 Axes>"
      ]
     },
     "metadata": {},
     "output_type": "display_data"
    },
    {
     "data": {
      "image/png": "[encoded data removed]",
      "text/plain": [
       "<Figure size 1000x600 with 1 Axes>"
      ]
     },
     "metadata": {},
     "output_type": "display_data"
    },
    {
     "data": {
      "text/plain": [
       "8748"
      ]
     },
     "execution_count": 23,
     "metadata": {},
     "output_type": "execute_result"
    }
   ],
   "source": [
    "all_dataframes_list = []\n",
    "for df_name, df_source in [\n",
    "    (\"MLADDC\", df_mladdc), (\"SlavicCombined\", df_slavic), (\"Pyara\", df_pyara),\n",
    "    (\"GenRussian\", df_gen_ru), \n",
    "    (\"ReplayDF\", df_replay), (\"ASV21Replay\", df_asv21_replay),\n",
    "    (\"FleursHS\", df_fleurs), (\"FoR-rerec\", df_for)\n",
    "]:\n",
    "    if df_source is not None and not df_source.empty:\n",
    "        print(f\"Добавляется {df_name} с {len(df_source)} файлами.\")\n",
    "        all_dataframes_list.append(df_source)\n",
    "    else:\n",
    "        print(f\"Датасет {df_name} пуст или не загружен, пропускается.\")\n",
    "\n",
    "if not all_dataframes_list:\n",
    "    print(\"ОШИБКА: Ни один датасет не был успешно загружен. Проверьте пути и функции подготовки.\")\n",
    "    df_all_raw_combined = pd.DataFrame(columns=['path', 'label', 'language', 'source', 'attack_type'])\n",
    "else:\n",
    "    df_all_raw_combined = pd.concat(all_dataframes_list, ignore_index=True)\n",
    "    print(f\"\\\\n--- Общий сырой датасет (до удаления дубликатов) ---\")\n",
    "    print(f\"Всего файлов: {len(df_all_raw_combined)}\")\n",
    "    \n",
    "    df_all_raw_combined.drop_duplicates(subset=['path'], keep='first', inplace=True)\n",
    "    print(f\"Всего файлов после удаления дубликатов путей: {len(df_all_raw_combined)}\")\n",
    "\n",
    "    df_all_raw_combined['language'] = df_all_raw_combined['language'].apply(normalize_lang_code)\n",
    "\n",
    "    print(\"\\\\nСтатистика объединенного сырого датасета:\")\n",
    "    print(\"Распределение по источникам:\")\n",
    "    print(df_all_raw_combined['source'].value_counts())\n",
    "    print(\"\\\\nРаспределение по языкам (топ 20):\")\n",
    "    print(df_all_raw_combined['language'].value_counts().nlargest(20))\n",
    "    print(\"\\\\nРаспределение по меткам:\")\n",
    "    print(df_all_raw_combined['label'].value_counts())\n",
    "    print(df_all_raw_combined['label'].value_counts(normalize=True))\n",
    "    print(\"\\\\nРаспределение по типам атак:\") \n",
    "    print(df_all_raw_combined['attack_type'].value_counts())\n",
    "    print(df_all_raw_combined['attack_type'].value_counts(normalize=True))\n",
    "\n",
    "\n",
    "    print(\"\\\\n--- EDA для Сырого Объединенного Датасета ---\")\n",
    "    \n",
    "    plt.figure(figsize=(10, 6))\n",
    "    sns.countplot(y='source', data=df_all_raw_combined, order=df_all_raw_combined['source'].value_counts().index)\n",
    "    plt.title('Распределение данных по источникам')\n",
    "    plt.xlabel('Количество')\n",
    "    plt.ylabel('Источник')\n",
    "    plt.tight_layout()\n",
    "    plt.savefig(PLOTS_ALL_SAVE_DIR / \"eda_raw_source_distribution.png\")\n",
    "    plt.show()\n",
    "\n",
    "    plt.figure(figsize=(12, 8))\n",
    "    top_n_langs_raw = 15\n",
    "    lang_counts_raw_plot = df_all_raw_combined['language'].value_counts().nlargest(top_n_langs_raw)\n",
    "    sns.barplot(x=lang_counts_raw_plot.index, y=lang_counts_raw_plot.values)\n",
    "    plt.title(f'Топ-{top_n_langs_raw} языков в сыром наборе ({len(df_all_raw_combined)} всего)')\n",
    "    plt.xticks(rotation=45, ha=\"right\")\n",
    "    plt.ylabel('Количество сэмплов')\n",
    "    plt.xlabel('Язык')\n",
    "    plt.tight_layout()\n",
    "    plt.savefig(PLOTS_ALL_SAVE_DIR / \"eda_raw_language_distribution.png\")\n",
    "    plt.show()\n",
    "\n",
    "    plt.figure(figsize=(6, 4))\n",
    "    sns.countplot(x='label', data=df_all_raw_combined)\n",
    "    plt.title('Распределение меток Real (0) / Fake (1)')\n",
    "    plt.xlabel('Метка')\n",
    "    plt.ylabel('Количество')\n",
    "    plt.xticks([0,1], ['Подлинник (0)', 'Фейк (1)'])\n",
    "    plt.tight_layout()\n",
    "    plt.savefig(PLOTS_ALL_SAVE_DIR / \"eda_raw_label_distribution.png\")\n",
    "    plt.show()\n",
    "\n",
    "    plt.figure(figsize=(8, 5))\n",
    "    sns.countplot(x='attack_type', data=df_all_raw_combined)\n",
    "    plt.title('Распределение данных по типам атак')\n",
    "    plt.xlabel('Тип атаки')\n",
    "    plt.ylabel('Количество')\n",
    "    plt.tight_layout()\n",
    "    plt.savefig(PLOTS_ALL_SAVE_DIR / \"eda_attack_type_distribution.png\")\n",
    "    plt.show()\n",
    "\n",
    "    plt.figure(figsize=(10, 6))\n",
    "    sns.countplot(x='attack_type', hue='label', data=df_all_raw_combined)\n",
    "    plt.title('Распределение меток внутри типов атак')\n",
    "    plt.xlabel('Тип атаки')\n",
    "    plt.ylabel('Количество')\n",
    "    plt.legend(title='Метка', labels=['Подлинник (0)', 'Фейк (1)'])\n",
    "    plt.tight_layout()\n",
    "    plt.savefig(PLOTS_ALL_SAVE_DIR / \"eda_attack_type_label_distribution.png\")\n",
    "    plt.show()\n",
    "\n",
    "gc.collect()"
   ]
  },
  {
   "cell_type": "markdown",
   "id": "5cc5be28-e0ad-4175-b33c-d9a6db436df9",
   "metadata": {},
   "source": [
    "Ключевой момент -- цифровые атаки (TTS, клонирование голоса) составляют 73.8% датасета, в то время как replay-атаки -- всего 26.2%. Это значительный перекос. Модель увидит почти в три раза больше примеров цифровых фейков, чем replay-атак. Это может привести к тому, что она станет экспертом по цифровым артефактам, но будет менее эффективна против replay-атак."
   ]
  },
  {
   "cell_type": "markdown",
   "id": "a1048883-d7cd-4c2d-bf64-c1813e651113",
   "metadata": {},
   "source": [
    "## Разделение Данных на Выборки\n",
    "\n",
    "После объединения и анализа сырых данных необходимо разделить их на три части:  \n",
    "* Обучающая: На этих данных модель будет обучаться.\n",
    "* Валидационная: Используется для подбора гиперпараметров и отслеживания качества модели в процессе обучения.\n",
    "* Тестовая: \"Невиданные\" данные, на которых проводится финальная оценка качества обученной модели.\n",
    "\n",
    "Разделение производится с использованием стратификации по языку, метке и типу атаки. Это гарантирует, что распределение классов в обучающей, валидационной и тестовой выборках будет примерно одинаковым, что критически важно для объективной оценки. "
   ]
  },
  {
   "cell_type": "code",
   "execution_count": 24,
   "id": "1f9fd23e",
   "metadata": {
    "execution": {
     "iopub.execute_input": "2025-09-08T12:52:17.694610Z",
     "iopub.status.busy": "2025-09-08T12:52:17.694396Z",
     "iopub.status.idle": "2025-09-08T12:52:20.071895Z",
     "shell.execute_reply": "2025-09-08T12:52:20.071271Z"
    },
    "papermill": {
     "duration": 2.389449,
     "end_time": "2025-09-08T12:52:20.073201",
     "exception": false,
     "start_time": "2025-09-08T12:52:17.683752",
     "status": "completed"
    },
    "tags": []
   },
   "outputs": [
    {
     "name": "stdout",
     "output_type": "stream",
     "text": [
      "\n",
      "--- Разделение df_all_raw_combined (размер: 535259) на сплиты ---\n",
      "Стратификация будет по языку, метке и типу атаки.\n"
     ]
    }
   ],
   "source": [
    "train_df_for_model, val_df_for_model, test_df_for_model = [pd.DataFrame(columns=['path', 'label', 'language', 'source', 'attack_type'])] * 3\n",
    "\n",
    "if 'df_all_raw_combined' in locals() and not df_all_raw_combined.empty:\n",
    "    print(f\"\\n--- Разделение df_all_raw_combined (размер: {len(df_all_raw_combined)}) на сплиты ---\")\n",
    "\n",
    "    current_df_to_split = df_all_raw_combined.copy() \n",
    "    \n",
    "    # Временная колонка для стратификации (по языку, метке и типу атаки)\n",
    "    current_df_to_split['stratify_col'] = current_df_to_split['language'] + \"_\" + \\\n",
    "                                           current_df_to_split['label'].astype(str) + \"_\" + \\\n",
    "                                           current_df_to_split['attack_type']\n",
    "    \n",
    "    stratify_on = None\n",
    "    # Проверяем, достаточно ли данных для сложной стратификации\n",
    "    if current_df_to_split['stratify_col'].nunique() > 1 and \\\n",
    "       current_df_to_split['stratify_col'].value_counts().min() >= 2:\n",
    "        stratify_on = current_df_to_split['stratify_col']\n",
    "        print(\"Стратификация будет по языку, метке и типу атаки.\")\n",
    "    # Если нет, пробуем стратифицировать только по метке\n",
    "    elif current_df_to_split['label'].nunique() > 1 and \\\n",
    "         current_df_to_split['label'].value_counts().min() >= 2:\n",
    "        stratify_on = current_df_to_split['label']\n",
    "        print(\"Стратификация будет только по метке.\")\n",
    "    else:\n",
    "        print(\"Невозможно выполнить стратификацию, разделение без нее.\")\n",
    "\n",
    "    # Отделяем тестовый набор\n",
    "    if len(current_df_to_split) * FINAL_ALL_TEST_SIZE >= 2 and FINAL_ALL_TEST_SIZE > 0:\n",
    "        remaining_df, test_df_for_model = train_test_split(\n",
    "            current_df_to_split,\n",
    "            test_size=FINAL_ALL_TEST_SIZE,\n",
    "            random_state=seed,\n",
    "            stratify=stratify_on\n",
    "        )\n",
    "    else:\n",
    "        print(f\"  Недостаточно данных для тестового сплита или FINAL_ALL_TEST_SIZE=0.\")\n",
    "        remaining_df = current_df_to_split.copy()\n",
    "        test_df_for_model = pd.DataFrame(columns=current_df_to_split.columns) # Создаем пустой df\n",
    "\n",
    "    # Определяем стратификацию для оставшихся данных (train/val)\n",
    "    stratify_on_remaining = None\n",
    "    if 'stratify_col' in remaining_df.columns: \n",
    "        if remaining_df['stratify_col'].nunique() > 1 and \\\n",
    "           remaining_df['stratify_col'].value_counts().min() >= 2:\n",
    "            stratify_on_remaining = remaining_df['stratify_col']\n",
    "        elif remaining_df['label'].nunique() > 1 and \\\n",
    "             remaining_df['label'].value_counts().min() >= 2:\n",
    "            stratify_on_remaining = remaining_df['label']\n",
    "            \n",
    "    # Отделяем валидационный набор из оставшихся данных\n",
    "    if len(remaining_df) > 0 and FINAL_ALL_VAL_SIZE > 0:\n",
    "        # Пересчитываем долю для валидации относительно оставшихся данных\n",
    "        denominator = (1.0 - FINAL_ALL_TEST_SIZE) if FINAL_ALL_TEST_SIZE < 1.0 and FINAL_ALL_TEST_SIZE > 0 else 1.0\n",
    "        if denominator <= 0: denominator = 1.0\n",
    "        relative_val = FINAL_ALL_VAL_SIZE / denominator\n",
    "        \n",
    "        if len(remaining_df) * relative_val >= 2 and 0 < relative_val < 1:\n",
    "            train_df_for_model, val_df_for_model = train_test_split(\n",
    "                remaining_df,\n",
    "                test_size=relative_val,\n",
    "                random_state=seed,\n",
    "                stratify=stratify_on_remaining\n",
    "            )\n",
    "        else:\n",
    "            print(f\"  Недостаточно данных/некорректный размер для валидационного сплита. Train будет всем остатком.\")\n",
    "            train_df_for_model = remaining_df.copy()\n",
    "            val_df_for_model = pd.DataFrame(columns=remaining_df.columns) # Создаем пустой df\n",
    "    else:\n",
    "        print(f\"  Оставшийся DataFrame пуст или FINAL_ALL_VAL_SIZE=0. Train будет всем остатком.\")\n",
    "        train_df_for_model = remaining_df.copy()\n",
    "        val_df_for_model = pd.DataFrame(columns=remaining_df.columns) # Создаем пустой df\n",
    "\n",
    "    # Удаляем временную колонку стратификации\n",
    "    for df_ in [train_df_for_model, val_df_for_model, test_df_for_model, current_df_to_split]:\n",
    "        if 'stratify_col' in df_.columns:\n",
    "            df_.drop(columns=['stratify_col'], inplace=True, errors='ignore')"
   ]
  },
  {
   "cell_type": "code",
   "execution_count": 25,
   "id": "7fbf6e11",
   "metadata": {
    "execution": {
     "iopub.execute_input": "2025-09-08T12:52:20.095215Z",
     "iopub.status.busy": "2025-09-08T12:52:20.094946Z",
     "iopub.status.idle": "2025-09-08T12:52:20.099393Z",
     "shell.execute_reply": "2025-09-08T12:52:20.098697Z"
    },
    "papermill": {
     "duration": 0.01628,
     "end_time": "2025-09-08T12:52:20.100485",
     "exception": false,
     "start_time": "2025-09-08T12:52:20.084205",
     "status": "completed"
    },
    "tags": []
   },
   "outputs": [
    {
     "name": "stdout",
     "output_type": "stream",
     "text": [
      "\\nРазмеры финальных сплитов для модели:\n",
      "Train: 374681\n",
      "Validation: 80289\n",
      "Test: 80289\n"
     ]
    }
   ],
   "source": [
    "print(f\"\\\\nРазмеры финальных сплитов для модели:\")\n",
    "print(f\"Train: {len(train_df_for_model)}\")\n",
    "print(f\"Validation: {len(val_df_for_model)}\")\n",
    "print(f\"Test: {len(test_df_for_model)}\")"
   ]
  },
  {
   "cell_type": "code",
   "execution_count": 26,
   "id": "97851ea3",
   "metadata": {
    "execution": {
     "iopub.execute_input": "2025-09-08T12:52:20.120829Z",
     "iopub.status.busy": "2025-09-08T12:52:20.120611Z",
     "iopub.status.idle": "2025-09-08T12:52:22.187848Z",
     "shell.execute_reply": "2025-09-08T12:52:22.186700Z"
    },
    "papermill": {
     "duration": 2.079086,
     "end_time": "2025-09-08T12:52:22.189304",
     "exception": false,
     "start_time": "2025-09-08T12:52:20.110218",
     "status": "completed"
    },
    "tags": []
   },
   "outputs": [
    {
     "name": "stdout",
     "output_type": "stream",
     "text": [
      "train_df_final_combined.csv сохранен.\n",
      "val_df_final_combined.csv сохранен.\n",
      "test_df_final_combined.csv сохранен.\n",
      "\\n--- Статистика для 'Train Model' ---\n",
      "Распределение классов (0 - Подлинник, 1 - Фейк):\n",
      "label\n",
      "1    0.556476\n",
      "0    0.443524\n",
      "Name: proportion, dtype: float64\n",
      "Топ 10 языков:\n",
      "language\n",
      "ru    0.464913\n",
      "en    0.261812\n",
      "pl    0.045348\n",
      "ar    0.022419\n",
      "de    0.022419\n",
      "id    0.022419\n",
      "sv    0.022419\n",
      "vi    0.022419\n",
      "ja    0.022419\n",
      "fr    0.022419\n",
      "Name: proportion, dtype: float64\n",
      "Типы атак:\n",
      "attack_type\n",
      "digital    0.737678\n",
      "replay     0.262322\n",
      "Name: proportion, dtype: float64\n",
      "\\n--- Статистика для 'Val Model' ---\n",
      "Распределение классов (0 - Подлинник, 1 - Фейк):\n",
      "label\n",
      "1    0.556465\n",
      "0    0.443535\n",
      "Name: proportion, dtype: float64\n",
      "Топ 10 языков:\n",
      "language\n",
      "ru    0.464920\n",
      "en    0.261804\n",
      "pl    0.045349\n",
      "vi    0.022419\n",
      "id    0.022419\n",
      "de    0.022419\n",
      "ar    0.022419\n",
      "pt    0.022419\n",
      "ja    0.022419\n",
      "fr    0.022419\n",
      "Name: proportion, dtype: float64\n",
      "Типы атак:\n",
      "attack_type\n",
      "digital    0.737685\n",
      "replay     0.262315\n",
      "Name: proportion, dtype: float64\n",
      "\\n--- Статистика для 'Test Model' ---\n",
      "Распределение классов (0 - Подлинник, 1 - Фейк):\n",
      "label\n",
      "1    0.556477\n",
      "0    0.443523\n",
      "Name: proportion, dtype: float64\n",
      "Топ 10 языков:\n",
      "language\n",
      "ru    0.464908\n",
      "en    0.261804\n",
      "pl    0.045361\n",
      "fr    0.022419\n",
      "vi    0.022419\n",
      "ja    0.022419\n",
      "de    0.022419\n",
      "ar    0.022419\n",
      "sv    0.022419\n",
      "es    0.022419\n",
      "Name: proportion, dtype: float64\n",
      "Типы атак:\n",
      "attack_type\n",
      "digital    0.737673\n",
      "replay     0.262327\n",
      "Name: proportion, dtype: float64\n"
     ]
    }
   ],
   "source": [
    "if not train_df_for_model.empty:\n",
    "    train_df_for_model.to_csv(\"/kaggle/working/train_df_final_combined.csv\", index=False)\n",
    "    print(\"train_df_final_combined.csv сохранен.\")\n",
    "if not val_df_for_model.empty:\n",
    "    val_df_for_model.to_csv(\"/kaggle/working/val_df_final_combined.csv\", index=False)\n",
    "    print(\"val_df_final_combined.csv сохранен.\")\n",
    "if not test_df_for_model.empty:\n",
    "    test_df_for_model.to_csv(\"/kaggle/working/test_df_final_combined.csv\", index=False)\n",
    "    print(\"test_df_final_combined.csv сохранен.\")\n",
    "\n",
    "for name, df_ in [(\"Train Model\", train_df_for_model), (\"Val Model\", val_df_for_model), (\"Test Model\", test_df_for_model)]:\n",
    "    if not df_.empty:\n",
    "        print(f\"\\\\n--- Статистика для '{name}' ---\")\n",
    "        print(\"Распределение классов (0 - Подлинник, 1 - Фейк):\"); print(df_['label'].value_counts(normalize=True))\n",
    "        print(f\"Топ 10 языков:\"); print(df_['language'].value_counts(normalize=True).nlargest(10))\n",
    "        print(f\"Типы атак:\"); print(df_['attack_type'].value_counts(normalize=True))\n"
   ]
  },
  {
   "cell_type": "code",
   "execution_count": 27,
   "id": "cb4d7a6b",
   "metadata": {
    "execution": {
     "iopub.execute_input": "2025-09-08T12:52:22.210876Z",
     "iopub.status.busy": "2025-09-08T12:52:22.210647Z",
     "iopub.status.idle": "2025-09-08T12:52:24.738374Z",
     "shell.execute_reply": "2025-09-08T12:52:24.737622Z"
    },
    "papermill": {
     "duration": 2.53978,
     "end_time": "2025-09-08T12:52:24.739572",
     "exception": false,
     "start_time": "2025-09-08T12:52:22.199792",
     "status": "completed"
    },
    "tags": []
   },
   "outputs": [
    {
     "data": {
      "image/png": "[encoded data removed]",
      "text/plain": [
       "<Figure size 800x500 with 1 Axes>"
      ]
     },
     "metadata": {},
     "output_type": "display_data"
    },
    {
     "data": {
      "image/png": "[encoded data removed]",
      "text/plain": [
       "<Figure size 800x500 with 1 Axes>"
      ]
     },
     "metadata": {},
     "output_type": "display_data"
    },
    {
     "data": {
      "image/png": "[encoded data removed]",
      "text/plain": [
       "<Figure size 1200x600 with 1 Axes>"
      ]
     },
     "metadata": {},
     "output_type": "display_data"
    },
    {
     "data": {
      "text/plain": [
       "8235"
      ]
     },
     "execution_count": 27,
     "metadata": {},
     "output_type": "execute_result"
    }
   ],
   "source": [
    "if not train_df_for_model.empty: train_df_for_model['split'] = 'train'\n",
    "if not val_df_for_model.empty: val_df_for_model['split'] = 'validation'\n",
    "if not test_df_for_model.empty: test_df_for_model['split'] = 'test'\n",
    "\n",
    "df_for_plotting = pd.concat([train_df_for_model, val_df_for_model, test_df_for_model], ignore_index=True)\n",
    "\n",
    "if not df_for_plotting.empty:\n",
    "    # 1. График распределения меток (label)\n",
    "    plt.figure(figsize=(8, 5))\n",
    "    sns.countplot(data=df_for_plotting, x='label', hue='split', hue_order=['train', 'validation', 'test'])\n",
    "    plt.title('Распределение меток (0: Подлинник, 1: Фейк) по сплитам')\n",
    "    plt.xlabel('Метка')\n",
    "    plt.ylabel('Количество')\n",
    "    plt.xticks([0, 1], ['Подлинник (0)', 'Фейк (1)'])\n",
    "    plt.tight_layout()\n",
    "    plt.savefig(PLOTS_ALL_SAVE_DIR / \"eda_splits_label_distribution.png\")\n",
    "    plt.show()\n",
    "\n",
    "    # 2. График распределения типов атак (attack_type)\n",
    "    plt.figure(figsize=(8, 5))\n",
    "    sns.countplot(data=df_for_plotting, x='attack_type', hue='split', hue_order=['train', 'validation', 'test'])\n",
    "    plt.title('Распределение типов атак по сплитам')\n",
    "    plt.xlabel('Тип атаки')\n",
    "    plt.ylabel('Количество')\n",
    "    plt.tight_layout()\n",
    "    plt.savefig(PLOTS_ALL_SAVE_DIR / \"eda_splits_attack_type_distribution.png\")\n",
    "    plt.show()\n",
    "\n",
    "    # 3. График распределения языков (language) - топ 10\n",
    "    top_10_langs = train_df_for_model['language'].value_counts().nlargest(10).index\n",
    "    plt.figure(figsize=(12, 6))\n",
    "    sns.countplot(data=df_for_plotting[df_for_plotting['language'].isin(top_10_langs)], \n",
    "                  x='language', hue='split', order=top_10_langs, hue_order=['train', 'validation', 'test'])\n",
    "    plt.title('Распределение Топ-10 языков по сплитам')\n",
    "    plt.xlabel('Язык')\n",
    "    plt.ylabel('Количество')\n",
    "    plt.xticks(rotation=45, ha='right')\n",
    "    plt.tight_layout()\n",
    "    plt.savefig(PLOTS_ALL_SAVE_DIR / \"eda_splits_language_distribution.png\")\n",
    "    plt.show()\n",
    "\n",
    "if 'split' in train_df_for_model.columns: train_df_for_model.drop(columns='split', inplace=True)\n",
    "if 'split' in val_df_for_model.columns: val_df_for_model.drop(columns='split', inplace=True)\n",
    "if 'split' in test_df_for_model.columns: test_df_for_model.drop(columns='split', inplace=True)\n",
    "gc.collect()"
   ]
  },
  {
   "cell_type": "markdown",
   "id": "3435c01f-54f2-4edf-a50b-e93b7549fe62",
   "metadata": {},
   "source": [
    "Наш кастомный класс, который по индексу загружает аудиофайл, приводит его к нужной частоте дискретизации, обрезает или дополняет до фиксированной длины и возвращает тензор с аудио и его метку"
   ]
  },
  {
   "cell_type": "code",
   "execution_count": 28,
   "id": "6d51e490",
   "metadata": {
    "execution": {
     "iopub.execute_input": "2025-09-08T12:52:24.765716Z",
     "iopub.status.busy": "2025-09-08T12:52:24.765474Z",
     "iopub.status.idle": "2025-09-08T12:52:24.773737Z",
     "shell.execute_reply": "2025-09-08T12:52:24.773222Z"
    },
    "papermill": {
     "duration": 0.022232,
     "end_time": "2025-09-08T12:52:24.774783",
     "exception": false,
     "start_time": "2025-09-08T12:52:24.752551",
     "status": "completed"
    },
    "tags": []
   },
   "outputs": [],
   "source": [
    "class CombinedAudioDataset(Dataset):\n",
    "    def __init__(self, dataframe, num_samples, target_sample_rate=SAMPLE_RATE, transform=None):\n",
    "        super().__init__()\n",
    "        if not isinstance(dataframe, pd.DataFrame) or not {'path', 'label'}.issubset(dataframe.columns):\n",
    "             raise ValueError(\"Input 'dataframe' должен быть pandas DataFrame с колонками 'path' и 'label'.\")\n",
    "\n",
    "        self.paths = dataframe['path'].tolist()\n",
    "        self.labels = dataframe['label'].tolist()\n",
    "        self.num_samples = num_samples\n",
    "        self.target_sample_rate = target_sample_rate\n",
    "        self.transform = transform\n",
    "        self.resampler_cache = {}\n",
    "\n",
    "        print(f\"CombinedAudioDataset создан с {len(self.paths)} сэмплами.\")\n",
    "\n",
    "\n",
    "    def __len__(self):\n",
    "        return len(self.paths)\n",
    "\n",
    "    def __getitem__(self, index):\n",
    "        audio_path = self.paths[index]\n",
    "        label = self.labels[index]\n",
    "        try:\n",
    "            signal, sr = torchaudio.load(audio_path)\n",
    "            if sr != self.target_sample_rate:\n",
    "                if sr not in self.resampler_cache:\n",
    "                    self.resampler_cache[sr] = torchaudio.transforms.Resample(sr, self.target_sample_rate, dtype=signal.dtype)\n",
    "                signal = self.resampler_cache[sr](signal)\n",
    "            if signal.shape[0] > 1:\n",
    "                signal = torch.mean(signal, dim=0, keepdim=True)\n",
    "            signal = self._cut_or_pad(signal)\n",
    "            signal = signal.squeeze(0) # Убираем размерность канала -> [num_samples]\n",
    "            if self.transform:\n",
    "                signal = self.transform(signal.unsqueeze(0)).squeeze(0)\n",
    "            return signal, label\n",
    "        except Exception as e:\n",
    "            # print(f\"Ошибка загрузки/обработки файла {audio_path}: {e}\") # Раскомментировать для отладки\n",
    "            return None, None # Важно для collate_fn\n",
    "\n",
    "    def _cut_or_pad(self, signal):\n",
    "        length = signal.shape[1]\n",
    "        if length > self.num_samples:\n",
    "            max_start = length - self.num_samples\n",
    "            start = random.randint(0, max_start)\n",
    "            signal = signal[:, start:start + self.num_samples]\n",
    "        elif length < self.num_samples:\n",
    "            pad_last_dim = (0, self.num_samples - length)\n",
    "            signal = torch.nn.functional.pad(signal, pad_last_dim)\n",
    "        return signal"
   ]
  },
  {
   "cell_type": "markdown",
   "id": "71d56b84-0e18-49b4-b3c2-3f2425d05271",
   "metadata": {},
   "source": [
    "Вспомогательная функция для обработки ошибок загрузки файлов и формирования батчей"
   ]
  },
  {
   "cell_type": "code",
   "execution_count": 29,
   "id": "8de98f32",
   "metadata": {
    "execution": {
     "iopub.execute_input": "2025-09-08T12:52:24.798641Z",
     "iopub.status.busy": "2025-09-08T12:52:24.798421Z",
     "iopub.status.idle": "2025-09-08T12:52:24.802904Z",
     "shell.execute_reply": "2025-09-08T12:52:24.802371Z"
    },
    "papermill": {
     "duration": 0.017735,
     "end_time": "2025-09-08T12:52:24.803921",
     "exception": false,
     "start_time": "2025-09-08T12:52:24.786186",
     "status": "completed"
    },
    "tags": []
   },
   "outputs": [],
   "source": [
    "def collate_fn_custom(batch):\n",
    "    batch = [b for b in batch if b is not None and b[0] is not None and b[1] is not None]\n",
    "    if not batch:\n",
    "        return None, None # Если батч пуст после фильтрации\n",
    "\n",
    "    signals, labels = zip(*batch)\n",
    "    try:\n",
    "        signals = torch.stack(signals)\n",
    "    except Exception as e:\n",
    "        print(f\"Ошибка при стакинге сигналов в collate_fn: {e}\")\n",
    "        return None, None\n",
    "    labels = torch.tensor(labels, dtype=torch.float)\n",
    "    return signals, labels"
   ]
  },
  {
   "cell_type": "code",
   "execution_count": 30,
   "id": "53386a7c",
   "metadata": {
    "execution": {
     "iopub.execute_input": "2025-09-08T12:52:24.827913Z",
     "iopub.status.busy": "2025-09-08T12:52:24.827695Z",
     "iopub.status.idle": "2025-09-08T12:52:25.139877Z",
     "shell.execute_reply": "2025-09-08T12:52:25.139142Z"
    },
    "papermill": {
     "duration": 0.325536,
     "end_time": "2025-09-08T12:52:25.140999",
     "exception": false,
     "start_time": "2025-09-08T12:52:24.815463",
     "status": "completed"
    },
    "tags": []
   },
   "outputs": [
    {
     "name": "stdout",
     "output_type": "stream",
     "text": [
      "CombinedAudioDataset создан с 374681 сэмплами.\n",
      "\n",
      "Train Dataset (final combined) создан: 374681 сэмплов.\n",
      "Для Final Combined Train используется WeightedRandomSampler. Веса: [1.12733482 0.89851128]\n",
      "Train DataLoader (final combined) создан: ~11708 батчей.\n",
      "CombinedAudioDataset создан с 80289 сэмплами.\n",
      "Validation DataLoader (final combined) создан: 2510 батчей.\n",
      "CombinedAudioDataset создан с 80289 сэмплами.\n",
      "Test DataLoader (final combined) создан: 2510 батчей.\n"
     ]
    },
    {
     "data": {
      "text/plain": [
       "0"
      ]
     },
     "execution_count": 30,
     "metadata": {},
     "output_type": "execute_result"
    }
   ],
   "source": [
    "train_loader_final_combined, val_loader_final_combined, test_loader_final_combined = None, None, None\n",
    "sampler_final_combined_train = None\n",
    "\n",
    "if 'train_df_for_model' in locals() and not train_df_for_model.empty:\n",
    "    train_dataset_final_combined = CombinedAudioDataset(train_df_for_model, NUM_SAMPLES, SAMPLE_RATE)\n",
    "    print(f\"\\nTrain Dataset (final combined) создан: {len(train_dataset_final_combined)} сэмплов.\")\n",
    "    \n",
    "    if train_dataset_final_combined and len(train_dataset_final_combined.labels) > 0:\n",
    "        labels_arr = np.array(train_dataset_final_combined.labels).astype(int)\n",
    "        counts = np.bincount(labels_arr)\n",
    "        if len(counts) > 1 and np.all(counts > 0):\n",
    "            weights_val = len(labels_arr) / (len(counts) * counts)\n",
    "            sample_w = weights_val[labels_arr]\n",
    "            sampler_final_combined_train = WeightedRandomSampler(torch.from_numpy(sample_w).double(), len(sample_w), replacement=True)\n",
    "            print(f\"Для Final Combined Train используется WeightedRandomSampler. Веса: {weights_val}\")\n",
    "        else:\n",
    "            print(f\"WeightedRandomSampler для Final Combined Train не используется. Распределение: {counts}\")\n",
    "            \n",
    "    train_loader_final_combined = DataLoader(\n",
    "        train_dataset_final_combined, batch_size=FINAL_ALL_BATCH_SIZE, sampler=sampler_final_combined_train,\n",
    "        collate_fn=collate_fn_custom, num_workers=NUM_WORKERS, pin_memory=(device.type == 'cuda'),\n",
    "        shuffle=(sampler_final_combined_train is None), drop_last=(sampler_final_combined_train is not None)\n",
    "    )\n",
    "    if train_loader_final_combined: print(f\"Train DataLoader (final combined) создан: ~{len(train_loader_final_combined)} батчей.\")\n",
    "else:\n",
    "    print(\"train_df_for_model пуст. Train DataLoader (final combined) не создан.\")\n",
    "\n",
    "if 'val_df_for_model' in locals() and not val_df_for_model.empty:\n",
    "    val_dataset_final_combined = CombinedAudioDataset(val_df_for_model, NUM_SAMPLES, SAMPLE_RATE)\n",
    "    val_loader_final_combined = DataLoader(\n",
    "        val_dataset_final_combined, batch_size=FINAL_ALL_BATCH_SIZE, shuffle=False,\n",
    "        collate_fn=collate_fn_custom, num_workers=NUM_WORKERS, pin_memory=(device.type == 'cuda')\n",
    "    )\n",
    "    if val_loader_final_combined: print(f\"Validation DataLoader (final combined) создан: {len(val_loader_final_combined)} батчей.\")\n",
    "else:\n",
    "    print(\"val_df_for_model пуст. Validation DataLoader (final combined) не создан.\")\n",
    "\n",
    "if 'test_df_for_model' in locals() and not test_df_for_model.empty:\n",
    "    test_dataset_final_combined = CombinedAudioDataset(test_df_for_model, NUM_SAMPLES, SAMPLE_RATE)\n",
    "    test_loader_final_combined = DataLoader(\n",
    "        test_dataset_final_combined, batch_size=FINAL_ALL_BATCH_SIZE, shuffle=False,\n",
    "        collate_fn=collate_fn_custom, num_workers=NUM_WORKERS, pin_memory=(device.type == 'cuda')\n",
    "    )\n",
    "    if test_loader_final_combined: print(f\"Test DataLoader (final combined) создан: {len(test_loader_final_combined)} батчей.\")\n",
    "else:\n",
    "    print(\"test_df_for_model пуст. Test DataLoader (final combined) не создан.\")\n",
    "\n",
    "gc.collect()"
   ]
  },
  {
   "cell_type": "markdown",
   "id": "b267d877-d020-4055-88d8-7e8a3ff2189a",
   "metadata": {},
   "source": [
    "## Инициализация и подготовка модели к обучению"
   ]
  },
  {
   "cell_type": "markdown",
   "id": "98559bc4-3792-4706-83d5-5f3b3947773b",
   "metadata": {},
   "source": [
    "Создаем экземпляр нашей модели CustomWavLMForClassification, (до)загружаем веса модели, в качестве функции потерь используем бинарную кросс-энтропию, а также определеям оптимизатор и планировщик"
   ]
  },
  {
   "cell_type": "code",
   "execution_count": 31,
   "id": "5a424909",
   "metadata": {
    "execution": {
     "iopub.execute_input": "2025-09-08T12:52:25.166842Z",
     "iopub.status.busy": "2025-09-08T12:52:25.166607Z",
     "iopub.status.idle": "2025-09-08T12:52:57.451674Z",
     "shell.execute_reply": "2025-09-08T12:52:57.450689Z"
    },
    "papermill": {
     "duration": 32.315485,
     "end_time": "2025-09-08T12:52:57.469100",
     "exception": false,
     "start_time": "2025-09-08T12:52:25.153615",
     "status": "completed"
    },
    "tags": []
   },
   "outputs": [
    {
     "name": "stdout",
     "output_type": "stream",
     "text": [
      "Инициализация CustomWavLMForClassification с HuggingFace чекпоинтом: microsoft/wavlm-base\n"
     ]
    },
    {
     "data": {
      "application/vnd.jupyter.widget-view+json": {
       "model_id": "53b81aee54d94a739c5925fcf43766ee",
       "version_major": 2,
       "version_minor": 0
      },
      "text/plain": [
       "config.json: 0.00B [00:00, ?B/s]"
      ]
     },
     "metadata": {},
     "output_type": "display_data"
    },
    {
     "name": "stderr",
     "output_type": "stream",
     "text": [
      "2025-09-08 12:52:30.842459: E external/local_xla/xla/stream_executor/cuda/cuda_fft.cc:477] Unable to register cuFFT factory: Attempting to register factory for plugin cuFFT when one has already been registered\n",
      "WARNING: All log messages before absl::InitializeLog() is called are written to STDERR\n",
      "E0000 00:00:1757335951.039039      19 cuda_dnn.cc:8310] Unable to register cuDNN factory: Attempting to register factory for plugin cuDNN when one has already been registered\n",
      "E0000 00:00:1757335951.095888      19 cuda_blas.cc:1418] Unable to register cuBLAS factory: Attempting to register factory for plugin cuBLAS when one has already been registered\n"
     ]
    },
    {
     "data": {
      "application/vnd.jupyter.widget-view+json": {
       "model_id": "4f365084763148a9b9723d3d98752169",
       "version_major": 2,
       "version_minor": 0
      },
      "text/plain": [
       "pytorch_model.bin:   0%|          | 0.00/378M [00:00<?, ?B/s]"
      ]
     },
     "metadata": {},
     "output_type": "display_data"
    },
    {
     "name": "stdout",
     "output_type": "stream",
     "text": [
      "\n",
      "Загрузка весов из базовой модели: /kaggle/input/wavlm_asvspoof21/pytorch/default/1/training_checkpoint(1).pth\n"
     ]
    },
    {
     "data": {
      "application/vnd.jupyter.widget-view+json": {
       "model_id": "8750e81e553449fcb98d7830a1fbe0c5",
       "version_major": 2,
       "version_minor": 0
      },
      "text/plain": [
       "model.safetensors:   0%|          | 0.00/378M [00:00<?, ?B/s]"
      ]
     },
     "metadata": {},
     "output_type": "display_data"
    },
    {
     "name": "stdout",
     "output_type": "stream",
     "text": [
      "Веса из /kaggle/input/wavlm_asvspoof21/pytorch/default/1/training_checkpoint(1).pth успешно загружены в модель для финального обучения.\n",
      "Для Final All Data используется BCEWithLogitsLoss с pos_weight = 0.7970\n",
      "\n",
      "Модель готова к дообучению на ФИНАЛЬНОМ ОБЪЕДИНЕННОМ датасете.\n"
     ]
    },
    {
     "name": "stderr",
     "output_type": "stream",
     "text": [
      "/tmp/ipykernel_19/1536637185.py:31: FutureWarning: `torch.cuda.amp.GradScaler(args...)` is deprecated. Please use `torch.amp.GradScaler('cuda', args...)` instead.\n",
      "  scaler_final_all = torch.cuda.amp.GradScaler(enabled=(device.type == 'cuda'))\n"
     ]
    }
   ],
   "source": [
    "model_final_all_data = CustomWavLMForClassification(checkpoint_hf=MODEL_CHECKPOINT_HF).to(device)\n",
    "\n",
    "if BASE_MODEL_CHECKPOINT_PATH.exists(): \n",
    "    print(f\"\\nЗагрузка весов из базовой модели: {BASE_MODEL_CHECKPOINT_PATH}\")\n",
    "    try:\n",
    "        base_model_state = torch.load(BASE_MODEL_CHECKPOINT_PATH, map_location=device, weights_only=False) \n",
    "        if 'model_state_dict' in base_model_state:\n",
    "            model_final_all_data.load_state_dict(base_model_state['model_state_dict'], strict=False)\n",
    "        else:\n",
    "            model_final_all_data.load_state_dict(base_model_state, strict=False)\n",
    "        print(f\"Веса из {BASE_MODEL_CHECKPOINT_PATH} успешно загружены в модель для финального обучения.\")\n",
    "    except Exception as e:\n",
    "        print(f\"Ошибка при загрузке весов из {BASE_MODEL_CHECKPOINT_PATH}: {e}\")\n",
    "        print(\"Модель будет использовать веса, инициализированные из Hugging Face.\")\n",
    "else:\n",
    "    print(f\"Файл базовой модели {BASE_MODEL_CHECKPOINT_PATH} не найден. Модель будет с Hugging Face весами.\")\n",
    "\n",
    "criterion_final_all = nn.BCEWithLogitsLoss()\n",
    "if 'train_df_for_model' in locals() and not train_df_for_model.empty:\n",
    "    real_c = (train_df_for_model['label'] == 0).sum()\n",
    "    fake_c = (train_df_for_model['label'] == 1).sum()\n",
    "    if fake_c > 0 and real_c > 0:\n",
    "        pos_w = real_c / fake_c\n",
    "        if not (0.95 < pos_w < 1.05): \n",
    "            criterion_final_all = nn.BCEWithLogitsLoss(pos_weight=torch.tensor([pos_w], device=device))\n",
    "            print(f\"Для Final All Data используется BCEWithLogitsLoss с pos_weight = {pos_w:.4f}\")\n",
    "        else:\n",
    "            print(f\"Для Final All Data используется BCEWithLogitsLoss (pos_weight ~1.0).\")\n",
    "\n",
    "optimizer_final_all = optim.AdamW(model_final_all_data.parameters(), lr=FINAL_ALL_LEARNING_RATE, weight_decay=FINAL_ALL_WEIGHT_DECAY)\n",
    "scaler_final_all = torch.cuda.amp.GradScaler(enabled=(device.type == 'cuda'))\n",
    "scheduler_final_all = optim.lr_scheduler.ReduceLROnPlateau(optimizer_final_all, mode='min', factor=0.2, patience=1, verbose=True)\n",
    "\n",
    "print(f\"\\nМодель готова к дообучению на ФИНАЛЬНОМ ОБЪЕДИНЕННОМ датасете.\")"
   ]
  },
  {
   "cell_type": "code",
   "execution_count": 32,
   "id": "d844533d",
   "metadata": {
    "execution": {
     "iopub.execute_input": "2025-09-08T12:52:57.505176Z",
     "iopub.status.busy": "2025-09-08T12:52:57.504335Z",
     "iopub.status.idle": "2025-09-08T12:52:57.517055Z",
     "shell.execute_reply": "2025-09-08T12:52:57.516271Z"
    },
    "papermill": {
     "duration": 0.032673,
     "end_time": "2025-09-08T12:52:57.519107",
     "exception": false,
     "start_time": "2025-09-08T12:52:57.486434",
     "status": "completed"
    },
    "tags": []
   },
   "outputs": [],
   "source": [
    "def train_epoch_custom(model, dataloader, criterion, optimizer, device, scaler, accumulation_steps, current_epoch_display=\"\"):\n",
    "    model.train()\n",
    "    train_loss_epoch = 0.0\n",
    "    train_outputs_epoch = []\n",
    "    train_labels_epoch = []\n",
    "    batches_processed_train = 0\n",
    "    desc_str = f\"Тренировка Эпоха {current_epoch_display}\"\n",
    "    train_pbar = tqdm(enumerate(dataloader), total=len(dataloader), desc=desc_str, leave=False)\n",
    "    optimizer.zero_grad()\n",
    "\n",
    "    for i, batch in train_pbar:\n",
    "        if batch is None or batch[0] is None or batch[1] is None:\n",
    "            # print(f\"Пропущен невалидный батч {i} в train_epoch_custom\")\n",
    "            continue\n",
    "        waveforms, labels = batch \n",
    "        waveforms = waveforms.to(device)\n",
    "        labels = labels.to(device)\n",
    "\n",
    "        with torch.autocast(device_type=device.type, dtype=torch.float16 if device.type == 'cuda' else torch.bfloat16, enabled=scaler.is_enabled()):\n",
    "            outputs = model(waveforms)\n",
    "            loss = criterion(outputs, labels)\n",
    "\n",
    "        if torch.isnan(loss):\n",
    "            print(f\"Внимание: NaN лосс на трейне, батч {i}. Пропуск обновления.\")\n",
    "            optimizer.zero_grad()\n",
    "            if device.type == 'cuda': torch.cuda.empty_cache()\n",
    "            continue\n",
    "\n",
    "        loss_scaled = loss / accumulation_steps\n",
    "        if scaler.is_enabled():\n",
    "            scaler.scale(loss_scaled).backward()\n",
    "        else:\n",
    "            loss_scaled.backward()\n",
    "\n",
    "        train_outputs_epoch.extend(outputs.detach().cpu().numpy())\n",
    "        train_labels_epoch.extend(labels.detach().cpu().numpy())\n",
    "        train_loss_epoch += loss.item()\n",
    "        batches_processed_train += 1\n",
    "\n",
    "        if (i + 1) % accumulation_steps == 0 or (i + 1) == len(dataloader):\n",
    "            if scaler.is_enabled(): scaler.unscale_(optimizer)\n",
    "            torch.nn.utils.clip_grad_norm_(model.parameters(), max_norm=1.0)\n",
    "            if scaler.is_enabled():\n",
    "                scaler.step(optimizer)\n",
    "                scaler.update()\n",
    "            else:\n",
    "                optimizer.step()\n",
    "            optimizer.zero_grad()\n",
    "\n",
    "        train_pbar.set_postfix(loss=f'{loss.item():.4f}', lr=f'{optimizer.param_groups[0][\"lr\"]:.1e}')\n",
    "        del waveforms, labels, outputs, loss, loss_scaled\n",
    "        if i % 200 == 0: gc.collect(); torch.cuda.empty_cache() \n",
    "\n",
    "    if batches_processed_train == 0:\n",
    "        print(\"Внимание: Ни один батч не был обработан в train_epoch_custom.\")\n",
    "        return 0.0, 0.0, 1.0\n",
    "\n",
    "    avg_train_loss = train_loss_epoch / batches_processed_train\n",
    "    train_labels_np = np.array(train_labels_epoch)\n",
    "    train_outputs_np = np.array(train_outputs_epoch)\n",
    "\n",
    "    if len(train_labels_np) == 0: return 0.0, 0.0, 1.0\n",
    "    train_preds_binary = (train_outputs_np > 0).astype(int)\n",
    "    train_acc = np.mean(train_preds_binary == train_labels_np) * 100\n",
    "    train_eer_val = 1.0\n",
    "    if len(np.unique(train_labels_np)) > 1 :\n",
    "        try: train_eer_val = EER(train_labels_np, train_outputs_np)\n",
    "        except ValueError as e: print(f\"Ошибка EER на трейне: {e}\")\n",
    "    return avg_train_loss, train_acc, train_eer_val\n"
   ]
  },
  {
   "cell_type": "code",
   "execution_count": 33,
   "id": "dc788ff0",
   "metadata": {
    "execution": {
     "iopub.execute_input": "2025-09-08T12:52:57.570632Z",
     "iopub.status.busy": "2025-09-08T12:52:57.570370Z",
     "iopub.status.idle": "2025-09-08T12:52:57.584394Z",
     "shell.execute_reply": "2025-09-08T12:52:57.583429Z"
    },
    "papermill": {
     "duration": 0.042658,
     "end_time": "2025-09-08T12:52:57.585688",
     "exception": false,
     "start_time": "2025-09-08T12:52:57.543030",
     "status": "completed"
    },
    "tags": []
   },
   "outputs": [],
   "source": [
    "def validate_custom(model, dataloader, criterion, device, desc_prefix=\"Валидация\"):\n",
    "    model.eval()\n",
    "    val_loss_epoch = 0.0\n",
    "    val_outputs_epoch = []\n",
    "    val_labels_epoch = []\n",
    "    batches_processed_val = 0\n",
    "    val_pbar = tqdm(dataloader, desc=desc_prefix, leave=False)\n",
    "\n",
    "    with torch.no_grad():\n",
    "        for batch in val_pbar:\n",
    "            if batch is None or batch[0] is None or batch[1] is None: continue\n",
    "            waveforms, labels = batch\n",
    "            waveforms = waveforms.to(device)\n",
    "            labels = labels.to(device)\n",
    "            with torch.autocast(device_type=device.type, dtype=torch.float16 if device.type == 'cuda' else torch.bfloat16, enabled=(device.type == 'cuda')):\n",
    "                outputs = model(waveforms)\n",
    "                try: loss = criterion(outputs, labels)\n",
    "                except Exception as e: loss = torch.tensor(float('nan'))\n",
    "            if torch.isnan(loss):\n",
    "                 print(f\"Внимание: NaN лосс на {desc_prefix}. Пропуск батча.\")\n",
    "                 continue\n",
    "            val_outputs_epoch.extend(outputs.cpu().numpy())\n",
    "            val_labels_epoch.extend(labels.cpu().numpy())\n",
    "            val_loss_epoch += loss.item()\n",
    "            batches_processed_val += 1\n",
    "            val_pbar.set_postfix(loss=f'{loss.item():.4f}')\n",
    "            del waveforms, labels, outputs, loss\n",
    "            if device.type == 'cuda': torch.cuda.empty_cache()\n",
    "\n",
    "    if batches_processed_val == 0:\n",
    "        print(f\"Внимание: Ни один батч не был обработан в {desc_prefix}.\")\n",
    "        return 0.0, 0.0, 1.0, np.array([]), np.array([])\n",
    "\n",
    "    avg_val_loss = val_loss_epoch / batches_processed_val\n",
    "    val_labels_np = np.array(val_labels_epoch)\n",
    "    val_outputs_np = np.array(val_outputs_epoch)\n",
    "\n",
    "    if len(val_labels_np) == 0: return 0.0, 0.0, 1.0, np.array([]), np.array([])\n",
    "    val_preds_binary = (val_outputs_np > 0).astype(int)\n",
    "    val_acc = np.mean(val_preds_binary == val_labels_np) * 100\n",
    "    val_eer_val = 1.0\n",
    "    if len(np.unique(val_labels_np)) > 1:\n",
    "        try: val_eer_val = EER(val_labels_np, val_outputs_np)\n",
    "        except ValueError as e: print(f\"Ошибка EER на {desc_prefix}: {e}\")\n",
    "    return avg_val_loss, val_acc, val_eer_val, val_labels_np, val_outputs_np\n"
   ]
  },
  {
   "cell_type": "code",
   "execution_count": 34,
   "id": "94bcc116",
   "metadata": {
    "execution": {
     "iopub.execute_input": "2025-09-08T12:52:57.627262Z",
     "iopub.status.busy": "2025-09-08T12:52:57.626923Z",
     "iopub.status.idle": "2025-09-08T19:39:03.127690Z",
     "shell.execute_reply": "2025-09-08T19:39:03.126720Z"
    },
    "papermill": {
     "duration": 24365.524295,
     "end_time": "2025-09-08T19:39:03.129704",
     "exception": false,
     "start_time": "2025-09-08T12:52:57.605409",
     "status": "completed"
    },
    "tags": []
   },
   "outputs": [
    {
     "name": "stdout",
     "output_type": "stream",
     "text": [
      "\n",
      "--- Начало ФИНАЛЬНОГО дообучения модели на ВСЕХ данных ---\n",
      "Найден чекпоинт для продолжения: /kaggle/input/wavlm_chk_v2/pytorch/default/1/checkpoint_final_all_data_v2.pth\n",
      "Чекпоинт успешно загружен. Продолжение с эпохи 4.\n",
      "\n",
      "--- FINAL ALL Fine-tuning: Эпоха 4/5 ---\n"
     ]
    },
    {
     "data": {
      "application/vnd.jupyter.widget-view+json": {
       "model_id": "efa12fa851a44a7ead6c9729a03de081",
       "version_major": 2,
       "version_minor": 0
      },
      "text/plain": [
       "Тренировка Эпоха 4:   0%|          | 0/11708 [00:00<?, ?it/s]"
      ]
     },
     "metadata": {},
     "output_type": "display_data"
    },
    {
     "data": {
      "application/vnd.jupyter.widget-view+json": {
       "model_id": "1aa6e0edad51437aaaa932bf6a5b1132",
       "version_major": 2,
       "version_minor": 0
      },
      "text/plain": [
       "Валидация Final All Эпоха 4:   0%|          | 0/2510 [00:00<?, ?it/s]"
      ]
     },
     "metadata": {},
     "output_type": "display_data"
    },
    {
     "name": "stdout",
     "output_type": "stream",
     "text": [
      "Итоги Эпохи 4 (Final All): T(L:0.1155 A:94.71% EER:0.0529), V(L:0.1474 A:94.22% EER:0.0539)\n",
      "  ---> Новый лучший Val EER (Final All): 0.0539. Сохранение...\n",
      "Чекпоинт (Final All) сохранен: /kaggle/working/checkpoint_final_all_data_v2.pth\n",
      "\n",
      "--- FINAL ALL Fine-tuning: Эпоха 5/5 ---\n"
     ]
    },
    {
     "data": {
      "application/vnd.jupyter.widget-view+json": {
       "model_id": "fc13541ab1464480a8c335b439e35359",
       "version_major": 2,
       "version_minor": 0
      },
      "text/plain": [
       "Тренировка Эпоха 5:   0%|          | 0/11708 [00:00<?, ?it/s]"
      ]
     },
     "metadata": {},
     "output_type": "display_data"
    },
    {
     "data": {
      "application/vnd.jupyter.widget-view+json": {
       "model_id": "634ab8d3e4314a5090976c583b7a25c5",
       "version_major": 2,
       "version_minor": 0
      },
      "text/plain": [
       "Валидация Final All Эпоха 5:   0%|          | 0/2510 [00:00<?, ?it/s]"
      ]
     },
     "metadata": {},
     "output_type": "display_data"
    },
    {
     "name": "stdout",
     "output_type": "stream",
     "text": [
      "Итоги Эпохи 5 (Final All): T(L:0.0961 A:95.75% EER:0.0425), V(L:0.1283 A:94.43% EER:0.0465)\n",
      "  ---> Новый лучший Val EER (Final All): 0.0465. Сохранение...\n",
      "Чекпоинт (Final All) сохранен: /kaggle/working/checkpoint_final_all_data_v2.pth\n",
      "\n",
      "--- ФИНАЛЬНОЕ Дообучение на ВСЕХ данных завершено ---\n",
      "График истории сохранен: /kaggle/working/final_all_data_plots_v2/history_final_all_data_v2_summary.png\n"
     ]
    },
    {
     "data": {
      "image/png": "[encoded data removed]",
      "text/plain": [
       "<Figure size 1800x500 with 3 Axes>"
      ]
     },
     "metadata": {},
     "output_type": "display_data"
    }
   ],
   "source": [
    "if 'train_loader_final_combined' in locals() and train_loader_final_combined and \\\n",
    "   'val_loader_final_combined' in locals() and val_loader_final_combined and \\\n",
    "   'model_final_all_data' in locals():\n",
    "    \n",
    "    print(\"\\n--- Начало ФИНАЛЬНОГО дообучения модели на ВСЕХ данных ---\")\n",
    "    start_epoch_final_all = 0\n",
    "    best_val_eer_final_all = float('inf') \n",
    "    history_final_all = {'train_loss': [], 'val_loss': [], 'train_acc': [], 'val_acc': [], 'train_eer': [], 'val_eer': []}\n",
    "\n",
    "    if 'RESUME_CHECKPOINT_PATH' in locals() and RESUME_CHECKPOINT_PATH.exists():\n",
    "        print(f\"Найден чекпоинт для продолжения: {RESUME_CHECKPOINT_PATH}\")\n",
    "        try:\n",
    "            checkpoint = torch.load(RESUME_CHECKPOINT_PATH, map_location=device, weights_only=False)\n",
    "            \n",
    "            model_final_all_data.load_state_dict(checkpoint['model_state_dict'])\n",
    "            optimizer_final_all.load_state_dict(checkpoint['optimizer_state_dict'])\n",
    "            scheduler_final_all.load_state_dict(checkpoint['scheduler_state_dict'])\n",
    "            if scaler_final_all and 'scaler_state_dict' in checkpoint and checkpoint['scaler_state_dict']:\n",
    "                 scaler_final_all.load_state_dict(checkpoint['scaler_state_dict'])\n",
    "            \n",
    "            start_epoch_final_all = checkpoint.get('epoch', 0) \n",
    "            \n",
    "            best_val_eer_final_all = checkpoint.get('best_val_eer', float('inf'))\n",
    "            history_final_all = checkpoint.get('history', history_final_all)\n",
    "            print(f\"Чекпоинт успешно загружен. Продолжение с эпохи {start_epoch_final_all + 1}.\")\n",
    "        except Exception as e:\n",
    "            print(f\"Ошибка загрузки чекпоинта для продолжения: {e}. Обучение с нуля.\")\n",
    "            start_epoch_final_all = 0\n",
    "    else:\n",
    "        print(f\"Чекпоинт для продолжения не найден. Обучение с нуля.\")\n",
    "\n",
    "    for epoch_idx in range(start_epoch_final_all, FINAL_ALL_NUM_EPOCHS):\n",
    "        current_epoch = epoch_idx + 1\n",
    "        print(f\"\\n--- FINAL ALL Fine-tuning: Эпоха {current_epoch}/{FINAL_ALL_NUM_EPOCHS} ---\")\n",
    "        \n",
    "        avg_train_loss, train_acc, train_eer = train_epoch_custom(\n",
    "            model_final_all_data, train_loader_final_combined, criterion_final_all, \n",
    "            optimizer_final_all, device, scaler_final_all, \n",
    "            GRADIENT_ACCUMULATION_STEPS, current_epoch\n",
    "        )\n",
    "        if len(history_final_all['train_loss']) > epoch_idx:\n",
    "            history_final_all['train_loss'][epoch_idx] = avg_train_loss; history_final_all['train_acc'][epoch_idx] = train_acc; history_final_all['train_eer'][epoch_idx] = train_eer\n",
    "        else:\n",
    "            history_final_all['train_loss'].append(avg_train_loss); history_final_all['train_acc'].append(train_acc); history_final_all['train_eer'].append(train_eer)\n",
    "\n",
    "        avg_val_loss, val_acc, val_eer, _, _ = validate_custom(\n",
    "            model_final_all_data, val_loader_final_combined, criterion_final_all, device,\n",
    "            desc_prefix=f\"Валидация Final All Эпоха {current_epoch}\"\n",
    "        )\n",
    "        if len(history_final_all['val_loss']) > epoch_idx:\n",
    "            history_final_all['val_loss'][epoch_idx] = avg_val_loss; history_final_all['val_acc'][epoch_idx] = val_acc; history_final_all['val_eer'][epoch_idx] = val_eer\n",
    "        else:\n",
    "            history_final_all['val_loss'].append(avg_val_loss); history_final_all['val_acc'].append(val_acc); history_final_all['val_eer'].append(val_eer)\n",
    "        \n",
    "        print(f\"Итоги Эпохи {current_epoch} (Final All): T(L:{avg_train_loss:.4f} A:{train_acc:.2f}% EER:{train_eer:.4f}), V(L:{avg_val_loss:.4f} A:{val_acc:.2f}% EER:{val_eer:.4f})\")\n",
    "        scheduler_final_all.step(val_eer)\n",
    "\n",
    "        if val_eer < best_val_eer_final_all:\n",
    "            best_val_eer_final_all = val_eer\n",
    "            print(f\"  ---> Новый лучший Val EER (Final All): {best_val_eer_final_all:.4f}. Сохранение...\")\n",
    "            torch.save(model_final_all_data.state_dict(), FINAL_ALL_MODEL_SAVE_PATH)\n",
    "        \n",
    "        checkpoint_save_data_all = {\n",
    "            'epoch': epoch_idx + 1, 'model_state_dict': model_final_all_data.state_dict(),\n",
    "            'optimizer_state_dict': optimizer_final_all.state_dict(),\n",
    "            'scheduler_state_dict': scheduler_final_all.state_dict(),\n",
    "            'scaler_state_dict': scaler_final_all.state_dict() if scaler_final_all else None,\n",
    "            'best_val_eer': best_val_eer_final_all, 'history': history_final_all\n",
    "        }\n",
    "        torch.save(checkpoint_save_data_all, FINAL_ALL_CHECKPOINT_PATH)\n",
    "        print(f\"Чекпоинт (Final All) сохранен: {FINAL_ALL_CHECKPOINT_PATH}\")\n",
    "\n",
    "    print(\"\\n--- ФИНАЛЬНОЕ Дообучение на ВСЕХ данных завершено ---\")\n",
    "    with open(FINAL_ALL_HISTORY_SAVE_PATH, 'w') as f: json.dump(history_final_all, f, indent=4)\n",
    "    if history_final_all.get('train_loss'): \n",
    "        plot_training_history(\n",
    "            history_final_all, \n",
    "            title_prefix=\"Final All Data Fine-tuning\",\n",
    "            save_path = PLOTS_ALL_SAVE_DIR / f\"{FINAL_ALL_HISTORY_SAVE_PATH.stem}_summary.png\"\n",
    "        )\n",
    "else:\n",
    "    print(\"ФИНАЛЬНОЕ Обучение не запущено (нет train_loader_final_combined или val_loader_final_combined).\")\n",
    "gc.collect(); torch.cuda.empty_cache()"
   ]
  },
  {
   "cell_type": "markdown",
   "id": "54b0faa8-2d60-4292-ae66-9387014fbedc",
   "metadata": {},
   "source": [
    "## Финальная оценка модели на тестовой выборке"
   ]
  },
  {
   "cell_type": "code",
   "execution_count": 35,
   "id": "8337a201",
   "metadata": {
    "execution": {
     "iopub.execute_input": "2025-09-08T19:39:03.169043Z",
     "iopub.status.busy": "2025-09-08T19:39:03.168765Z",
     "iopub.status.idle": "2025-09-08T20:13:30.537458Z",
     "shell.execute_reply": "2025-09-08T20:13:30.536538Z"
    },
    "papermill": {
     "duration": 2067.389952,
     "end_time": "2025-09-08T20:13:30.538882",
     "exception": false,
     "start_time": "2025-09-08T19:39:03.148930",
     "status": "completed"
    },
    "tags": []
   },
   "outputs": [
    {
     "name": "stdout",
     "output_type": "stream",
     "text": [
      "\\n--- Финальная оценка модели (после обучения на ВСЕХ данных) на ОСНОВНОМ Тестовом Наборе ---\n",
      "Инициализация CustomWavLMForClassification с HuggingFace чекпоинтом: microsoft/wavlm-base\n",
      "Загрузка лучшей модели (Final All Data) из: /kaggle/working/best_wavlm_final_all_data_v2.pth\n",
      "Лучшая модель (Final All Data) успешно загружена для оценки.\n"
     ]
    },
    {
     "data": {
      "application/vnd.jupyter.widget-view+json": {
       "model_id": "1821251deffb4aa0ad741c7b367047c2",
       "version_major": 2,
       "version_minor": 0
      },
      "text/plain": [
       "Тестирование Final All Data (Общее):   0%|          | 0/2510 [00:00<?, ?it/s]"
      ]
     },
     "metadata": {},
     "output_type": "display_data"
    },
    {
     "name": "stdout",
     "output_type": "stream",
     "text": [
      "\\n--- Результаты на Общем Тестовом Наборе (Final All Data) ---\n",
      "Test Loss: 0.1288, Test Accuracy: 94.45%, Test EER: 0.0462\n",
      "Матрица ошибок сохранена: /kaggle/working/final_all_data_plots_v2/final_all_data_test_CM.png\n"
     ]
    },
    {
     "data": {
      "image/png": "[encoded data removed]",
      "text/plain": [
       "<Figure size 600x500 with 2 Axes>"
      ]
     },
     "metadata": {},
     "output_type": "display_data"
    },
    {
     "name": "stdout",
     "output_type": "stream",
     "text": [
      "\\nClassification Report (Final All Data Test - Общий):\n",
      "              precision    recall  f1-score   support\n",
      "\n",
      "   Подлинник       0.91      0.98      0.94     35610\n",
      "        Фейк       0.98      0.92      0.95     44679\n",
      "\n",
      "    accuracy                           0.94     80289\n",
      "   macro avg       0.94      0.95      0.94     80289\n",
      "weighted avg       0.95      0.94      0.94     80289\n",
      "\n",
      "ROC-кривая сохранена: /kaggle/working/final_all_data_plots_v2/final_all_data_test_ROC.png\n"
     ]
    },
    {
     "data": {
      "image/png": "[encoded data removed]",
      "text/plain": [
       "<Figure size 700x600 with 1 Axes>"
      ]
     },
     "metadata": {},
     "output_type": "display_data"
    },
    {
     "name": "stdout",
     "output_type": "stream",
     "text": [
      "\\n--- Оценка на тестовых данных с атаками типа: DIGITAL ---\n",
      "CombinedAudioDataset создан с 59227 сэмплами.\n"
     ]
    },
    {
     "data": {
      "application/vnd.jupyter.widget-view+json": {
       "model_id": "2996ce423a384d7b90eb35ddf6cce1d5",
       "version_major": 2,
       "version_minor": 0
      },
      "text/plain": [
       "Тестирование DIGITAL:   0%|          | 0/1851 [00:00<?, ?it/s]"
      ]
     },
     "metadata": {},
     "output_type": "display_data"
    },
    {
     "name": "stdout",
     "output_type": "stream",
     "text": [
      "Результаты для 'digital':\n",
      "  Test Loss: 0.1043, Test Accuracy: 95.51%, Test EER: 0.0367\n",
      "Матрица ошибок сохранена: /kaggle/working/final_all_data_plots_v2/final_test_CM_digital.png\n"
     ]
    },
    {
     "data": {
      "image/png": "[encoded data removed]",
      "text/plain": [
       "<Figure size 600x500 with 2 Axes>"
      ]
     },
     "metadata": {},
     "output_type": "display_data"
    },
    {
     "name": "stdout",
     "output_type": "stream",
     "text": [
      "\\nClassification Report (digital Test):\n",
      "              precision    recall  f1-score   support\n",
      "\n",
      "   Подлинник       0.91      0.98      0.95     23637\n",
      "        Фейк       0.99      0.94      0.96     35590\n",
      "\n",
      "    accuracy                           0.96     59227\n",
      "   macro avg       0.95      0.96      0.95     59227\n",
      "weighted avg       0.96      0.96      0.96     59227\n",
      "\n",
      "ROC-кривая сохранена: /kaggle/working/final_all_data_plots_v2/final_test_ROC_digital.png\n"
     ]
    },
    {
     "data": {
      "image/png": "[encoded data removed]",
      "text/plain": [
       "<Figure size 700x600 with 1 Axes>"
      ]
     },
     "metadata": {},
     "output_type": "display_data"
    },
    {
     "name": "stdout",
     "output_type": "stream",
     "text": [
      "\\n--- Оценка на тестовых данных с атаками типа: REPLAY ---\n",
      "CombinedAudioDataset создан с 21062 сэмплами.\n"
     ]
    },
    {
     "data": {
      "application/vnd.jupyter.widget-view+json": {
       "model_id": "4f24b5e1aad44130a4f381407f0da5d6",
       "version_major": 2,
       "version_minor": 0
      },
      "text/plain": [
       "Тестирование REPLAY:   0%|          | 0/659 [00:00<?, ?it/s]"
      ]
     },
     "metadata": {},
     "output_type": "display_data"
    },
    {
     "name": "stdout",
     "output_type": "stream",
     "text": [
      "Результаты для 'replay':\n",
      "  Test Loss: 0.2001, Test Accuracy: 91.31%, Test EER: 0.0767\n",
      "Матрица ошибок сохранена: /kaggle/working/final_all_data_plots_v2/final_test_CM_replay.png\n"
     ]
    },
    {
     "data": {
      "image/png": "[encoded data removed]",
      "text/plain": [
       "<Figure size 600x500 with 2 Axes>"
      ]
     },
     "metadata": {},
     "output_type": "display_data"
    },
    {
     "name": "stdout",
     "output_type": "stream",
     "text": [
      "\\nClassification Report (replay Test):\n",
      "              precision    recall  f1-score   support\n",
      "\n",
      "   Подлинник       0.89      0.97      0.93     11973\n",
      "        Фейк       0.95      0.84      0.89      9089\n",
      "\n",
      "    accuracy                           0.91     21062\n",
      "   macro avg       0.92      0.90      0.91     21062\n",
      "weighted avg       0.92      0.91      0.91     21062\n",
      "\n",
      "ROC-кривая сохранена: /kaggle/working/final_all_data_plots_v2/final_test_ROC_replay.png\n"
     ]
    },
    {
     "data": {
      "image/png": "[encoded data removed]",
      "text/plain": [
       "<Figure size 700x600 with 1 Axes>"
      ]
     },
     "metadata": {},
     "output_type": "display_data"
    },
    {
     "name": "stdout",
     "output_type": "stream",
     "text": [
      "\\n--- Весь скрипт завершен ---\n"
     ]
    }
   ],
   "source": [
    "CM_FINAL_ALL_SAVE_PATH = PLOTS_ALL_SAVE_DIR / \"final_all_data_test_CM.png\"\n",
    "ROC_FINAL_ALL_SAVE_PATH = PLOTS_ALL_SAVE_DIR / \"final_all_data_test_ROC.png\"\n",
    "\n",
    "if 'test_df_for_model' in locals() and not test_df_for_model.empty:\n",
    "    print(\"\\\\n--- Финальная оценка модели (после обучения на ВСЕХ данных) на ОСНОВНОМ Тестовом Наборе ---\")\n",
    "    \n",
    "    model_eval_all = CustomWavLMForClassification(checkpoint_hf=MODEL_CHECKPOINT_HF).to(device)\n",
    "    path_to_load_best_all_model = FINAL_ALL_MODEL_SAVE_PATH\n",
    "\n",
    "    model_loaded_final_all_eval = False\n",
    "    if path_to_load_best_all_model.exists():\n",
    "        print(f\"Загрузка лучшей модели (Final All Data) из: {path_to_load_best_all_model}\")\n",
    "        try:\n",
    "            model_eval_all.load_state_dict(torch.load(path_to_load_best_all_model, map_location=device, weights_only=False))\n",
    "            model_loaded_final_all_eval = True\n",
    "        except Exception as e: print(f\"Ошибка загрузки лучшей модели: {e}.\")\n",
    "    \n",
    "    if not model_loaded_final_all_eval and FINAL_ALL_CHECKPOINT_PATH.exists():\n",
    "        print(f\"Лучшая модель не загрузилась. Загрузка из чекпоинта {FINAL_ALL_CHECKPOINT_PATH}.\")\n",
    "        try:\n",
    "            checkpoint = torch.load(FINAL_ALL_CHECKPOINT_PATH, map_location=device, weights_only=False)\n",
    "            model_eval_all.load_state_dict(checkpoint['model_state_dict'])\n",
    "            model_loaded_final_all_eval = True\n",
    "        except Exception as e: print(f\"Ошибка загрузки из чекпоинта: {e}.\")\n",
    "            \n",
    "    if not model_loaded_final_all_eval:\n",
    "        print(f\"Оценка невозможна: модель (Final All Data) не загружена.\")\n",
    "    else:\n",
    "        print(\"Лучшая модель (Final All Data) успешно загружена для оценки.\")\n",
    "        criterion_for_eval = criterion_final_all if 'criterion_final_all' in locals() else nn.BCEWithLogitsLoss()\n",
    "        \n",
    "        # --- Общая оценка на всем тестовом наборе ---\n",
    "        avg_loss_overall, acc_overall, eer_overall, labels_overall, outputs_overall = validate_custom(\n",
    "            model_eval_all, test_loader_final_combined, criterion_for_eval, device, # Используем test_loader_final_combined\n",
    "            desc_prefix=\"Тестирование Final All Data (Общее)\"\n",
    "        )\n",
    "        if len(labels_overall) > 0:\n",
    "            print(\"\\\\n--- Результаты на Общем Тестовом Наборе (Final All Data) ---\")\n",
    "            print(f\"Test Loss: {avg_loss_overall:.4f}, Test Accuracy: {acc_overall:.2f}%, Test EER: {eer_overall:.4f}\")\n",
    "            preds_bin_overall = (outputs_overall > 0).astype(int)\n",
    "            cm_overall = confusion_matrix(labels_overall, preds_bin_overall)\n",
    "            plot_confusion_matrix_custom(cm_overall, title='Матрица ошибок (Final All Data Test - Общая)', save_path=CM_FINAL_ALL_SAVE_PATH)\n",
    "            \n",
    "            print(\"\\\\nClassification Report (Final All Data Test - Общий):\")\n",
    "            if len(np.unique(labels_overall)) < 2 or len(np.unique(preds_bin_overall)) < 2 :\n",
    "                 print(f\"Невозможно сгенерировать classification_report: истинные {np.unique(labels_overall)}, предсказанные {np.unique(preds_bin_overall)}.\")\n",
    "            else:\n",
    "                print(classification_report(labels_overall, preds_bin_overall, target_names=['Подлинник', 'Фейк'], zero_division=0))\n",
    "            if len(np.unique(labels_overall)) > 1:\n",
    "                 scores_probs_overall = torch.sigmoid(torch.tensor(outputs_overall)).numpy()\n",
    "                 plot_roc_curve_custom(labels_overall, scores_probs_overall, title='ROC кривая (Final All Data Test - Общая)', save_path=ROC_FINAL_ALL_SAVE_PATH)\n",
    "        else:\n",
    "            print(\"Не удалось вычислить метрики на общем тесте (Final All Data).\")\n",
    "\n",
    "        # --- Раздельная оценка по типам атак ---\n",
    "        if 'test_df_for_model' in locals() and not test_df_for_model.empty:\n",
    "            unique_attack_types = test_df_for_model['attack_type'].unique()\n",
    "            for attack_type_to_eval in unique_attack_types:\n",
    "                print(f\"\\\\n--- Оценка на тестовых данных с атаками типа: {attack_type_to_eval.upper()} ---\")\n",
    "                \n",
    "                df_subset = test_df_for_model[test_df_for_model['attack_type'] == attack_type_to_eval]\n",
    "                \n",
    "                if not df_subset.empty:\n",
    "                    subset_dataset = CombinedAudioDataset(df_subset, NUM_SAMPLES, SAMPLE_RATE)\n",
    "                    subset_loader = DataLoader(\n",
    "                        subset_dataset, batch_size=FINAL_ALL_BATCH_SIZE, shuffle=False,\n",
    "                        collate_fn=collate_fn_custom, num_workers=NUM_WORKERS, pin_memory=(device.type == 'cuda')\n",
    "                    )\n",
    "                    \n",
    "                    avg_loss_sub, acc_sub, eer_sub, labels_sub, outputs_sub = validate_custom(\n",
    "                        model_eval_all, subset_loader, criterion_for_eval, device, \n",
    "                        desc_prefix=f\"Тестирование {attack_type_to_eval.upper()}\"\n",
    "                    )\n",
    "                    \n",
    "                    if len(labels_sub) > 0:\n",
    "                        print(f\"Результаты для '{attack_type_to_eval}':\")\n",
    "                        print(f\"  Test Loss: {avg_loss_sub:.4f}, Test Accuracy: {acc_sub:.2f}%, Test EER: {eer_sub:.4f}\")\n",
    "                        \n",
    "                        preds_bin_sub = (outputs_sub > 0).astype(int)\n",
    "                        cm_sub = confusion_matrix(labels_sub, preds_bin_sub)\n",
    "                        plot_confusion_matrix_custom(cm_sub, title=f'Матрица ошибок ({attack_type_to_eval} Test)', \n",
    "                                                     save_path=PLOTS_ALL_SAVE_DIR / f\"final_test_CM_{attack_type_to_eval}.png\")\n",
    "                        \n",
    "                        print(f\"\\\\nClassification Report ({attack_type_to_eval} Test):\")\n",
    "                        if len(np.unique(labels_sub)) < 2 or len(np.unique(preds_bin_sub)) < 2:\n",
    "                            print(f\"Невозможно сгенерировать classification_report для {attack_type_to_eval}: истинные {np.unique(labels_sub)}, предсказанные {np.unique(preds_bin_sub)}.\")\n",
    "                        else:\n",
    "                            print(classification_report(labels_sub, preds_bin_sub, target_names=['Подлинник', 'Фейк'], zero_division=0))\n",
    "                        \n",
    "                        if len(np.unique(labels_sub)) > 1:\n",
    "                            scores_probs_sub = torch.sigmoid(torch.tensor(outputs_sub)).numpy()\n",
    "                            plot_roc_curve_custom(labels_sub, scores_probs_sub, title=f'ROC кривая ({attack_type_to_eval} Test)', \n",
    "                                                  save_path=PLOTS_ALL_SAVE_DIR / f\"final_test_ROC_{attack_type_to_eval}.png\")\n",
    "                    else:\n",
    "                        print(f\"Не удалось вычислить метрики на тесте для типа атаки: {attack_type_to_eval}.\")\n",
    "                else:\n",
    "                    print(f\"В тестовом наборе не найдено данных для типа атаки: {attack_type_to_eval}\")\n",
    "        else:\n",
    "            print(\"test_df_for_model пуст, раздельная оценка по типам атак невозможна.\")\n",
    "else:\n",
    "    print(\"Финальная оценка не запущена (test_df_for_model не найден или пуст).\")\n",
    "\n",
    "print(\"\\\\n--- Весь скрипт завершен ---\")\n",
    "gc.collect(); torch.cuda.empty_cache()"
   ]
  },
  {
   "cell_type": "markdown",
   "id": "7270a882-3893-4d68-89e1-dee0e40c08b7",
   "metadata": {},
   "source": [
    "### Общие метрики:  \n",
    "* Test Accuracy: 94.45%  \n",
    "* Test EER: 0.0462 (4.62%)  \n",
    "  \n",
    "Матрица ошибок: показывает, что модель очень хорошо справляется с обеими задачами: она правильно идентифицировала 34,768 подлинных записей (из 35,610) и 41,119 фейковых (из 44,679). Количество ошибок (False Positives и False Negatives) относительно невелико.  \n",
    "  \n",
    "Classification Report: Подтверждает выводы из матрицы ошибок. Precision, Recall и F1-score для обоих классов находятся на высоком уровне (0.91-0.98), что говорит об отсутствии перекоса в сторону одного из классов.\n",
    "\n",
    "### Цифровые атаки (Digital):\n",
    "* Accuracy: 95.51%\n",
    "* EER: 0.0367 (3.67%)\n",
    "  \n",
    "Модель показывает превосходные результаты в детекции цифровых атак. EER на уровне 3.67% — это хороший показатель, что в целом ожидаемо, так как большинство данных в обучающей выборке были именно этого типа.\n",
    "\n",
    "### Replay-атаки:\n",
    "* Accuracy: 91.31%\n",
    "* EER: 0.0767 (7.67%)\n",
    "\n",
    "Результаты хорошие, но заметно уступают цифровым. EER более чем в два раза выше. Это подтверждает гипотезу, сделанную на этапе EDA: из-за дисбаланса в обучающих данных модель менее натренирована на обнаружение replay-атак. Кроме того, replay-атаки по своей природе сложнее, так как вносят артефакты окружения (эхо, шумы), которые более разнообразны, чем цифровые искажения. В дальнейшем можно дообучить модель еще 1-2 эпохи только на replay-атаках с низкой скоростью обучения, чтобы помочь ей сфокусироваться на признаках этого типа атак"
   ]
  },
  {
   "cell_type": "markdown",
   "id": "961f52f8",
   "metadata": {
    "papermill": {
     "duration": 0.02086,
     "end_time": "2025-09-08T20:13:30.582472",
     "exception": false,
     "start_time": "2025-09-08T20:13:30.561612",
     "status": "completed"
    },
    "tags": []
   },
   "source": [
    "## Сохранение и cкачивание Артефактов"
   ]
  },
  {
   "cell_type": "code",
   "execution_count": 36,
   "id": "cc79b462",
   "metadata": {
    "execution": {
     "iopub.execute_input": "2025-09-08T20:13:30.623300Z",
     "iopub.status.busy": "2025-09-08T20:13:30.622954Z",
     "iopub.status.idle": "2025-09-08T20:13:30.637725Z",
     "shell.execute_reply": "2025-09-08T20:13:30.637146Z"
    },
    "papermill": {
     "duration": 0.037372,
     "end_time": "2025-09-08T20:13:30.638845",
     "exception": false,
     "start_time": "2025-09-08T20:13:30.601473",
     "status": "completed"
    },
    "tags": []
   },
   "outputs": [
    {
     "name": "stdout",
     "output_type": "stream",
     "text": [
      "\\n--- Ссылки для скачивания артефактов ФИНАЛЬНОГО обучения ---\n",
      "\\nСсылки на графики EDA:\n"
     ]
    },
    {
     "data": {
      "text/html": [
       "<a href='/kaggle/working/final_all_data_plots_v2/eda_splits_label_distribution.png' target='_blank'>/kaggle/working/final_all_data_plots_v2/eda_splits_label_distribution.png</a><br>"
      ],
      "text/plain": [
       "/kaggle/working/final_all_data_plots_v2/eda_splits_label_distribution.png"
      ]
     },
     "metadata": {},
     "output_type": "display_data"
    },
    {
     "data": {
      "text/html": [
       "<a href='/kaggle/working/final_all_data_plots_v2/eda_splits_language_distribution.png' target='_blank'>/kaggle/working/final_all_data_plots_v2/eda_splits_language_distribution.png</a><br>"
      ],
      "text/plain": [
       "/kaggle/working/final_all_data_plots_v2/eda_splits_language_distribution.png"
      ]
     },
     "metadata": {},
     "output_type": "display_data"
    },
    {
     "data": {
      "text/html": [
       "<a href='/kaggle/working/final_all_data_plots_v2/eda_attack_type_label_distribution.png' target='_blank'>/kaggle/working/final_all_data_plots_v2/eda_attack_type_label_distribution.png</a><br>"
      ],
      "text/plain": [
       "/kaggle/working/final_all_data_plots_v2/eda_attack_type_label_distribution.png"
      ]
     },
     "metadata": {},
     "output_type": "display_data"
    },
    {
     "data": {
      "text/html": [
       "<a href='/kaggle/working/final_all_data_plots_v2/eda_attack_type_distribution.png' target='_blank'>/kaggle/working/final_all_data_plots_v2/eda_attack_type_distribution.png</a><br>"
      ],
      "text/plain": [
       "/kaggle/working/final_all_data_plots_v2/eda_attack_type_distribution.png"
      ]
     },
     "metadata": {},
     "output_type": "display_data"
    },
    {
     "data": {
      "text/html": [
       "<a href='/kaggle/working/final_all_data_plots_v2/eda_raw_label_distribution.png' target='_blank'>/kaggle/working/final_all_data_plots_v2/eda_raw_label_distribution.png</a><br>"
      ],
      "text/plain": [
       "/kaggle/working/final_all_data_plots_v2/eda_raw_label_distribution.png"
      ]
     },
     "metadata": {},
     "output_type": "display_data"
    },
    {
     "data": {
      "text/html": [
       "<a href='/kaggle/working/final_all_data_plots_v2/eda_splits_attack_type_distribution.png' target='_blank'>/kaggle/working/final_all_data_plots_v2/eda_splits_attack_type_distribution.png</a><br>"
      ],
      "text/plain": [
       "/kaggle/working/final_all_data_plots_v2/eda_splits_attack_type_distribution.png"
      ]
     },
     "metadata": {},
     "output_type": "display_data"
    },
    {
     "data": {
      "text/html": [
       "<a href='/kaggle/working/final_all_data_plots_v2/eda_raw_language_distribution.png' target='_blank'>/kaggle/working/final_all_data_plots_v2/eda_raw_language_distribution.png</a><br>"
      ],
      "text/plain": [
       "/kaggle/working/final_all_data_plots_v2/eda_raw_language_distribution.png"
      ]
     },
     "metadata": {},
     "output_type": "display_data"
    },
    {
     "data": {
      "text/html": [
       "<a href='/kaggle/working/final_all_data_plots_v2/eda_raw_source_distribution.png' target='_blank'>/kaggle/working/final_all_data_plots_v2/eda_raw_source_distribution.png</a><br>"
      ],
      "text/plain": [
       "/kaggle/working/final_all_data_plots_v2/eda_raw_source_distribution.png"
      ]
     },
     "metadata": {},
     "output_type": "display_data"
    }
   ],
   "source": [
    "from IPython.display import FileLink, display\n",
    "\n",
    "print(\"\\\\n--- Ссылки для скачивания артефактов ФИНАЛЬНОГО обучения ---\")\n",
    "\n",
    "if PLOTS_ALL_SAVE_DIR.exists():\n",
    "    print(\"\\\\nСсылки на графики EDA:\")\n",
    "    for plot_file in PLOTS_ALL_SAVE_DIR.glob(\"eda_*.png\"):\n",
    "        if plot_file.exists(): display(FileLink(str(plot_file)))"
   ]
  },
  {
   "cell_type": "code",
   "execution_count": 37,
   "id": "f2ed21b9",
   "metadata": {
    "execution": {
     "iopub.execute_input": "2025-09-08T20:13:30.722024Z",
     "iopub.status.busy": "2025-09-08T20:13:30.721763Z",
     "iopub.status.idle": "2025-09-08T20:13:30.728184Z",
     "shell.execute_reply": "2025-09-08T20:13:30.727390Z"
    },
    "papermill": {
     "duration": 0.029041,
     "end_time": "2025-09-08T20:13:30.729445",
     "exception": false,
     "start_time": "2025-09-08T20:13:30.700404",
     "status": "completed"
    },
    "tags": []
   },
   "outputs": [
    {
     "name": "stdout",
     "output_type": "stream",
     "text": [
      "\\nСсылка на график истории обучения:\n"
     ]
    },
    {
     "data": {
      "text/html": [
       "<a href='/kaggle/working/final_all_data_plots_v2/history_final_all_data_v2_summary.png' target='_blank'>/kaggle/working/final_all_data_plots_v2/history_final_all_data_v2_summary.png</a><br>"
      ],
      "text/plain": [
       "/kaggle/working/final_all_data_plots_v2/history_final_all_data_v2_summary.png"
      ]
     },
     "metadata": {},
     "output_type": "display_data"
    }
   ],
   "source": [
    "path_history_plot_final_all_dl = PLOTS_ALL_SAVE_DIR / f\"{FINAL_ALL_HISTORY_SAVE_PATH.stem}_summary.png\"\n",
    "if path_history_plot_final_all_dl.exists():\n",
    "    print(\"\\\\nСсылка на график истории обучения:\")\n",
    "    display(FileLink(str(path_history_plot_final_all_dl)))\n",
    "else:\n",
    "    print(f\"\\\\nФайл графика истории обучения не найден: {path_history_plot_final_all_dl}\")"
   ]
  },
  {
   "cell_type": "code",
   "execution_count": 38,
   "id": "f60d4e66",
   "metadata": {
    "execution": {
     "iopub.execute_input": "2025-09-08T20:13:30.813271Z",
     "iopub.status.busy": "2025-09-08T20:13:30.813004Z",
     "iopub.status.idle": "2025-09-08T20:13:30.820751Z",
     "shell.execute_reply": "2025-09-08T20:13:30.820132Z"
    },
    "papermill": {
     "duration": 0.029506,
     "end_time": "2025-09-08T20:13:30.821850",
     "exception": false,
     "start_time": "2025-09-08T20:13:30.792344",
     "status": "completed"
    },
    "tags": []
   },
   "outputs": [
    {
     "name": "stdout",
     "output_type": "stream",
     "text": [
      "\\nСсылка на матрицу ошибок (общий тест):\n"
     ]
    },
    {
     "data": {
      "text/html": [
       "<a href='/kaggle/working/final_all_data_plots_v2/final_all_data_test_CM.png' target='_blank'>/kaggle/working/final_all_data_plots_v2/final_all_data_test_CM.png</a><br>"
      ],
      "text/plain": [
       "/kaggle/working/final_all_data_plots_v2/final_all_data_test_CM.png"
      ]
     },
     "metadata": {},
     "output_type": "display_data"
    },
    {
     "name": "stdout",
     "output_type": "stream",
     "text": [
      "\\nСсылка на ROC-кривую (общий тест):\n"
     ]
    },
    {
     "data": {
      "text/html": [
       "<a href='/kaggle/working/final_all_data_plots_v2/final_all_data_test_ROC.png' target='_blank'>/kaggle/working/final_all_data_plots_v2/final_all_data_test_ROC.png</a><br>"
      ],
      "text/plain": [
       "/kaggle/working/final_all_data_plots_v2/final_all_data_test_ROC.png"
      ]
     },
     "metadata": {},
     "output_type": "display_data"
    }
   ],
   "source": [
    "if CM_FINAL_ALL_SAVE_PATH.exists():\n",
    "    print(\"\\\\nСсылка на матрицу ошибок (общий тест):\")\n",
    "    display(FileLink(str(CM_FINAL_ALL_SAVE_PATH)))\n",
    "else:\n",
    "    print(f\"\\\\nФайл матрицы ошибок (общий тест) не найден: {CM_FINAL_ALL_SAVE_PATH}\")\n",
    "\n",
    "if ROC_FINAL_ALL_SAVE_PATH.exists():\n",
    "    print(\"\\\\nСсылка на ROC-кривую (общий тест):\")\n",
    "    display(FileLink(str(ROC_FINAL_ALL_SAVE_PATH)))\n",
    "else:\n",
    "    print(f\"\\\\nФайл ROC-кривой (общий тест) не найден: {ROC_FINAL_ALL_SAVE_PATH}\")"
   ]
  },
  {
   "cell_type": "code",
   "execution_count": 39,
   "id": "c8212844",
   "metadata": {
    "execution": {
     "iopub.execute_input": "2025-09-08T20:13:30.903202Z",
     "iopub.status.busy": "2025-09-08T20:13:30.902958Z",
     "iopub.status.idle": "2025-09-08T20:13:30.914332Z",
     "shell.execute_reply": "2025-09-08T20:13:30.913617Z"
    },
    "papermill": {
     "duration": 0.07394,
     "end_time": "2025-09-08T20:13:30.956580",
     "exception": false,
     "start_time": "2025-09-08T20:13:30.882640",
     "status": "completed"
    },
    "tags": []
   },
   "outputs": [
    {
     "name": "stdout",
     "output_type": "stream",
     "text": [
      "\\nСсылки на графики оценки по типам атак:\n",
      "  Матрица ошибок (digital):\n"
     ]
    },
    {
     "data": {
      "text/html": [
       "<a href='/kaggle/working/final_all_data_plots_v2/final_test_CM_digital.png' target='_blank'>/kaggle/working/final_all_data_plots_v2/final_test_CM_digital.png</a><br>"
      ],
      "text/plain": [
       "/kaggle/working/final_all_data_plots_v2/final_test_CM_digital.png"
      ]
     },
     "metadata": {},
     "output_type": "display_data"
    },
    {
     "name": "stdout",
     "output_type": "stream",
     "text": [
      "  ROC-кривая (digital):\n"
     ]
    },
    {
     "data": {
      "text/html": [
       "<a href='/kaggle/working/final_all_data_plots_v2/final_test_ROC_digital.png' target='_blank'>/kaggle/working/final_all_data_plots_v2/final_test_ROC_digital.png</a><br>"
      ],
      "text/plain": [
       "/kaggle/working/final_all_data_plots_v2/final_test_ROC_digital.png"
      ]
     },
     "metadata": {},
     "output_type": "display_data"
    },
    {
     "name": "stdout",
     "output_type": "stream",
     "text": [
      "  Матрица ошибок (replay):\n"
     ]
    },
    {
     "data": {
      "text/html": [
       "<a href='/kaggle/working/final_all_data_plots_v2/final_test_CM_replay.png' target='_blank'>/kaggle/working/final_all_data_plots_v2/final_test_CM_replay.png</a><br>"
      ],
      "text/plain": [
       "/kaggle/working/final_all_data_plots_v2/final_test_CM_replay.png"
      ]
     },
     "metadata": {},
     "output_type": "display_data"
    },
    {
     "name": "stdout",
     "output_type": "stream",
     "text": [
      "  ROC-кривая (replay):\n"
     ]
    },
    {
     "data": {
      "text/html": [
       "<a href='/kaggle/working/final_all_data_plots_v2/final_test_ROC_replay.png' target='_blank'>/kaggle/working/final_all_data_plots_v2/final_test_ROC_replay.png</a><br>"
      ],
      "text/plain": [
       "/kaggle/working/final_all_data_plots_v2/final_test_ROC_replay.png"
      ]
     },
     "metadata": {},
     "output_type": "display_data"
    }
   ],
   "source": [
    "if PLOTS_ALL_SAVE_DIR.exists():\n",
    "    print(\"\\\\nСсылки на графики оценки по типам атак:\")\n",
    "    for attack_type in ['digital', 'replay']: # Предполагаем эти типы атак\n",
    "        cm_path = PLOTS_ALL_SAVE_DIR / f\"final_test_CM_{attack_type}.png\"\n",
    "        roc_path = PLOTS_ALL_SAVE_DIR / f\"final_test_ROC_{attack_type}.png\"\n",
    "        if cm_path.exists():\n",
    "            print(f\"  Матрица ошибок ({attack_type}):\")\n",
    "            display(FileLink(str(cm_path)))\n",
    "        if roc_path.exists():\n",
    "            print(f\"  ROC-кривая ({attack_type}):\")\n",
    "            display(FileLink(str(roc_path)))"
   ]
  },
  {
   "cell_type": "code",
   "execution_count": 40,
   "id": "2dfd9414",
   "metadata": {
    "execution": {
     "iopub.execute_input": "2025-09-08T20:13:31.039977Z",
     "iopub.status.busy": "2025-09-08T20:13:31.039204Z",
     "iopub.status.idle": "2025-09-08T20:13:31.049423Z",
     "shell.execute_reply": "2025-09-08T20:13:31.048667Z"
    },
    "papermill": {
     "duration": 0.032366,
     "end_time": "2025-09-08T20:13:31.050646",
     "exception": false,
     "start_time": "2025-09-08T20:13:31.018280",
     "status": "completed"
    },
    "tags": []
   },
   "outputs": [
    {
     "name": "stdout",
     "output_type": "stream",
     "text": [
      "\\nСсылка на 'Лучшая модель (Final All Data)':\n"
     ]
    },
    {
     "data": {
      "text/html": [
       "<a href='/kaggle/working/best_wavlm_final_all_data_v2.pth' target='_blank'>/kaggle/working/best_wavlm_final_all_data_v2.pth</a><br>"
      ],
      "text/plain": [
       "/kaggle/working/best_wavlm_final_all_data_v2.pth"
      ]
     },
     "metadata": {},
     "output_type": "display_data"
    },
    {
     "name": "stdout",
     "output_type": "stream",
     "text": [
      "\\nСсылка на 'Последний чекпоинт (Final All Data)':\n"
     ]
    },
    {
     "data": {
      "text/html": [
       "<a href='/kaggle/working/checkpoint_final_all_data_v2.pth' target='_blank'>/kaggle/working/checkpoint_final_all_data_v2.pth</a><br>"
      ],
      "text/plain": [
       "/kaggle/working/checkpoint_final_all_data_v2.pth"
      ]
     },
     "metadata": {},
     "output_type": "display_data"
    },
    {
     "name": "stdout",
     "output_type": "stream",
     "text": [
      "\\nСсылка на 'История обучения JSON (Final All Data)':\n"
     ]
    },
    {
     "data": {
      "text/html": [
       "<a href='/kaggle/working/history_final_all_data_v2.json' target='_blank'>/kaggle/working/history_final_all_data_v2.json</a><br>"
      ],
      "text/plain": [
       "/kaggle/working/history_final_all_data_v2.json"
      ]
     },
     "metadata": {},
     "output_type": "display_data"
    }
   ],
   "source": [
    "paths_to_link_final_all_dl = {\n",
    "    \"Лучшая модель (Final All Data)\": FINAL_ALL_MODEL_SAVE_PATH,\n",
    "    \"Последний чекпоинт (Final All Data)\": FINAL_ALL_CHECKPOINT_PATH,\n",
    "    \"История обучения JSON (Final All Data)\": FINAL_ALL_HISTORY_SAVE_PATH\n",
    "}\n",
    "\n",
    "for name, path_obj in paths_to_link_final_all_dl.items():\n",
    "    if path_obj and isinstance(path_obj, Path) and path_obj.exists():\n",
    "        print(f\"\\\\nСсылка на '{name}':\")\n",
    "        display(FileLink(str(path_obj)))\n",
    "    elif path_obj:\n",
    "        print(f\"\\\\nФайл для '{name}' не найден по пути: {path_obj}\")\n",
    "    else:\n",
    "        print(f\"\\\\nПеременная пути для '{name}' не определена.\")"
   ]
  },
  {
   "cell_type": "code",
   "execution_count": null,
   "id": "23ad8388-3a2a-4d02-ba12-8177d540151a",
   "metadata": {},
   "outputs": [],
   "source": []
  }
 ],
 "metadata": {
  "kaggle": {
   "accelerator": "gpu",
   "dataSources": [
    {
     "datasetId": 3053660,
     "sourceId": 6036396,
     "sourceType": "datasetVersion"
    },
    {
     "datasetId": 4555568,
     "sourceId": 8130934,
     "sourceType": "datasetVersion"
    },
    {
     "datasetId": 5127760,
     "sourceId": 8575334,
     "sourceType": "datasetVersion"
    },
    {
     "datasetId": 6013837,
     "sourceId": 9810274,
     "sourceType": "datasetVersion"
    },
    {
     "datasetId": 7390037,
     "sourceId": 11771052,
     "sourceType": "datasetVersion"
    },
    {
     "datasetId": 7466927,
     "sourceId": 11880965,
     "sourceType": "datasetVersion"
    },
    {
     "datasetId": 7521139,
     "sourceId": 11961210,
     "sourceType": "datasetVersion"
    },
    {
     "datasetId": 7527902,
     "sourceId": 11971162,
     "sourceType": "datasetVersion"
    },
    {
     "modelId": 345553,
     "modelInstanceId": 324734,
     "sourceId": 395211,
     "sourceType": "modelInstanceVersion"
    },
    {
     "isSourceIdPinned": true,
     "modelId": 444367,
     "modelInstanceId": 427359,
     "sourceId": 567084,
     "sourceType": "modelInstanceVersion"
    }
   ],
   "dockerImageVersionId": 31041,
   "isGpuEnabled": true,
   "isInternetEnabled": true,
   "language": "python",
   "sourceType": "notebook"
  },
  "kernelspec": {
   "display_name": "Python 3 (ipykernel)",
   "language": "python",
   "name": "python3"
  },
  "language_info": {
   "codemirror_mode": {
    "name": "ipython",
    "version": 3
   },
   "file_extension": ".py",
   "mimetype": "text/x-python",
   "name": "python",
   "nbconvert_exporter": "python",
   "pygments_lexer": "ipython3",
   "version": "3.13.5"
  },
  "papermill": {
   "default_parameters": {},
   "duration": 27734.921992,
   "end_time": "2025-09-08T20:13:34.399119",
   "environment_variables": {},
   "exception": null,
   "input_path": "__notebook__.ipynb",
   "output_path": "__notebook__.ipynb",
   "parameters": {},
   "start_time": "2025-09-08T12:31:19.477127",
   "version": "2.6.0"
  },
  "widgets": {
   "application/vnd.jupyter.widget-state+json": {
    "state": {
     "00fdabf191b240e89fc11796ed464294": {
      "model_module": "@jupyter-widgets/controls",
      "model_module_version": "2.0.0",
      "model_name": "HTMLModel",
      "state": {
       "_dom_classes": [],
       "_model_module": "@jupyter-widgets/controls",
       "_model_module_version": "2.0.0",
       "_model_name": "HTMLModel",
       "_view_count": null,
       "_view_module": "@jupyter-widgets/controls",
       "_view_module_version": "2.0.0",
       "_view_name": "HTMLView",
       "description": "",
       "description_allow_html": false,
       "layout": "IPY_MODEL_53b356bf27b448e9b9a1ec32a1f4d8d9",
       "placeholder": "​",
       "style": "IPY_MODEL_29c6be8e699042338ddadf4f4fdef565",
       "tabbable": null,
       "tooltip": null,
       "value": " 201778/201778 [08:27&lt;00:00, 393.53it/s]"
      }
     },
     "015a6316b08d4ec0b3b95b5f71e9298e": {
      "model_module": "@jupyter-widgets/base",
      "model_module_version": "2.0.0",
      "model_name": "LayoutModel",
      "state": {
       "_model_module": "@jupyter-widgets/base",
       "_model_module_version": "2.0.0",
       "_model_name": "LayoutModel",
       "_view_count": null,
       "_view_module": "@jupyter-widgets/base",
       "_view_module_version": "2.0.0",
       "_view_name": "LayoutView",
       "align_content": null,
       "align_items": null,
       "align_self": null,
       "border_bottom": null,
       "border_left": null,
       "border_right": null,
       "border_top": null,
       "bottom": null,
       "display": null,
       "flex": null,
       "flex_flow": null,
       "grid_area": null,
       "grid_auto_columns": null,
       "grid_auto_flow": null,
       "grid_auto_rows": null,
       "grid_column": null,
       "grid_gap": null,
       "grid_row": null,
       "grid_template_areas": null,
       "grid_template_columns": null,
       "grid_template_rows": null,
       "height": null,
       "justify_content": null,
       "justify_items": null,
       "left": null,
       "margin": null,
       "max_height": null,
       "max_width": null,
       "min_height": null,
       "min_width": null,
       "object_fit": null,
       "object_position": null,
       "order": null,
       "overflow": null,
       "padding": null,
       "right": null,
       "top": null,
       "visibility": null,
       "width": null
      }
     },
     "02a23ef751c04b958ef65e3cc850932b": {
      "model_module": "@jupyter-widgets/controls",
      "model_module_version": "2.0.0",
      "model_name": "HTMLStyleModel",
      "state": {
       "_model_module": "@jupyter-widgets/controls",
       "_model_module_version": "2.0.0",
       "_model_name": "HTMLStyleModel",
       "_view_count": null,
       "_view_module": "@jupyter-widgets/base",
       "_view_module_version": "2.0.0",
       "_view_name": "StyleView",
       "background": null,
       "description_width": "",
       "font_size": null,
       "text_color": null
      }
     },
     "034fefa2686c4c4b958d7caae2967438": {
      "model_module": "@jupyter-widgets/controls",
      "model_module_version": "2.0.0",
      "model_name": "HTMLModel",
      "state": {
       "_dom_classes": [],
       "_model_module": "@jupyter-widgets/controls",
       "_model_module_version": "2.0.0",
       "_model_name": "HTMLModel",
       "_view_count": null,
       "_view_module": "@jupyter-widgets/controls",
       "_view_module_version": "2.0.0",
       "_view_name": "HTMLView",
       "description": "",
       "description_allow_html": false,
       "layout": "IPY_MODEL_a23348640e604272aaa17998c0861a61",
       "placeholder": "​",
       "style": "IPY_MODEL_5da2d78bf1c147b8825905a09f6363c2",
       "tabbable": null,
       "tooltip": null,
       "value": " 378M/378M [00:02&lt;00:00, 135MB/s]"
      }
     },
     "04ec3839360f4bfab35661e8b4b4588e": {
      "model_module": "@jupyter-widgets/controls",
      "model_module_version": "2.0.0",
      "model_name": "ProgressStyleModel",
      "state": {
       "_model_module": "@jupyter-widgets/controls",
       "_model_module_version": "2.0.0",
       "_model_name": "ProgressStyleModel",
       "_view_count": null,
       "_view_module": "@jupyter-widgets/base",
       "_view_module_version": "2.0.0",
       "_view_name": "StyleView",
       "bar_color": null,
       "description_width": ""
      }
     },
     "07b77a33ecee420090d3e7eb7d4372a8": {
      "model_module": "@jupyter-widgets/controls",
      "model_module_version": "2.0.0",
      "model_name": "ProgressStyleModel",
      "state": {
       "_model_module": "@jupyter-widgets/controls",
       "_model_module_version": "2.0.0",
       "_model_name": "ProgressStyleModel",
       "_view_count": null,
       "_view_module": "@jupyter-widgets/base",
       "_view_module_version": "2.0.0",
       "_view_name": "StyleView",
       "bar_color": null,
       "description_width": ""
      }
     },
     "09d17046afa142a681f6fc90502c6178": {
      "model_module": "@jupyter-widgets/base",
      "model_module_version": "2.0.0",
      "model_name": "LayoutModel",
      "state": {
       "_model_module": "@jupyter-widgets/base",
       "_model_module_version": "2.0.0",
       "_model_name": "LayoutModel",
       "_view_count": null,
       "_view_module": "@jupyter-widgets/base",
       "_view_module_version": "2.0.0",
       "_view_name": "LayoutView",
       "align_content": null,
       "align_items": null,
       "align_self": null,
       "border_bottom": null,
       "border_left": null,
       "border_right": null,
       "border_top": null,
       "bottom": null,
       "display": null,
       "flex": null,
       "flex_flow": null,
       "grid_area": null,
       "grid_auto_columns": null,
       "grid_auto_flow": null,
       "grid_auto_rows": null,
       "grid_column": null,
       "grid_gap": null,
       "grid_row": null,
       "grid_template_areas": null,
       "grid_template_columns": null,
       "grid_template_rows": null,
       "height": null,
       "justify_content": null,
       "justify_items": null,
       "left": null,
       "margin": null,
       "max_height": null,
       "max_width": null,
       "min_height": null,
       "min_width": null,
       "object_fit": null,
       "object_position": null,
       "order": null,
       "overflow": null,
       "padding": null,
       "right": null,
       "top": null,
       "visibility": null,
       "width": null
      }
     },
     "09d49fb832c0480ba20772836e4b87b1": {
      "model_module": "@jupyter-widgets/base",
      "model_module_version": "2.0.0",
      "model_name": "LayoutModel",
      "state": {
       "_model_module": "@jupyter-widgets/base",
       "_model_module_version": "2.0.0",
       "_model_name": "LayoutModel",
       "_view_count": null,
       "_view_module": "@jupyter-widgets/base",
       "_view_module_version": "2.0.0",
       "_view_name": "LayoutView",
       "align_content": null,
       "align_items": null,
       "align_self": null,
       "border_bottom": null,
       "border_left": null,
       "border_right": null,
       "border_top": null,
       "bottom": null,
       "display": null,
       "flex": null,
       "flex_flow": null,
       "grid_area": null,
       "grid_auto_columns": null,
       "grid_auto_flow": null,
       "grid_auto_rows": null,
       "grid_column": null,
       "grid_gap": null,
       "grid_row": null,
       "grid_template_areas": null,
       "grid_template_columns": null,
       "grid_template_rows": null,
       "height": null,
       "justify_content": null,
       "justify_items": null,
       "left": null,
       "margin": null,
       "max_height": null,
       "max_width": null,
       "min_height": null,
       "min_width": null,
       "object_fit": null,
       "object_position": null,
       "order": null,
       "overflow": null,
       "padding": null,
       "right": null,
       "top": null,
       "visibility": null,
       "width": null
      }
     },
     "1129ecd95c64470199ae94726e125467": {
      "model_module": "@jupyter-widgets/controls",
      "model_module_version": "2.0.0",
      "model_name": "ProgressStyleModel",
      "state": {
       "_model_module": "@jupyter-widgets/controls",
       "_model_module_version": "2.0.0",
       "_model_name": "ProgressStyleModel",
       "_view_count": null,
       "_view_module": "@jupyter-widgets/base",
       "_view_module_version": "2.0.0",
       "_view_name": "StyleView",
       "bar_color": null,
       "description_width": ""
      }
     },
     "14278f62e252408bae2af5f778c2a7d0": {
      "model_module": "@jupyter-widgets/controls",
      "model_module_version": "2.0.0",
      "model_name": "HTMLModel",
      "state": {
       "_dom_classes": [],
       "_model_module": "@jupyter-widgets/controls",
       "_model_module_version": "2.0.0",
       "_model_name": "HTMLModel",
       "_view_count": null,
       "_view_module": "@jupyter-widgets/controls",
       "_view_module_version": "2.0.0",
       "_view_name": "HTMLView",
       "description": "",
       "description_allow_html": false,
       "layout": "IPY_MODEL_8868b55f8c894ffc89ec5c372306857b",
       "placeholder": "​",
       "style": "IPY_MODEL_9582bb1adbfd4f00a0c43442afb12f4f",
       "tabbable": null,
       "tooltip": null,
       "value": "Тренировка Эпоха 4: 100%"
      }
     },
     "17ae1aba60d14890ba319d2d4d15865d": {
      "model_module": "@jupyter-widgets/controls",
      "model_module_version": "2.0.0",
      "model_name": "HTMLModel",
      "state": {
       "_dom_classes": [],
       "_model_module": "@jupyter-widgets/controls",
       "_model_module_version": "2.0.0",
       "_model_name": "HTMLModel",
       "_view_count": null,
       "_view_module": "@jupyter-widgets/controls",
       "_view_module_version": "2.0.0",
       "_view_name": "HTMLView",
       "description": "",
       "description_allow_html": false,
       "layout": "IPY_MODEL_17cced07c82448149c6d47af9708cbd9",
       "placeholder": "​",
       "style": "IPY_MODEL_e80fb1d0b98140eeae8b7d3c8237c93a",
       "tabbable": null,
       "tooltip": null,
       "value": " 2509/2510 [16:41&lt;00:00,  2.81it/s, loss=0.5287]"
      }
     },
     "17cced07c82448149c6d47af9708cbd9": {
      "model_module": "@jupyter-widgets/base",
      "model_module_version": "2.0.0",
      "model_name": "LayoutModel",
      "state": {
       "_model_module": "@jupyter-widgets/base",
       "_model_module_version": "2.0.0",
       "_model_name": "LayoutModel",
       "_view_count": null,
       "_view_module": "@jupyter-widgets/base",
       "_view_module_version": "2.0.0",
       "_view_name": "LayoutView",
       "align_content": null,
       "align_items": null,
       "align_self": null,
       "border_bottom": null,
       "border_left": null,
       "border_right": null,
       "border_top": null,
       "bottom": null,
       "display": null,
       "flex": null,
       "flex_flow": null,
       "grid_area": null,
       "grid_auto_columns": null,
       "grid_auto_flow": null,
       "grid_auto_rows": null,
       "grid_column": null,
       "grid_gap": null,
       "grid_row": null,
       "grid_template_areas": null,
       "grid_template_columns": null,
       "grid_template_rows": null,
       "height": null,
       "justify_content": null,
       "justify_items": null,
       "left": null,
       "margin": null,
       "max_height": null,
       "max_width": null,
       "min_height": null,
       "min_width": null,
       "object_fit": null,
       "object_position": null,
       "order": null,
       "overflow": null,
       "padding": null,
       "right": null,
       "top": null,
       "visibility": null,
       "width": null
      }
     },
     "1821251deffb4aa0ad741c7b367047c2": {
      "model_module": "@jupyter-widgets/controls",
      "model_module_version": "2.0.0",
      "model_name": "HBoxModel",
      "state": {
       "_dom_classes": [],
       "_model_module": "@jupyter-widgets/controls",
       "_model_module_version": "2.0.0",
       "_model_name": "HBoxModel",
       "_view_count": null,
       "_view_module": "@jupyter-widgets/controls",
       "_view_module_version": "2.0.0",
       "_view_name": "HBoxView",
       "box_style": "",
       "children": [
        "IPY_MODEL_7059f242b0a141a4a387bdef80856356",
        "IPY_MODEL_d5f66e7c0f1c4ff2a4b787fe5c6b8f17",
        "IPY_MODEL_17ae1aba60d14890ba319d2d4d15865d"
       ],
       "layout": "IPY_MODEL_968afd9046914f4ebe400b8b9c6fa47a",
       "tabbable": null,
       "tooltip": null
      }
     },
     "18f22f89293d49ffaed32303c69618dc": {
      "model_module": "@jupyter-widgets/controls",
      "model_module_version": "2.0.0",
      "model_name": "FloatProgressModel",
      "state": {
       "_dom_classes": [],
       "_model_module": "@jupyter-widgets/controls",
       "_model_module_version": "2.0.0",
       "_model_name": "FloatProgressModel",
       "_view_count": null,
       "_view_module": "@jupyter-widgets/controls",
       "_view_module_version": "2.0.0",
       "_view_name": "ProgressView",
       "bar_style": "",
       "description": "",
       "description_allow_html": false,
       "layout": "IPY_MODEL_b77411f38cbc471abb74355321c01eb2",
       "max": 2510,
       "min": 0,
       "orientation": "horizontal",
       "style": "IPY_MODEL_6834dab262f744c097b35393a6fd65c4",
       "tabbable": null,
       "tooltip": null,
       "value": 2510
      }
     },
     "197f5f75a5134f4ea26fa94262dd326a": {
      "model_module": "@jupyter-widgets/base",
      "model_module_version": "2.0.0",
      "model_name": "LayoutModel",
      "state": {
       "_model_module": "@jupyter-widgets/base",
       "_model_module_version": "2.0.0",
       "_model_name": "LayoutModel",
       "_view_count": null,
       "_view_module": "@jupyter-widgets/base",
       "_view_module_version": "2.0.0",
       "_view_name": "LayoutView",
       "align_content": null,
       "align_items": null,
       "align_self": null,
       "border_bottom": null,
       "border_left": null,
       "border_right": null,
       "border_top": null,
       "bottom": null,
       "display": null,
       "flex": null,
       "flex_flow": null,
       "grid_area": null,
       "grid_auto_columns": null,
       "grid_auto_flow": null,
       "grid_auto_rows": null,
       "grid_column": null,
       "grid_gap": null,
       "grid_row": null,
       "grid_template_areas": null,
       "grid_template_columns": null,
       "grid_template_rows": null,
       "height": null,
       "justify_content": null,
       "justify_items": null,
       "left": null,
       "margin": null,
       "max_height": null,
       "max_width": null,
       "min_height": null,
       "min_width": null,
       "object_fit": null,
       "object_position": null,
       "order": null,
       "overflow": null,
       "padding": null,
       "right": null,
       "top": null,
       "visibility": null,
       "width": null
      }
     },
     "1aa6e0edad51437aaaa932bf6a5b1132": {
      "model_module": "@jupyter-widgets/controls",
      "model_module_version": "2.0.0",
      "model_name": "HBoxModel",
      "state": {
       "_dom_classes": [],
       "_model_module": "@jupyter-widgets/controls",
       "_model_module_version": "2.0.0",
       "_model_name": "HBoxModel",
       "_view_count": null,
       "_view_module": "@jupyter-widgets/controls",
       "_view_module_version": "2.0.0",
       "_view_name": "HBoxView",
       "box_style": "",
       "children": [
        "IPY_MODEL_5a668742b5ae4451b6e31e7833997582",
        "IPY_MODEL_c5b172a42a354ffa87957695dd0b3cd4",
        "IPY_MODEL_60dc53f4efad45f0b930caf1ba4c08c1"
       ],
       "layout": "IPY_MODEL_dcc7c31851184691a117c3ff787603e7",
       "tabbable": null,
       "tooltip": null
      }
     },
     "1ae514b4fe5f4722851fe93e92b75e10": {
      "model_module": "@jupyter-widgets/base",
      "model_module_version": "2.0.0",
      "model_name": "LayoutModel",
      "state": {
       "_model_module": "@jupyter-widgets/base",
       "_model_module_version": "2.0.0",
       "_model_name": "LayoutModel",
       "_view_count": null,
       "_view_module": "@jupyter-widgets/base",
       "_view_module_version": "2.0.0",
       "_view_name": "LayoutView",
       "align_content": null,
       "align_items": null,
       "align_self": null,
       "border_bottom": null,
       "border_left": null,
       "border_right": null,
       "border_top": null,
       "bottom": null,
       "display": null,
       "flex": null,
       "flex_flow": null,
       "grid_area": null,
       "grid_auto_columns": null,
       "grid_auto_flow": null,
       "grid_auto_rows": null,
       "grid_column": null,
       "grid_gap": null,
       "grid_row": null,
       "grid_template_areas": null,
       "grid_template_columns": null,
       "grid_template_rows": null,
       "height": null,
       "justify_content": null,
       "justify_items": null,
       "left": null,
       "margin": null,
       "max_height": null,
       "max_width": null,
       "min_height": null,
       "min_width": null,
       "object_fit": null,
       "object_position": null,
       "order": null,
       "overflow": null,
       "padding": null,
       "right": null,
       "top": null,
       "visibility": null,
       "width": null
      }
     },
     "22decaa850c64b70ac7b76adee91ad60": {
      "model_module": "@jupyter-widgets/controls",
      "model_module_version": "2.0.0",
      "model_name": "HTMLStyleModel",
      "state": {
       "_model_module": "@jupyter-widgets/controls",
       "_model_module_version": "2.0.0",
       "_model_name": "HTMLStyleModel",
       "_view_count": null,
       "_view_module": "@jupyter-widgets/base",
       "_view_module_version": "2.0.0",
       "_view_name": "StyleView",
       "background": null,
       "description_width": "",
       "font_size": null,
       "text_color": null
      }
     },
     "23f6f14d76e7471eb6bdd9a51580665e": {
      "model_module": "@jupyter-widgets/base",
      "model_module_version": "2.0.0",
      "model_name": "LayoutModel",
      "state": {
       "_model_module": "@jupyter-widgets/base",
       "_model_module_version": "2.0.0",
       "_model_name": "LayoutModel",
       "_view_count": null,
       "_view_module": "@jupyter-widgets/base",
       "_view_module_version": "2.0.0",
       "_view_name": "LayoutView",
       "align_content": null,
       "align_items": null,
       "align_self": null,
       "border_bottom": null,
       "border_left": null,
       "border_right": null,
       "border_top": null,
       "bottom": null,
       "display": null,
       "flex": null,
       "flex_flow": null,
       "grid_area": null,
       "grid_auto_columns": null,
       "grid_auto_flow": null,
       "grid_auto_rows": null,
       "grid_column": null,
       "grid_gap": null,
       "grid_row": null,
       "grid_template_areas": null,
       "grid_template_columns": null,
       "grid_template_rows": null,
       "height": null,
       "justify_content": null,
       "justify_items": null,
       "left": null,
       "margin": null,
       "max_height": null,
       "max_width": null,
       "min_height": null,
       "min_width": null,
       "object_fit": null,
       "object_position": null,
       "order": null,
       "overflow": null,
       "padding": null,
       "right": null,
       "top": null,
       "visibility": null,
       "width": null
      }
     },
     "24bf491adac04d408f7dbd46d620d67e": {
      "model_module": "@jupyter-widgets/controls",
      "model_module_version": "2.0.0",
      "model_name": "HTMLStyleModel",
      "state": {
       "_model_module": "@jupyter-widgets/controls",
       "_model_module_version": "2.0.0",
       "_model_name": "HTMLStyleModel",
       "_view_count": null,
       "_view_module": "@jupyter-widgets/base",
       "_view_module_version": "2.0.0",
       "_view_name": "StyleView",
       "background": null,
       "description_width": "",
       "font_size": null,
       "text_color": null
      }
     },
     "2814a4a690e44a8fb59dc2207d962e26": {
      "model_module": "@jupyter-widgets/base",
      "model_module_version": "2.0.0",
      "model_name": "LayoutModel",
      "state": {
       "_model_module": "@jupyter-widgets/base",
       "_model_module_version": "2.0.0",
       "_model_name": "LayoutModel",
       "_view_count": null,
       "_view_module": "@jupyter-widgets/base",
       "_view_module_version": "2.0.0",
       "_view_name": "LayoutView",
       "align_content": null,
       "align_items": null,
       "align_self": null,
       "border_bottom": null,
       "border_left": null,
       "border_right": null,
       "border_top": null,
       "bottom": null,
       "display": null,
       "flex": null,
       "flex_flow": null,
       "grid_area": null,
       "grid_auto_columns": null,
       "grid_auto_flow": null,
       "grid_auto_rows": null,
       "grid_column": null,
       "grid_gap": null,
       "grid_row": null,
       "grid_template_areas": null,
       "grid_template_columns": null,
       "grid_template_rows": null,
       "height": null,
       "justify_content": null,
       "justify_items": null,
       "left": null,
       "margin": null,
       "max_height": null,
       "max_width": null,
       "min_height": null,
       "min_width": null,
       "object_fit": null,
       "object_position": null,
       "order": null,
       "overflow": null,
       "padding": null,
       "right": null,
       "top": null,
       "visibility": null,
       "width": null
      }
     },
     "2996ce423a384d7b90eb35ddf6cce1d5": {
      "model_module": "@jupyter-widgets/controls",
      "model_module_version": "2.0.0",
      "model_name": "HBoxModel",
      "state": {
       "_dom_classes": [],
       "_model_module": "@jupyter-widgets/controls",
       "_model_module_version": "2.0.0",
       "_model_name": "HBoxModel",
       "_view_count": null,
       "_view_module": "@jupyter-widgets/controls",
       "_view_module_version": "2.0.0",
       "_view_name": "HBoxView",
       "box_style": "",
       "children": [
        "IPY_MODEL_aab1e256bb40430bb68029e0251c7cf2",
        "IPY_MODEL_ff3ea31ade004ea5a8fa7637c4ab646e",
        "IPY_MODEL_f92039dd4d9942e184b19e80255464cb"
       ],
       "layout": "IPY_MODEL_f0528563afb94d8d94a133c996674361",
       "tabbable": null,
       "tooltip": null
      }
     },
     "29c6be8e699042338ddadf4f4fdef565": {
      "model_module": "@jupyter-widgets/controls",
      "model_module_version": "2.0.0",
      "model_name": "HTMLStyleModel",
      "state": {
       "_model_module": "@jupyter-widgets/controls",
       "_model_module_version": "2.0.0",
       "_model_name": "HTMLStyleModel",
       "_view_count": null,
       "_view_module": "@jupyter-widgets/base",
       "_view_module_version": "2.0.0",
       "_view_name": "StyleView",
       "background": null,
       "description_width": "",
       "font_size": null,
       "text_color": null
      }
     },
     "2cf707ff1cf04d84b1498fba28416cf4": {
      "model_module": "@jupyter-widgets/controls",
      "model_module_version": "2.0.0",
      "model_name": "HTMLModel",
      "state": {
       "_dom_classes": [],
       "_model_module": "@jupyter-widgets/controls",
       "_model_module_version": "2.0.0",
       "_model_name": "HTMLModel",
       "_view_count": null,
       "_view_module": "@jupyter-widgets/controls",
       "_view_module_version": "2.0.0",
       "_view_name": "HTMLView",
       "description": "",
       "description_allow_html": false,
       "layout": "IPY_MODEL_09d17046afa142a681f6fc90502c6178",
       "placeholder": "​",
       "style": "IPY_MODEL_620aec647c154502ab931479746b1e67",
       "tabbable": null,
       "tooltip": null,
       "value": " 110/110 [00:11&lt;00:00,  9.88it/s]"
      }
     },
     "2d5fc2a73c3c4862b1a6f3173698542e": {
      "model_module": "@jupyter-widgets/controls",
      "model_module_version": "2.0.0",
      "model_name": "HTMLModel",
      "state": {
       "_dom_classes": [],
       "_model_module": "@jupyter-widgets/controls",
       "_model_module_version": "2.0.0",
       "_model_name": "HTMLModel",
       "_view_count": null,
       "_view_module": "@jupyter-widgets/controls",
       "_view_module_version": "2.0.0",
       "_view_name": "HTMLView",
       "description": "",
       "description_allow_html": false,
       "layout": "IPY_MODEL_197f5f75a5134f4ea26fa94262dd326a",
       "placeholder": "​",
       "style": "IPY_MODEL_49cef12a4e7a4c439830400f5c6fdb64",
       "tabbable": null,
       "tooltip": null,
       "value": "Тренировка Эпоха 5: 100%"
      }
     },
     "2d745a49f3f346198e47ddcad752eefc": {
      "model_module": "@jupyter-widgets/controls",
      "model_module_version": "2.0.0",
      "model_name": "HTMLStyleModel",
      "state": {
       "_model_module": "@jupyter-widgets/controls",
       "_model_module_version": "2.0.0",
       "_model_name": "HTMLStyleModel",
       "_view_count": null,
       "_view_module": "@jupyter-widgets/base",
       "_view_module_version": "2.0.0",
       "_view_name": "StyleView",
       "background": null,
       "description_width": "",
       "font_size": null,
       "text_color": null
      }
     },
     "33015a62893d437aab215b65fced0464": {
      "model_module": "@jupyter-widgets/base",
      "model_module_version": "2.0.0",
      "model_name": "LayoutModel",
      "state": {
       "_model_module": "@jupyter-widgets/base",
       "_model_module_version": "2.0.0",
       "_model_name": "LayoutModel",
       "_view_count": null,
       "_view_module": "@jupyter-widgets/base",
       "_view_module_version": "2.0.0",
       "_view_name": "LayoutView",
       "align_content": null,
       "align_items": null,
       "align_self": null,
       "border_bottom": null,
       "border_left": null,
       "border_right": null,
       "border_top": null,
       "bottom": null,
       "display": null,
       "flex": null,
       "flex_flow": null,
       "grid_area": null,
       "grid_auto_columns": null,
       "grid_auto_flow": null,
       "grid_auto_rows": null,
       "grid_column": null,
       "grid_gap": null,
       "grid_row": null,
       "grid_template_areas": null,
       "grid_template_columns": null,
       "grid_template_rows": null,
       "height": null,
       "justify_content": null,
       "justify_items": null,
       "left": null,
       "margin": null,
       "max_height": null,
       "max_width": null,
       "min_height": null,
       "min_width": null,
       "object_fit": null,
       "object_position": null,
       "order": null,
       "overflow": null,
       "padding": null,
       "right": null,
       "top": null,
       "visibility": null,
       "width": null
      }
     },
     "37ac654da5424305838ef6583f01014f": {
      "model_module": "@jupyter-widgets/base",
      "model_module_version": "2.0.0",
      "model_name": "LayoutModel",
      "state": {
       "_model_module": "@jupyter-widgets/base",
       "_model_module_version": "2.0.0",
       "_model_name": "LayoutModel",
       "_view_count": null,
       "_view_module": "@jupyter-widgets/base",
       "_view_module_version": "2.0.0",
       "_view_name": "LayoutView",
       "align_content": null,
       "align_items": null,
       "align_self": null,
       "border_bottom": null,
       "border_left": null,
       "border_right": null,
       "border_top": null,
       "bottom": null,
       "display": null,
       "flex": null,
       "flex_flow": null,
       "grid_area": null,
       "grid_auto_columns": null,
       "grid_auto_flow": null,
       "grid_auto_rows": null,
       "grid_column": null,
       "grid_gap": null,
       "grid_row": null,
       "grid_template_areas": null,
       "grid_template_columns": null,
       "grid_template_rows": null,
       "height": null,
       "justify_content": null,
       "justify_items": null,
       "left": null,
       "margin": null,
       "max_height": null,
       "max_width": null,
       "min_height": null,
       "min_width": null,
       "object_fit": null,
       "object_position": null,
       "order": null,
       "overflow": null,
       "padding": null,
       "right": null,
       "top": null,
       "visibility": "hidden",
       "width": null
      }
     },
     "3851d676a00d468a84c17cfb2a89294b": {
      "model_module": "@jupyter-widgets/controls",
      "model_module_version": "2.0.0",
      "model_name": "HTMLModel",
      "state": {
       "_dom_classes": [],
       "_model_module": "@jupyter-widgets/controls",
       "_model_module_version": "2.0.0",
       "_model_name": "HTMLModel",
       "_view_count": null,
       "_view_module": "@jupyter-widgets/controls",
       "_view_module_version": "2.0.0",
       "_view_name": "HTMLView",
       "description": "",
       "description_allow_html": false,
       "layout": "IPY_MODEL_bfbff4a5779247e6a8bf4c42cbc3e050",
       "placeholder": "​",
       "style": "IPY_MODEL_d0edbe3829c64f3f952b731c916d2e62",
       "tabbable": null,
       "tooltip": null,
       "value": "  ReplayDF UID: 100%"
      }
     },
     "3a5645944c454a1b8cd83092a6a11d3d": {
      "model_module": "@jupyter-widgets/controls",
      "model_module_version": "2.0.0",
      "model_name": "HTMLModel",
      "state": {
       "_dom_classes": [],
       "_model_module": "@jupyter-widgets/controls",
       "_model_module_version": "2.0.0",
       "_model_name": "HTMLModel",
       "_view_count": null,
       "_view_module": "@jupyter-widgets/controls",
       "_view_module_version": "2.0.0",
       "_view_name": "HTMLView",
       "description": "",
       "description_allow_html": false,
       "layout": "IPY_MODEL_09d49fb832c0480ba20772836e4b87b1",
       "placeholder": "​",
       "style": "IPY_MODEL_55da245f753444bf8dc904929604cfa1",
       "tabbable": null,
       "tooltip": null,
       "value": "Тестирование REPLAY: 100%"
      }
     },
     "3a5c4d1eb9bc4990aa23c77352054d40": {
      "model_module": "@jupyter-widgets/controls",
      "model_module_version": "2.0.0",
      "model_name": "FloatProgressModel",
      "state": {
       "_dom_classes": [],
       "_model_module": "@jupyter-widgets/controls",
       "_model_module_version": "2.0.0",
       "_model_name": "FloatProgressModel",
       "_view_count": null,
       "_view_module": "@jupyter-widgets/controls",
       "_view_module_version": "2.0.0",
       "_view_name": "ProgressView",
       "bar_style": "success",
       "description": "",
       "description_allow_html": false,
       "layout": "IPY_MODEL_8995e10ca7f94dd587dea0e1700d349a",
       "max": 377617425,
       "min": 0,
       "orientation": "horizontal",
       "style": "IPY_MODEL_fb813df732d54f44aea9d629f6d768ed",
       "tabbable": null,
       "tooltip": null,
       "value": 377617425
      }
     },
     "3bf84056db8d4be5a0cc3407054eadea": {
      "model_module": "@jupyter-widgets/controls",
      "model_module_version": "2.0.0",
      "model_name": "FloatProgressModel",
      "state": {
       "_dom_classes": [],
       "_model_module": "@jupyter-widgets/controls",
       "_model_module_version": "2.0.0",
       "_model_name": "FloatProgressModel",
       "_view_count": null,
       "_view_module": "@jupyter-widgets/controls",
       "_view_module_version": "2.0.0",
       "_view_name": "ProgressView",
       "bar_style": "",
       "description": "",
       "description_allow_html": false,
       "layout": "IPY_MODEL_33015a62893d437aab215b65fced0464",
       "max": 11708,
       "min": 0,
       "orientation": "horizontal",
       "style": "IPY_MODEL_c797693084944fdd931fae86fb9c7158",
       "tabbable": null,
       "tooltip": null,
       "value": 11708
      }
     },
     "3d45c3c368624cd997f3bc02d07e8f29": {
      "model_module": "@jupyter-widgets/controls",
      "model_module_version": "2.0.0",
      "model_name": "HTMLStyleModel",
      "state": {
       "_model_module": "@jupyter-widgets/controls",
       "_model_module_version": "2.0.0",
       "_model_name": "HTMLStyleModel",
       "_view_count": null,
       "_view_module": "@jupyter-widgets/base",
       "_view_module_version": "2.0.0",
       "_view_name": "StyleView",
       "background": null,
       "description_width": "",
       "font_size": null,
       "text_color": null
      }
     },
     "428810233df24ec2bd5fb6fdac53508f": {
      "model_module": "@jupyter-widgets/controls",
      "model_module_version": "2.0.0",
      "model_name": "ProgressStyleModel",
      "state": {
       "_model_module": "@jupyter-widgets/controls",
       "_model_module_version": "2.0.0",
       "_model_name": "ProgressStyleModel",
       "_view_count": null,
       "_view_module": "@jupyter-widgets/base",
       "_view_module_version": "2.0.0",
       "_view_name": "StyleView",
       "bar_color": null,
       "description_width": ""
      }
     },
     "43106580865642ae8d62dadec73e9679": {
      "model_module": "@jupyter-widgets/controls",
      "model_module_version": "2.0.0",
      "model_name": "HTMLStyleModel",
      "state": {
       "_model_module": "@jupyter-widgets/controls",
       "_model_module_version": "2.0.0",
       "_model_name": "HTMLStyleModel",
       "_view_count": null,
       "_view_module": "@jupyter-widgets/base",
       "_view_module_version": "2.0.0",
       "_view_name": "StyleView",
       "background": null,
       "description_width": "",
       "font_size": null,
       "text_color": null
      }
     },
     "43a4d4a56037466299842e12c48143c0": {
      "model_module": "@jupyter-widgets/controls",
      "model_module_version": "2.0.0",
      "model_name": "ProgressStyleModel",
      "state": {
       "_model_module": "@jupyter-widgets/controls",
       "_model_module_version": "2.0.0",
       "_model_name": "ProgressStyleModel",
       "_view_count": null,
       "_view_module": "@jupyter-widgets/base",
       "_view_module_version": "2.0.0",
       "_view_name": "StyleView",
       "bar_color": null,
       "description_width": ""
      }
     },
     "478127a71f5342958e03a80e5493756f": {
      "model_module": "@jupyter-widgets/controls",
      "model_module_version": "2.0.0",
      "model_name": "FloatProgressModel",
      "state": {
       "_dom_classes": [],
       "_model_module": "@jupyter-widgets/controls",
       "_model_module_version": "2.0.0",
       "_model_name": "FloatProgressModel",
       "_view_count": null,
       "_view_module": "@jupyter-widgets/controls",
       "_view_module_version": "2.0.0",
       "_view_name": "ProgressView",
       "bar_style": "",
       "description": "",
       "description_allow_html": false,
       "layout": "IPY_MODEL_1ae514b4fe5f4722851fe93e92b75e10",
       "max": 659,
       "min": 0,
       "orientation": "horizontal",
       "style": "IPY_MODEL_8349281891344748b946749211aef7ec",
       "tabbable": null,
       "tooltip": null,
       "value": 659
      }
     },
     "49cef12a4e7a4c439830400f5c6fdb64": {
      "model_module": "@jupyter-widgets/controls",
      "model_module_version": "2.0.0",
      "model_name": "HTMLStyleModel",
      "state": {
       "_model_module": "@jupyter-widgets/controls",
       "_model_module_version": "2.0.0",
       "_model_name": "HTMLStyleModel",
       "_view_count": null,
       "_view_module": "@jupyter-widgets/base",
       "_view_module_version": "2.0.0",
       "_view_name": "StyleView",
       "background": null,
       "description_width": "",
       "font_size": null,
       "text_color": null
      }
     },
     "4b571742ab55473e84642372aa4dba9f": {
      "model_module": "@jupyter-widgets/controls",
      "model_module_version": "2.0.0",
      "model_name": "HTMLModel",
      "state": {
       "_dom_classes": [],
       "_model_module": "@jupyter-widgets/controls",
       "_model_module_version": "2.0.0",
       "_model_name": "HTMLModel",
       "_view_count": null,
       "_view_module": "@jupyter-widgets/controls",
       "_view_module_version": "2.0.0",
       "_view_name": "HTMLView",
       "description": "",
       "description_allow_html": false,
       "layout": "IPY_MODEL_a41072469015467a924570e4834e7b0e",
       "placeholder": "​",
       "style": "IPY_MODEL_763d10f6bbf34a41ac9da63ddb05bff6",
       "tabbable": null,
       "tooltip": null,
       "value": "model.safetensors: 100%"
      }
     },
     "4f24b5e1aad44130a4f381407f0da5d6": {
      "model_module": "@jupyter-widgets/controls",
      "model_module_version": "2.0.0",
      "model_name": "HBoxModel",
      "state": {
       "_dom_classes": [],
       "_model_module": "@jupyter-widgets/controls",
       "_model_module_version": "2.0.0",
       "_model_name": "HBoxModel",
       "_view_count": null,
       "_view_module": "@jupyter-widgets/controls",
       "_view_module_version": "2.0.0",
       "_view_name": "HBoxView",
       "box_style": "",
       "children": [
        "IPY_MODEL_3a5645944c454a1b8cd83092a6a11d3d",
        "IPY_MODEL_478127a71f5342958e03a80e5493756f",
        "IPY_MODEL_a695235b87be4b3ea5031554603f7103"
       ],
       "layout": "IPY_MODEL_8e07980d8f4d4f0aa5acd2b52dc50506",
       "tabbable": null,
       "tooltip": null
      }
     },
     "4f365084763148a9b9723d3d98752169": {
      "model_module": "@jupyter-widgets/controls",
      "model_module_version": "2.0.0",
      "model_name": "HBoxModel",
      "state": {
       "_dom_classes": [],
       "_model_module": "@jupyter-widgets/controls",
       "_model_module_version": "2.0.0",
       "_model_name": "HBoxModel",
       "_view_count": null,
       "_view_module": "@jupyter-widgets/controls",
       "_view_module_version": "2.0.0",
       "_view_name": "HBoxView",
       "box_style": "",
       "children": [
        "IPY_MODEL_aea12540d0e846e28e7fee34c7caa01e",
        "IPY_MODEL_3a5c4d1eb9bc4990aa23c77352054d40",
        "IPY_MODEL_4f5054380df445d6ae6761223a0055e1"
       ],
       "layout": "IPY_MODEL_6950ecaff949410daafff2d3a0a333c0",
       "tabbable": null,
       "tooltip": null
      }
     },
     "4f5054380df445d6ae6761223a0055e1": {
      "model_module": "@jupyter-widgets/controls",
      "model_module_version": "2.0.0",
      "model_name": "HTMLModel",
      "state": {
       "_dom_classes": [],
       "_model_module": "@jupyter-widgets/controls",
       "_model_module_version": "2.0.0",
       "_model_name": "HTMLModel",
       "_view_count": null,
       "_view_module": "@jupyter-widgets/controls",
       "_view_module_version": "2.0.0",
       "_view_name": "HTMLView",
       "description": "",
       "description_allow_html": false,
       "layout": "IPY_MODEL_cedf32072c804ef7beff18759414c5ba",
       "placeholder": "​",
       "style": "IPY_MODEL_83b1b2db60fa48cfa1f7656754c30440",
       "tabbable": null,
       "tooltip": null,
       "value": " 378M/378M [00:04&lt;00:00, 204MB/s]"
      }
     },
     "53b356bf27b448e9b9a1ec32a1f4d8d9": {
      "model_module": "@jupyter-widgets/base",
      "model_module_version": "2.0.0",
      "model_name": "LayoutModel",
      "state": {
       "_model_module": "@jupyter-widgets/base",
       "_model_module_version": "2.0.0",
       "_model_name": "LayoutModel",
       "_view_count": null,
       "_view_module": "@jupyter-widgets/base",
       "_view_module_version": "2.0.0",
       "_view_name": "LayoutView",
       "align_content": null,
       "align_items": null,
       "align_self": null,
       "border_bottom": null,
       "border_left": null,
       "border_right": null,
       "border_top": null,
       "bottom": null,
       "display": null,
       "flex": null,
       "flex_flow": null,
       "grid_area": null,
       "grid_auto_columns": null,
       "grid_auto_flow": null,
       "grid_auto_rows": null,
       "grid_column": null,
       "grid_gap": null,
       "grid_row": null,
       "grid_template_areas": null,
       "grid_template_columns": null,
       "grid_template_rows": null,
       "height": null,
       "justify_content": null,
       "justify_items": null,
       "left": null,
       "margin": null,
       "max_height": null,
       "max_width": null,
       "min_height": null,
       "min_width": null,
       "object_fit": null,
       "object_position": null,
       "order": null,
       "overflow": null,
       "padding": null,
       "right": null,
       "top": null,
       "visibility": null,
       "width": null
      }
     },
     "53b81aee54d94a739c5925fcf43766ee": {
      "model_module": "@jupyter-widgets/controls",
      "model_module_version": "2.0.0",
      "model_name": "HBoxModel",
      "state": {
       "_dom_classes": [],
       "_model_module": "@jupyter-widgets/controls",
       "_model_module_version": "2.0.0",
       "_model_name": "HBoxModel",
       "_view_count": null,
       "_view_module": "@jupyter-widgets/controls",
       "_view_module_version": "2.0.0",
       "_view_name": "HBoxView",
       "box_style": "",
       "children": [
        "IPY_MODEL_9691ea7a886646e1b1b99891d7b2e49c",
        "IPY_MODEL_fccaac304f804ba7b0c0c291e4569413",
        "IPY_MODEL_8b21066901c944099c277ef1bdfce2cc"
       ],
       "layout": "IPY_MODEL_ac5a3cdeb17c4ee69b710160cc3e03a0",
       "tabbable": null,
       "tooltip": null
      }
     },
     "55da245f753444bf8dc904929604cfa1": {
      "model_module": "@jupyter-widgets/controls",
      "model_module_version": "2.0.0",
      "model_name": "HTMLStyleModel",
      "state": {
       "_model_module": "@jupyter-widgets/controls",
       "_model_module_version": "2.0.0",
       "_model_name": "HTMLStyleModel",
       "_view_count": null,
       "_view_module": "@jupyter-widgets/base",
       "_view_module_version": "2.0.0",
       "_view_name": "StyleView",
       "background": null,
       "description_width": "",
       "font_size": null,
       "text_color": null
      }
     },
     "5a668742b5ae4451b6e31e7833997582": {
      "model_module": "@jupyter-widgets/controls",
      "model_module_version": "2.0.0",
      "model_name": "HTMLModel",
      "state": {
       "_dom_classes": [],
       "_model_module": "@jupyter-widgets/controls",
       "_model_module_version": "2.0.0",
       "_model_name": "HTMLModel",
       "_view_count": null,
       "_view_module": "@jupyter-widgets/controls",
       "_view_module_version": "2.0.0",
       "_view_name": "HTMLView",
       "description": "",
       "description_allow_html": false,
       "layout": "IPY_MODEL_f9e05d975f9b4d7c8e87ecab75ba47ae",
       "placeholder": "​",
       "style": "IPY_MODEL_e4adb990163f46b3a54f00be1bd70bac",
       "tabbable": null,
       "tooltip": null,
       "value": "Валидация Final All Эпоха 4: 100%"
      }
     },
     "5da2d78bf1c147b8825905a09f6363c2": {
      "model_module": "@jupyter-widgets/controls",
      "model_module_version": "2.0.0",
      "model_name": "HTMLStyleModel",
      "state": {
       "_model_module": "@jupyter-widgets/controls",
       "_model_module_version": "2.0.0",
       "_model_name": "HTMLStyleModel",
       "_view_count": null,
       "_view_module": "@jupyter-widgets/base",
       "_view_module_version": "2.0.0",
       "_view_name": "StyleView",
       "background": null,
       "description_width": "",
       "font_size": null,
       "text_color": null
      }
     },
     "5fc5820d49f44563bd63c50d9d1fe28c": {
      "model_module": "@jupyter-widgets/base",
      "model_module_version": "2.0.0",
      "model_name": "LayoutModel",
      "state": {
       "_model_module": "@jupyter-widgets/base",
       "_model_module_version": "2.0.0",
       "_model_name": "LayoutModel",
       "_view_count": null,
       "_view_module": "@jupyter-widgets/base",
       "_view_module_version": "2.0.0",
       "_view_name": "LayoutView",
       "align_content": null,
       "align_items": null,
       "align_self": null,
       "border_bottom": null,
       "border_left": null,
       "border_right": null,
       "border_top": null,
       "bottom": null,
       "display": null,
       "flex": null,
       "flex_flow": null,
       "grid_area": null,
       "grid_auto_columns": null,
       "grid_auto_flow": null,
       "grid_auto_rows": null,
       "grid_column": null,
       "grid_gap": null,
       "grid_row": null,
       "grid_template_areas": null,
       "grid_template_columns": null,
       "grid_template_rows": null,
       "height": null,
       "justify_content": null,
       "justify_items": null,
       "left": null,
       "margin": null,
       "max_height": null,
       "max_width": null,
       "min_height": null,
       "min_width": null,
       "object_fit": null,
       "object_position": null,
       "order": null,
       "overflow": null,
       "padding": null,
       "right": null,
       "top": null,
       "visibility": null,
       "width": null
      }
     },
     "60dc53f4efad45f0b930caf1ba4c08c1": {
      "model_module": "@jupyter-widgets/controls",
      "model_module_version": "2.0.0",
      "model_name": "HTMLModel",
      "state": {
       "_dom_classes": [],
       "_model_module": "@jupyter-widgets/controls",
       "_model_module_version": "2.0.0",
       "_model_name": "HTMLModel",
       "_view_count": null,
       "_view_module": "@jupyter-widgets/controls",
       "_view_module_version": "2.0.0",
       "_view_name": "HTMLView",
       "description": "",
       "description_allow_html": false,
       "layout": "IPY_MODEL_a4d0b6f231824bc68d428e47cec37cc3",
       "placeholder": "​",
       "style": "IPY_MODEL_8e6b1d5a4fd84641bd9dd1f54e40b659",
       "tabbable": null,
       "tooltip": null,
       "value": " 2510/2510 [15:43&lt;00:00,  2.77it/s, loss=0.0415]"
      }
     },
     "620aec647c154502ab931479746b1e67": {
      "model_module": "@jupyter-widgets/controls",
      "model_module_version": "2.0.0",
      "model_name": "HTMLStyleModel",
      "state": {
       "_model_module": "@jupyter-widgets/controls",
       "_model_module_version": "2.0.0",
       "_model_name": "HTMLStyleModel",
       "_view_count": null,
       "_view_module": "@jupyter-widgets/base",
       "_view_module_version": "2.0.0",
       "_view_name": "StyleView",
       "background": null,
       "description_width": "",
       "font_size": null,
       "text_color": null
      }
     },
     "6248c1c8bfc841fd839aa3660f0ecfc0": {
      "model_module": "@jupyter-widgets/controls",
      "model_module_version": "2.0.0",
      "model_name": "ProgressStyleModel",
      "state": {
       "_model_module": "@jupyter-widgets/controls",
       "_model_module_version": "2.0.0",
       "_model_name": "ProgressStyleModel",
       "_view_count": null,
       "_view_module": "@jupyter-widgets/base",
       "_view_module_version": "2.0.0",
       "_view_name": "StyleView",
       "bar_color": null,
       "description_width": ""
      }
     },
     "629d7ce333a6440ba5b11c1ed3805a93": {
      "model_module": "@jupyter-widgets/controls",
      "model_module_version": "2.0.0",
      "model_name": "HBoxModel",
      "state": {
       "_dom_classes": [],
       "_model_module": "@jupyter-widgets/controls",
       "_model_module_version": "2.0.0",
       "_model_name": "HBoxModel",
       "_view_count": null,
       "_view_module": "@jupyter-widgets/controls",
       "_view_module_version": "2.0.0",
       "_view_name": "HBoxView",
       "box_style": "",
       "children": [
        "IPY_MODEL_7c285a081739490799515bb27236022a",
        "IPY_MODEL_a603c09d00654f09b50d852b357cfbcf",
        "IPY_MODEL_00fdabf191b240e89fc11796ed464294"
       ],
       "layout": "IPY_MODEL_d0ee33dc94734b898cc4be35372a73c2",
       "tabbable": null,
       "tooltip": null
      }
     },
     "62bda50326fb434ebe21cc5d538f1e6b": {
      "model_module": "@jupyter-widgets/base",
      "model_module_version": "2.0.0",
      "model_name": "LayoutModel",
      "state": {
       "_model_module": "@jupyter-widgets/base",
       "_model_module_version": "2.0.0",
       "_model_name": "LayoutModel",
       "_view_count": null,
       "_view_module": "@jupyter-widgets/base",
       "_view_module_version": "2.0.0",
       "_view_name": "LayoutView",
       "align_content": null,
       "align_items": null,
       "align_self": null,
       "border_bottom": null,
       "border_left": null,
       "border_right": null,
       "border_top": null,
       "bottom": null,
       "display": null,
       "flex": null,
       "flex_flow": null,
       "grid_area": null,
       "grid_auto_columns": null,
       "grid_auto_flow": null,
       "grid_auto_rows": null,
       "grid_column": null,
       "grid_gap": null,
       "grid_row": null,
       "grid_template_areas": null,
       "grid_template_columns": null,
       "grid_template_rows": null,
       "height": null,
       "justify_content": null,
       "justify_items": null,
       "left": null,
       "margin": null,
       "max_height": null,
       "max_width": null,
       "min_height": null,
       "min_width": null,
       "object_fit": null,
       "object_position": null,
       "order": null,
       "overflow": null,
       "padding": null,
       "right": null,
       "top": null,
       "visibility": null,
       "width": "20px"
      }
     },
     "634ab8d3e4314a5090976c583b7a25c5": {
      "model_module": "@jupyter-widgets/controls",
      "model_module_version": "2.0.0",
      "model_name": "HBoxModel",
      "state": {
       "_dom_classes": [],
       "_model_module": "@jupyter-widgets/controls",
       "_model_module_version": "2.0.0",
       "_model_name": "HBoxModel",
       "_view_count": null,
       "_view_module": "@jupyter-widgets/controls",
       "_view_module_version": "2.0.0",
       "_view_name": "HBoxView",
       "box_style": "",
       "children": [
        "IPY_MODEL_851cba1729374565a88c5ac7fc8ff75c",
        "IPY_MODEL_18f22f89293d49ffaed32303c69618dc",
        "IPY_MODEL_863618eca5a24e76aadb9c45bb707da2"
       ],
       "layout": "IPY_MODEL_b6c1a6297acc4168a8257cfcc03c1881",
       "tabbable": null,
       "tooltip": null
      }
     },
     "64e42aa936a541b0818bc57970d6a489": {
      "model_module": "@jupyter-widgets/controls",
      "model_module_version": "2.0.0",
      "model_name": "HTMLStyleModel",
      "state": {
       "_model_module": "@jupyter-widgets/controls",
       "_model_module_version": "2.0.0",
       "_model_name": "HTMLStyleModel",
       "_view_count": null,
       "_view_module": "@jupyter-widgets/base",
       "_view_module_version": "2.0.0",
       "_view_name": "StyleView",
       "background": null,
       "description_width": "",
       "font_size": null,
       "text_color": null
      }
     },
     "66ddc40bd3c84db8b3164e4a84d7cecf": {
      "model_module": "@jupyter-widgets/base",
      "model_module_version": "2.0.0",
      "model_name": "LayoutModel",
      "state": {
       "_model_module": "@jupyter-widgets/base",
       "_model_module_version": "2.0.0",
       "_model_name": "LayoutModel",
       "_view_count": null,
       "_view_module": "@jupyter-widgets/base",
       "_view_module_version": "2.0.0",
       "_view_name": "LayoutView",
       "align_content": null,
       "align_items": null,
       "align_self": null,
       "border_bottom": null,
       "border_left": null,
       "border_right": null,
       "border_top": null,
       "bottom": null,
       "display": null,
       "flex": null,
       "flex_flow": null,
       "grid_area": null,
       "grid_auto_columns": null,
       "grid_auto_flow": null,
       "grid_auto_rows": null,
       "grid_column": null,
       "grid_gap": null,
       "grid_row": null,
       "grid_template_areas": null,
       "grid_template_columns": null,
       "grid_template_rows": null,
       "height": null,
       "justify_content": null,
       "justify_items": null,
       "left": null,
       "margin": null,
       "max_height": null,
       "max_width": null,
       "min_height": null,
       "min_width": null,
       "object_fit": null,
       "object_position": null,
       "order": null,
       "overflow": null,
       "padding": null,
       "right": null,
       "top": null,
       "visibility": null,
       "width": null
      }
     },
     "6834dab262f744c097b35393a6fd65c4": {
      "model_module": "@jupyter-widgets/controls",
      "model_module_version": "2.0.0",
      "model_name": "ProgressStyleModel",
      "state": {
       "_model_module": "@jupyter-widgets/controls",
       "_model_module_version": "2.0.0",
       "_model_name": "ProgressStyleModel",
       "_view_count": null,
       "_view_module": "@jupyter-widgets/base",
       "_view_module_version": "2.0.0",
       "_view_name": "StyleView",
       "bar_color": null,
       "description_width": ""
      }
     },
     "6950ecaff949410daafff2d3a0a333c0": {
      "model_module": "@jupyter-widgets/base",
      "model_module_version": "2.0.0",
      "model_name": "LayoutModel",
      "state": {
       "_model_module": "@jupyter-widgets/base",
       "_model_module_version": "2.0.0",
       "_model_name": "LayoutModel",
       "_view_count": null,
       "_view_module": "@jupyter-widgets/base",
       "_view_module_version": "2.0.0",
       "_view_name": "LayoutView",
       "align_content": null,
       "align_items": null,
       "align_self": null,
       "border_bottom": null,
       "border_left": null,
       "border_right": null,
       "border_top": null,
       "bottom": null,
       "display": null,
       "flex": null,
       "flex_flow": null,
       "grid_area": null,
       "grid_auto_columns": null,
       "grid_auto_flow": null,
       "grid_auto_rows": null,
       "grid_column": null,
       "grid_gap": null,
       "grid_row": null,
       "grid_template_areas": null,
       "grid_template_columns": null,
       "grid_template_rows": null,
       "height": null,
       "justify_content": null,
       "justify_items": null,
       "left": null,
       "margin": null,
       "max_height": null,
       "max_width": null,
       "min_height": null,
       "min_width": null,
       "object_fit": null,
       "object_position": null,
       "order": null,
       "overflow": null,
       "padding": null,
       "right": null,
       "top": null,
       "visibility": null,
       "width": null
      }
     },
     "6bf32fbc4abf43fc94ab689a0ab95543": {
      "model_module": "@jupyter-widgets/base",
      "model_module_version": "2.0.0",
      "model_name": "LayoutModel",
      "state": {
       "_model_module": "@jupyter-widgets/base",
       "_model_module_version": "2.0.0",
       "_model_name": "LayoutModel",
       "_view_count": null,
       "_view_module": "@jupyter-widgets/base",
       "_view_module_version": "2.0.0",
       "_view_name": "LayoutView",
       "align_content": null,
       "align_items": null,
       "align_self": null,
       "border_bottom": null,
       "border_left": null,
       "border_right": null,
       "border_top": null,
       "bottom": null,
       "display": null,
       "flex": null,
       "flex_flow": null,
       "grid_area": null,
       "grid_auto_columns": null,
       "grid_auto_flow": null,
       "grid_auto_rows": null,
       "grid_column": null,
       "grid_gap": null,
       "grid_row": null,
       "grid_template_areas": null,
       "grid_template_columns": null,
       "grid_template_rows": null,
       "height": null,
       "justify_content": null,
       "justify_items": null,
       "left": null,
       "margin": null,
       "max_height": null,
       "max_width": null,
       "min_height": null,
       "min_width": null,
       "object_fit": null,
       "object_position": null,
       "order": null,
       "overflow": null,
       "padding": null,
       "right": null,
       "top": null,
       "visibility": null,
       "width": null
      }
     },
     "6db7e7d362e34a43b35b31d522dad1a9": {
      "model_module": "@jupyter-widgets/controls",
      "model_module_version": "2.0.0",
      "model_name": "HTMLStyleModel",
      "state": {
       "_model_module": "@jupyter-widgets/controls",
       "_model_module_version": "2.0.0",
       "_model_name": "HTMLStyleModel",
       "_view_count": null,
       "_view_module": "@jupyter-widgets/base",
       "_view_module_version": "2.0.0",
       "_view_name": "StyleView",
       "background": null,
       "description_width": "",
       "font_size": null,
       "text_color": null
      }
     },
     "6ee0921cf3924071b28ce9b278dfe57c": {
      "model_module": "@jupyter-widgets/base",
      "model_module_version": "2.0.0",
      "model_name": "LayoutModel",
      "state": {
       "_model_module": "@jupyter-widgets/base",
       "_model_module_version": "2.0.0",
       "_model_name": "LayoutModel",
       "_view_count": null,
       "_view_module": "@jupyter-widgets/base",
       "_view_module_version": "2.0.0",
       "_view_name": "LayoutView",
       "align_content": null,
       "align_items": null,
       "align_self": null,
       "border_bottom": null,
       "border_left": null,
       "border_right": null,
       "border_top": null,
       "bottom": null,
       "display": null,
       "flex": null,
       "flex_flow": null,
       "grid_area": null,
       "grid_auto_columns": null,
       "grid_auto_flow": null,
       "grid_auto_rows": null,
       "grid_column": null,
       "grid_gap": null,
       "grid_row": null,
       "grid_template_areas": null,
       "grid_template_columns": null,
       "grid_template_rows": null,
       "height": null,
       "justify_content": null,
       "justify_items": null,
       "left": null,
       "margin": null,
       "max_height": null,
       "max_width": null,
       "min_height": null,
       "min_width": null,
       "object_fit": null,
       "object_position": null,
       "order": null,
       "overflow": null,
       "padding": null,
       "right": null,
       "top": null,
       "visibility": null,
       "width": null
      }
     },
     "7059f242b0a141a4a387bdef80856356": {
      "model_module": "@jupyter-widgets/controls",
      "model_module_version": "2.0.0",
      "model_name": "HTMLModel",
      "state": {
       "_dom_classes": [],
       "_model_module": "@jupyter-widgets/controls",
       "_model_module_version": "2.0.0",
       "_model_name": "HTMLModel",
       "_view_count": null,
       "_view_module": "@jupyter-widgets/controls",
       "_view_module_version": "2.0.0",
       "_view_name": "HTMLView",
       "description": "",
       "description_allow_html": false,
       "layout": "IPY_MODEL_f5110d1f594c4d5cb62d47a152744531",
       "placeholder": "​",
       "style": "IPY_MODEL_22decaa850c64b70ac7b76adee91ad60",
       "tabbable": null,
       "tooltip": null,
       "value": "Тестирование Final All Data (Общее): 100%"
      }
     },
     "763d10f6bbf34a41ac9da63ddb05bff6": {
      "model_module": "@jupyter-widgets/controls",
      "model_module_version": "2.0.0",
      "model_name": "HTMLStyleModel",
      "state": {
       "_model_module": "@jupyter-widgets/controls",
       "_model_module_version": "2.0.0",
       "_model_name": "HTMLStyleModel",
       "_view_count": null,
       "_view_module": "@jupyter-widgets/base",
       "_view_module_version": "2.0.0",
       "_view_name": "StyleView",
       "background": null,
       "description_width": "",
       "font_size": null,
       "text_color": null
      }
     },
     "79e93c94a4a843628baff618acfce186": {
      "model_module": "@jupyter-widgets/base",
      "model_module_version": "2.0.0",
      "model_name": "LayoutModel",
      "state": {
       "_model_module": "@jupyter-widgets/base",
       "_model_module_version": "2.0.0",
       "_model_name": "LayoutModel",
       "_view_count": null,
       "_view_module": "@jupyter-widgets/base",
       "_view_module_version": "2.0.0",
       "_view_name": "LayoutView",
       "align_content": null,
       "align_items": null,
       "align_self": null,
       "border_bottom": null,
       "border_left": null,
       "border_right": null,
       "border_top": null,
       "bottom": null,
       "display": null,
       "flex": null,
       "flex_flow": null,
       "grid_area": null,
       "grid_auto_columns": null,
       "grid_auto_flow": null,
       "grid_auto_rows": null,
       "grid_column": null,
       "grid_gap": null,
       "grid_row": null,
       "grid_template_areas": null,
       "grid_template_columns": null,
       "grid_template_rows": null,
       "height": null,
       "justify_content": null,
       "justify_items": null,
       "left": null,
       "margin": null,
       "max_height": null,
       "max_width": null,
       "min_height": null,
       "min_width": null,
       "object_fit": null,
       "object_position": null,
       "order": null,
       "overflow": null,
       "padding": null,
       "right": null,
       "top": null,
       "visibility": null,
       "width": null
      }
     },
     "7c285a081739490799515bb27236022a": {
      "model_module": "@jupyter-widgets/controls",
      "model_module_version": "2.0.0",
      "model_name": "HTMLModel",
      "state": {
       "_dom_classes": [],
       "_model_module": "@jupyter-widgets/controls",
       "_model_module_version": "2.0.0",
       "_model_name": "HTMLModel",
       "_view_count": null,
       "_view_module": "@jupyter-widgets/controls",
       "_view_module_version": "2.0.0",
       "_view_name": "HTMLView",
       "description": "",
       "description_allow_html": false,
       "layout": "IPY_MODEL_90aa0a3a15d74baeaeb6573f1b3c9138",
       "placeholder": "​",
       "style": "IPY_MODEL_d409905c8cd04e359b51125adf801a87",
       "tabbable": null,
       "tooltip": null,
       "value": "  Обработка файлов Pyara: 100%"
      }
     },
     "8349281891344748b946749211aef7ec": {
      "model_module": "@jupyter-widgets/controls",
      "model_module_version": "2.0.0",
      "model_name": "ProgressStyleModel",
      "state": {
       "_model_module": "@jupyter-widgets/controls",
       "_model_module_version": "2.0.0",
       "_model_name": "ProgressStyleModel",
       "_view_count": null,
       "_view_module": "@jupyter-widgets/base",
       "_view_module_version": "2.0.0",
       "_view_name": "StyleView",
       "bar_color": null,
       "description_width": ""
      }
     },
     "83a4c7730d6a4230b19b53c8311b96a6": {
      "model_module": "@jupyter-widgets/controls",
      "model_module_version": "2.0.0",
      "model_name": "HTMLModel",
      "state": {
       "_dom_classes": [],
       "_model_module": "@jupyter-widgets/controls",
       "_model_module_version": "2.0.0",
       "_model_name": "HTMLModel",
       "_view_count": null,
       "_view_module": "@jupyter-widgets/controls",
       "_view_module_version": "2.0.0",
       "_view_name": "HTMLView",
       "description": "",
       "description_allow_html": false,
       "layout": "IPY_MODEL_6ee0921cf3924071b28ce9b278dfe57c",
       "placeholder": "​",
       "style": "IPY_MODEL_43106580865642ae8d62dadec73e9679",
       "tabbable": null,
       "tooltip": null,
       "value": " 11708/11708 [3:07:43&lt;00:00,  1.07it/s, loss=0.0586, lr=1.0e-06]"
      }
     },
     "83b1b2db60fa48cfa1f7656754c30440": {
      "model_module": "@jupyter-widgets/controls",
      "model_module_version": "2.0.0",
      "model_name": "HTMLStyleModel",
      "state": {
       "_model_module": "@jupyter-widgets/controls",
       "_model_module_version": "2.0.0",
       "_model_name": "HTMLStyleModel",
       "_view_count": null,
       "_view_module": "@jupyter-widgets/base",
       "_view_module_version": "2.0.0",
       "_view_name": "StyleView",
       "background": null,
       "description_width": "",
       "font_size": null,
       "text_color": null
      }
     },
     "851cba1729374565a88c5ac7fc8ff75c": {
      "model_module": "@jupyter-widgets/controls",
      "model_module_version": "2.0.0",
      "model_name": "HTMLModel",
      "state": {
       "_dom_classes": [],
       "_model_module": "@jupyter-widgets/controls",
       "_model_module_version": "2.0.0",
       "_model_name": "HTMLModel",
       "_view_count": null,
       "_view_module": "@jupyter-widgets/controls",
       "_view_module_version": "2.0.0",
       "_view_name": "HTMLView",
       "description": "",
       "description_allow_html": false,
       "layout": "IPY_MODEL_8d0c589c24b24b2dbe362cb25744fa17",
       "placeholder": "​",
       "style": "IPY_MODEL_beedf437aa78428ab680827b0f167734",
       "tabbable": null,
       "tooltip": null,
       "value": "Валидация Final All Эпоха 5: 100%"
      }
     },
     "863618eca5a24e76aadb9c45bb707da2": {
      "model_module": "@jupyter-widgets/controls",
      "model_module_version": "2.0.0",
      "model_name": "HTMLModel",
      "state": {
       "_dom_classes": [],
       "_model_module": "@jupyter-widgets/controls",
       "_model_module_version": "2.0.0",
       "_model_name": "HTMLModel",
       "_view_count": null,
       "_view_module": "@jupyter-widgets/controls",
       "_view_module_version": "2.0.0",
       "_view_name": "HTMLView",
       "description": "",
       "description_allow_html": false,
       "layout": "IPY_MODEL_79e93c94a4a843628baff618acfce186",
       "placeholder": "​",
       "style": "IPY_MODEL_64e42aa936a541b0818bc57970d6a489",
       "tabbable": null,
       "tooltip": null,
       "value": " 2509/2510 [14:42&lt;00:00,  2.89it/s, loss=0.0078]"
      }
     },
     "8750e81e553449fcb98d7830a1fbe0c5": {
      "model_module": "@jupyter-widgets/controls",
      "model_module_version": "2.0.0",
      "model_name": "HBoxModel",
      "state": {
       "_dom_classes": [],
       "_model_module": "@jupyter-widgets/controls",
       "_model_module_version": "2.0.0",
       "_model_name": "HBoxModel",
       "_view_count": null,
       "_view_module": "@jupyter-widgets/controls",
       "_view_module_version": "2.0.0",
       "_view_name": "HBoxView",
       "box_style": "",
       "children": [
        "IPY_MODEL_4b571742ab55473e84642372aa4dba9f",
        "IPY_MODEL_afc8aa0e65ad41d68cd30e19921e80a3",
        "IPY_MODEL_034fefa2686c4c4b958d7caae2967438"
       ],
       "layout": "IPY_MODEL_c3ddd8afd073492da9ffc9cb8b9ff37c",
       "tabbable": null,
       "tooltip": null
      }
     },
     "875b4740dea54d5f91275b3d7120de3b": {
      "model_module": "@jupyter-widgets/base",
      "model_module_version": "2.0.0",
      "model_name": "LayoutModel",
      "state": {
       "_model_module": "@jupyter-widgets/base",
       "_model_module_version": "2.0.0",
       "_model_name": "LayoutModel",
       "_view_count": null,
       "_view_module": "@jupyter-widgets/base",
       "_view_module_version": "2.0.0",
       "_view_name": "LayoutView",
       "align_content": null,
       "align_items": null,
       "align_self": null,
       "border_bottom": null,
       "border_left": null,
       "border_right": null,
       "border_top": null,
       "bottom": null,
       "display": null,
       "flex": null,
       "flex_flow": null,
       "grid_area": null,
       "grid_auto_columns": null,
       "grid_auto_flow": null,
       "grid_auto_rows": null,
       "grid_column": null,
       "grid_gap": null,
       "grid_row": null,
       "grid_template_areas": null,
       "grid_template_columns": null,
       "grid_template_rows": null,
       "height": null,
       "justify_content": null,
       "justify_items": null,
       "left": null,
       "margin": null,
       "max_height": null,
       "max_width": null,
       "min_height": null,
       "min_width": null,
       "object_fit": null,
       "object_position": null,
       "order": null,
       "overflow": null,
       "padding": null,
       "right": null,
       "top": null,
       "visibility": null,
       "width": null
      }
     },
     "8868b55f8c894ffc89ec5c372306857b": {
      "model_module": "@jupyter-widgets/base",
      "model_module_version": "2.0.0",
      "model_name": "LayoutModel",
      "state": {
       "_model_module": "@jupyter-widgets/base",
       "_model_module_version": "2.0.0",
       "_model_name": "LayoutModel",
       "_view_count": null,
       "_view_module": "@jupyter-widgets/base",
       "_view_module_version": "2.0.0",
       "_view_name": "LayoutView",
       "align_content": null,
       "align_items": null,
       "align_self": null,
       "border_bottom": null,
       "border_left": null,
       "border_right": null,
       "border_top": null,
       "bottom": null,
       "display": null,
       "flex": null,
       "flex_flow": null,
       "grid_area": null,
       "grid_auto_columns": null,
       "grid_auto_flow": null,
       "grid_auto_rows": null,
       "grid_column": null,
       "grid_gap": null,
       "grid_row": null,
       "grid_template_areas": null,
       "grid_template_columns": null,
       "grid_template_rows": null,
       "height": null,
       "justify_content": null,
       "justify_items": null,
       "left": null,
       "margin": null,
       "max_height": null,
       "max_width": null,
       "min_height": null,
       "min_width": null,
       "object_fit": null,
       "object_position": null,
       "order": null,
       "overflow": null,
       "padding": null,
       "right": null,
       "top": null,
       "visibility": null,
       "width": null
      }
     },
     "8995e10ca7f94dd587dea0e1700d349a": {
      "model_module": "@jupyter-widgets/base",
      "model_module_version": "2.0.0",
      "model_name": "LayoutModel",
      "state": {
       "_model_module": "@jupyter-widgets/base",
       "_model_module_version": "2.0.0",
       "_model_name": "LayoutModel",
       "_view_count": null,
       "_view_module": "@jupyter-widgets/base",
       "_view_module_version": "2.0.0",
       "_view_name": "LayoutView",
       "align_content": null,
       "align_items": null,
       "align_self": null,
       "border_bottom": null,
       "border_left": null,
       "border_right": null,
       "border_top": null,
       "bottom": null,
       "display": null,
       "flex": null,
       "flex_flow": null,
       "grid_area": null,
       "grid_auto_columns": null,
       "grid_auto_flow": null,
       "grid_auto_rows": null,
       "grid_column": null,
       "grid_gap": null,
       "grid_row": null,
       "grid_template_areas": null,
       "grid_template_columns": null,
       "grid_template_rows": null,
       "height": null,
       "justify_content": null,
       "justify_items": null,
       "left": null,
       "margin": null,
       "max_height": null,
       "max_width": null,
       "min_height": null,
       "min_width": null,
       "object_fit": null,
       "object_position": null,
       "order": null,
       "overflow": null,
       "padding": null,
       "right": null,
       "top": null,
       "visibility": null,
       "width": null
      }
     },
     "8b21066901c944099c277ef1bdfce2cc": {
      "model_module": "@jupyter-widgets/controls",
      "model_module_version": "2.0.0",
      "model_name": "HTMLModel",
      "state": {
       "_dom_classes": [],
       "_model_module": "@jupyter-widgets/controls",
       "_model_module_version": "2.0.0",
       "_model_name": "HTMLModel",
       "_view_count": null,
       "_view_module": "@jupyter-widgets/controls",
       "_view_module_version": "2.0.0",
       "_view_name": "HTMLView",
       "description": "",
       "description_allow_html": false,
       "layout": "IPY_MODEL_af9a793aad864380b50bcb637c35e2fd",
       "placeholder": "​",
       "style": "IPY_MODEL_6db7e7d362e34a43b35b31d522dad1a9",
       "tabbable": null,
       "tooltip": null,
       "value": " 2.24k/? [00:00&lt;00:00, 262kB/s]"
      }
     },
     "8d0c589c24b24b2dbe362cb25744fa17": {
      "model_module": "@jupyter-widgets/base",
      "model_module_version": "2.0.0",
      "model_name": "LayoutModel",
      "state": {
       "_model_module": "@jupyter-widgets/base",
       "_model_module_version": "2.0.0",
       "_model_name": "LayoutModel",
       "_view_count": null,
       "_view_module": "@jupyter-widgets/base",
       "_view_module_version": "2.0.0",
       "_view_name": "LayoutView",
       "align_content": null,
       "align_items": null,
       "align_self": null,
       "border_bottom": null,
       "border_left": null,
       "border_right": null,
       "border_top": null,
       "bottom": null,
       "display": null,
       "flex": null,
       "flex_flow": null,
       "grid_area": null,
       "grid_auto_columns": null,
       "grid_auto_flow": null,
       "grid_auto_rows": null,
       "grid_column": null,
       "grid_gap": null,
       "grid_row": null,
       "grid_template_areas": null,
       "grid_template_columns": null,
       "grid_template_rows": null,
       "height": null,
       "justify_content": null,
       "justify_items": null,
       "left": null,
       "margin": null,
       "max_height": null,
       "max_width": null,
       "min_height": null,
       "min_width": null,
       "object_fit": null,
       "object_position": null,
       "order": null,
       "overflow": null,
       "padding": null,
       "right": null,
       "top": null,
       "visibility": null,
       "width": null
      }
     },
     "8e07980d8f4d4f0aa5acd2b52dc50506": {
      "model_module": "@jupyter-widgets/base",
      "model_module_version": "2.0.0",
      "model_name": "LayoutModel",
      "state": {
       "_model_module": "@jupyter-widgets/base",
       "_model_module_version": "2.0.0",
       "_model_name": "LayoutModel",
       "_view_count": null,
       "_view_module": "@jupyter-widgets/base",
       "_view_module_version": "2.0.0",
       "_view_name": "LayoutView",
       "align_content": null,
       "align_items": null,
       "align_self": null,
       "border_bottom": null,
       "border_left": null,
       "border_right": null,
       "border_top": null,
       "bottom": null,
       "display": null,
       "flex": null,
       "flex_flow": null,
       "grid_area": null,
       "grid_auto_columns": null,
       "grid_auto_flow": null,
       "grid_auto_rows": null,
       "grid_column": null,
       "grid_gap": null,
       "grid_row": null,
       "grid_template_areas": null,
       "grid_template_columns": null,
       "grid_template_rows": null,
       "height": null,
       "justify_content": null,
       "justify_items": null,
       "left": null,
       "margin": null,
       "max_height": null,
       "max_width": null,
       "min_height": null,
       "min_width": null,
       "object_fit": null,
       "object_position": null,
       "order": null,
       "overflow": null,
       "padding": null,
       "right": null,
       "top": null,
       "visibility": "hidden",
       "width": null
      }
     },
     "8e6b1d5a4fd84641bd9dd1f54e40b659": {
      "model_module": "@jupyter-widgets/controls",
      "model_module_version": "2.0.0",
      "model_name": "HTMLStyleModel",
      "state": {
       "_model_module": "@jupyter-widgets/controls",
       "_model_module_version": "2.0.0",
       "_model_name": "HTMLStyleModel",
       "_view_count": null,
       "_view_module": "@jupyter-widgets/base",
       "_view_module_version": "2.0.0",
       "_view_name": "StyleView",
       "background": null,
       "description_width": "",
       "font_size": null,
       "text_color": null
      }
     },
     "8fc85b16d6d54d2da8252fafcba3adee": {
      "model_module": "@jupyter-widgets/controls",
      "model_module_version": "2.0.0",
      "model_name": "HTMLModel",
      "state": {
       "_dom_classes": [],
       "_model_module": "@jupyter-widgets/controls",
       "_model_module_version": "2.0.0",
       "_model_name": "HTMLModel",
       "_view_count": null,
       "_view_module": "@jupyter-widgets/controls",
       "_view_module_version": "2.0.0",
       "_view_name": "HTMLView",
       "description": "",
       "description_allow_html": false,
       "layout": "IPY_MODEL_a7086c58f39543968b2d0c987f8d2160",
       "placeholder": "​",
       "style": "IPY_MODEL_d52bda1ea31b4aa28e31633c7825fef2",
       "tabbable": null,
       "tooltip": null,
       "value": " 11708/11708 [3:07:38&lt;00:00,  1.02it/s, loss=0.0735, lr=1.0e-06]"
      }
     },
     "90aa0a3a15d74baeaeb6573f1b3c9138": {
      "model_module": "@jupyter-widgets/base",
      "model_module_version": "2.0.0",
      "model_name": "LayoutModel",
      "state": {
       "_model_module": "@jupyter-widgets/base",
       "_model_module_version": "2.0.0",
       "_model_name": "LayoutModel",
       "_view_count": null,
       "_view_module": "@jupyter-widgets/base",
       "_view_module_version": "2.0.0",
       "_view_name": "LayoutView",
       "align_content": null,
       "align_items": null,
       "align_self": null,
       "border_bottom": null,
       "border_left": null,
       "border_right": null,
       "border_top": null,
       "bottom": null,
       "display": null,
       "flex": null,
       "flex_flow": null,
       "grid_area": null,
       "grid_auto_columns": null,
       "grid_auto_flow": null,
       "grid_auto_rows": null,
       "grid_column": null,
       "grid_gap": null,
       "grid_row": null,
       "grid_template_areas": null,
       "grid_template_columns": null,
       "grid_template_rows": null,
       "height": null,
       "justify_content": null,
       "justify_items": null,
       "left": null,
       "margin": null,
       "max_height": null,
       "max_width": null,
       "min_height": null,
       "min_width": null,
       "object_fit": null,
       "object_position": null,
       "order": null,
       "overflow": null,
       "padding": null,
       "right": null,
       "top": null,
       "visibility": null,
       "width": null
      }
     },
     "9582bb1adbfd4f00a0c43442afb12f4f": {
      "model_module": "@jupyter-widgets/controls",
      "model_module_version": "2.0.0",
      "model_name": "HTMLStyleModel",
      "state": {
       "_model_module": "@jupyter-widgets/controls",
       "_model_module_version": "2.0.0",
       "_model_name": "HTMLStyleModel",
       "_view_count": null,
       "_view_module": "@jupyter-widgets/base",
       "_view_module_version": "2.0.0",
       "_view_name": "StyleView",
       "background": null,
       "description_width": "",
       "font_size": null,
       "text_color": null
      }
     },
     "968afd9046914f4ebe400b8b9c6fa47a": {
      "model_module": "@jupyter-widgets/base",
      "model_module_version": "2.0.0",
      "model_name": "LayoutModel",
      "state": {
       "_model_module": "@jupyter-widgets/base",
       "_model_module_version": "2.0.0",
       "_model_name": "LayoutModel",
       "_view_count": null,
       "_view_module": "@jupyter-widgets/base",
       "_view_module_version": "2.0.0",
       "_view_name": "LayoutView",
       "align_content": null,
       "align_items": null,
       "align_self": null,
       "border_bottom": null,
       "border_left": null,
       "border_right": null,
       "border_top": null,
       "bottom": null,
       "display": null,
       "flex": null,
       "flex_flow": null,
       "grid_area": null,
       "grid_auto_columns": null,
       "grid_auto_flow": null,
       "grid_auto_rows": null,
       "grid_column": null,
       "grid_gap": null,
       "grid_row": null,
       "grid_template_areas": null,
       "grid_template_columns": null,
       "grid_template_rows": null,
       "height": null,
       "justify_content": null,
       "justify_items": null,
       "left": null,
       "margin": null,
       "max_height": null,
       "max_width": null,
       "min_height": null,
       "min_width": null,
       "object_fit": null,
       "object_position": null,
       "order": null,
       "overflow": null,
       "padding": null,
       "right": null,
       "top": null,
       "visibility": "hidden",
       "width": null
      }
     },
     "9691ea7a886646e1b1b99891d7b2e49c": {
      "model_module": "@jupyter-widgets/controls",
      "model_module_version": "2.0.0",
      "model_name": "HTMLModel",
      "state": {
       "_dom_classes": [],
       "_model_module": "@jupyter-widgets/controls",
       "_model_module_version": "2.0.0",
       "_model_name": "HTMLModel",
       "_view_count": null,
       "_view_module": "@jupyter-widgets/controls",
       "_view_module_version": "2.0.0",
       "_view_name": "HTMLView",
       "description": "",
       "description_allow_html": false,
       "layout": "IPY_MODEL_23f6f14d76e7471eb6bdd9a51580665e",
       "placeholder": "​",
       "style": "IPY_MODEL_ca2bb7c243f0464b92c60da01621151c",
       "tabbable": null,
       "tooltip": null,
       "value": "config.json: "
      }
     },
     "983095ad5e344367b99db86f1d330e6d": {
      "model_module": "@jupyter-widgets/controls",
      "model_module_version": "2.0.0",
      "model_name": "FloatProgressModel",
      "state": {
       "_dom_classes": [],
       "_model_module": "@jupyter-widgets/controls",
       "_model_module_version": "2.0.0",
       "_model_name": "FloatProgressModel",
       "_view_count": null,
       "_view_module": "@jupyter-widgets/controls",
       "_view_module_version": "2.0.0",
       "_view_name": "ProgressView",
       "bar_style": "",
       "description": "",
       "description_allow_html": false,
       "layout": "IPY_MODEL_2814a4a690e44a8fb59dc2207d962e26",
       "max": 110,
       "min": 0,
       "orientation": "horizontal",
       "style": "IPY_MODEL_ef64b2af73a84e7881386e7c3834797b",
       "tabbable": null,
       "tooltip": null,
       "value": 110
      }
     },
     "a01c72d16e114d1283b61488bb3a1c39": {
      "model_module": "@jupyter-widgets/controls",
      "model_module_version": "2.0.0",
      "model_name": "HBoxModel",
      "state": {
       "_dom_classes": [],
       "_model_module": "@jupyter-widgets/controls",
       "_model_module_version": "2.0.0",
       "_model_name": "HBoxModel",
       "_view_count": null,
       "_view_module": "@jupyter-widgets/controls",
       "_view_module_version": "2.0.0",
       "_view_name": "HBoxView",
       "box_style": "",
       "children": [
        "IPY_MODEL_3851d676a00d468a84c17cfb2a89294b",
        "IPY_MODEL_983095ad5e344367b99db86f1d330e6d",
        "IPY_MODEL_2cf707ff1cf04d84b1498fba28416cf4"
       ],
       "layout": "IPY_MODEL_f1b8500d516c45d3808127a1747a5f79",
       "tabbable": null,
       "tooltip": null
      }
     },
     "a23348640e604272aaa17998c0861a61": {
      "model_module": "@jupyter-widgets/base",
      "model_module_version": "2.0.0",
      "model_name": "LayoutModel",
      "state": {
       "_model_module": "@jupyter-widgets/base",
       "_model_module_version": "2.0.0",
       "_model_name": "LayoutModel",
       "_view_count": null,
       "_view_module": "@jupyter-widgets/base",
       "_view_module_version": "2.0.0",
       "_view_name": "LayoutView",
       "align_content": null,
       "align_items": null,
       "align_self": null,
       "border_bottom": null,
       "border_left": null,
       "border_right": null,
       "border_top": null,
       "bottom": null,
       "display": null,
       "flex": null,
       "flex_flow": null,
       "grid_area": null,
       "grid_auto_columns": null,
       "grid_auto_flow": null,
       "grid_auto_rows": null,
       "grid_column": null,
       "grid_gap": null,
       "grid_row": null,
       "grid_template_areas": null,
       "grid_template_columns": null,
       "grid_template_rows": null,
       "height": null,
       "justify_content": null,
       "justify_items": null,
       "left": null,
       "margin": null,
       "max_height": null,
       "max_width": null,
       "min_height": null,
       "min_width": null,
       "object_fit": null,
       "object_position": null,
       "order": null,
       "overflow": null,
       "padding": null,
       "right": null,
       "top": null,
       "visibility": null,
       "width": null
      }
     },
     "a41072469015467a924570e4834e7b0e": {
      "model_module": "@jupyter-widgets/base",
      "model_module_version": "2.0.0",
      "model_name": "LayoutModel",
      "state": {
       "_model_module": "@jupyter-widgets/base",
       "_model_module_version": "2.0.0",
       "_model_name": "LayoutModel",
       "_view_count": null,
       "_view_module": "@jupyter-widgets/base",
       "_view_module_version": "2.0.0",
       "_view_name": "LayoutView",
       "align_content": null,
       "align_items": null,
       "align_self": null,
       "border_bottom": null,
       "border_left": null,
       "border_right": null,
       "border_top": null,
       "bottom": null,
       "display": null,
       "flex": null,
       "flex_flow": null,
       "grid_area": null,
       "grid_auto_columns": null,
       "grid_auto_flow": null,
       "grid_auto_rows": null,
       "grid_column": null,
       "grid_gap": null,
       "grid_row": null,
       "grid_template_areas": null,
       "grid_template_columns": null,
       "grid_template_rows": null,
       "height": null,
       "justify_content": null,
       "justify_items": null,
       "left": null,
       "margin": null,
       "max_height": null,
       "max_width": null,
       "min_height": null,
       "min_width": null,
       "object_fit": null,
       "object_position": null,
       "order": null,
       "overflow": null,
       "padding": null,
       "right": null,
       "top": null,
       "visibility": null,
       "width": null
      }
     },
     "a4d0b6f231824bc68d428e47cec37cc3": {
      "model_module": "@jupyter-widgets/base",
      "model_module_version": "2.0.0",
      "model_name": "LayoutModel",
      "state": {
       "_model_module": "@jupyter-widgets/base",
       "_model_module_version": "2.0.0",
       "_model_name": "LayoutModel",
       "_view_count": null,
       "_view_module": "@jupyter-widgets/base",
       "_view_module_version": "2.0.0",
       "_view_name": "LayoutView",
       "align_content": null,
       "align_items": null,
       "align_self": null,
       "border_bottom": null,
       "border_left": null,
       "border_right": null,
       "border_top": null,
       "bottom": null,
       "display": null,
       "flex": null,
       "flex_flow": null,
       "grid_area": null,
       "grid_auto_columns": null,
       "grid_auto_flow": null,
       "grid_auto_rows": null,
       "grid_column": null,
       "grid_gap": null,
       "grid_row": null,
       "grid_template_areas": null,
       "grid_template_columns": null,
       "grid_template_rows": null,
       "height": null,
       "justify_content": null,
       "justify_items": null,
       "left": null,
       "margin": null,
       "max_height": null,
       "max_width": null,
       "min_height": null,
       "min_width": null,
       "object_fit": null,
       "object_position": null,
       "order": null,
       "overflow": null,
       "padding": null,
       "right": null,
       "top": null,
       "visibility": null,
       "width": null
      }
     },
     "a603c09d00654f09b50d852b357cfbcf": {
      "model_module": "@jupyter-widgets/controls",
      "model_module_version": "2.0.0",
      "model_name": "FloatProgressModel",
      "state": {
       "_dom_classes": [],
       "_model_module": "@jupyter-widgets/controls",
       "_model_module_version": "2.0.0",
       "_model_name": "FloatProgressModel",
       "_view_count": null,
       "_view_module": "@jupyter-widgets/controls",
       "_view_module_version": "2.0.0",
       "_view_name": "ProgressView",
       "bar_style": "success",
       "description": "",
       "description_allow_html": false,
       "layout": "IPY_MODEL_015a6316b08d4ec0b3b95b5f71e9298e",
       "max": 201778,
       "min": 0,
       "orientation": "horizontal",
       "style": "IPY_MODEL_ea67fbea381d4d78bd666a6c973a9a53",
       "tabbable": null,
       "tooltip": null,
       "value": 201778
      }
     },
     "a695235b87be4b3ea5031554603f7103": {
      "model_module": "@jupyter-widgets/controls",
      "model_module_version": "2.0.0",
      "model_name": "HTMLModel",
      "state": {
       "_dom_classes": [],
       "_model_module": "@jupyter-widgets/controls",
       "_model_module_version": "2.0.0",
       "_model_name": "HTMLModel",
       "_view_count": null,
       "_view_module": "@jupyter-widgets/controls",
       "_view_module_version": "2.0.0",
       "_view_name": "HTMLView",
       "description": "",
       "description_allow_html": false,
       "layout": "IPY_MODEL_d429aa2b51c64729a68945ad66198329",
       "placeholder": "​",
       "style": "IPY_MODEL_3d45c3c368624cd997f3bc02d07e8f29",
       "tabbable": null,
       "tooltip": null,
       "value": " 659/659 [03:49&lt;00:00,  2.17it/s, loss=0.0259]"
      }
     },
     "a7086c58f39543968b2d0c987f8d2160": {
      "model_module": "@jupyter-widgets/base",
      "model_module_version": "2.0.0",
      "model_name": "LayoutModel",
      "state": {
       "_model_module": "@jupyter-widgets/base",
       "_model_module_version": "2.0.0",
       "_model_name": "LayoutModel",
       "_view_count": null,
       "_view_module": "@jupyter-widgets/base",
       "_view_module_version": "2.0.0",
       "_view_name": "LayoutView",
       "align_content": null,
       "align_items": null,
       "align_self": null,
       "border_bottom": null,
       "border_left": null,
       "border_right": null,
       "border_top": null,
       "bottom": null,
       "display": null,
       "flex": null,
       "flex_flow": null,
       "grid_area": null,
       "grid_auto_columns": null,
       "grid_auto_flow": null,
       "grid_auto_rows": null,
       "grid_column": null,
       "grid_gap": null,
       "grid_row": null,
       "grid_template_areas": null,
       "grid_template_columns": null,
       "grid_template_rows": null,
       "height": null,
       "justify_content": null,
       "justify_items": null,
       "left": null,
       "margin": null,
       "max_height": null,
       "max_width": null,
       "min_height": null,
       "min_width": null,
       "object_fit": null,
       "object_position": null,
       "order": null,
       "overflow": null,
       "padding": null,
       "right": null,
       "top": null,
       "visibility": null,
       "width": null
      }
     },
     "a7335fd3ba8345ac975ee4f53d9ae8fc": {
      "model_module": "@jupyter-widgets/base",
      "model_module_version": "2.0.0",
      "model_name": "LayoutModel",
      "state": {
       "_model_module": "@jupyter-widgets/base",
       "_model_module_version": "2.0.0",
       "_model_name": "LayoutModel",
       "_view_count": null,
       "_view_module": "@jupyter-widgets/base",
       "_view_module_version": "2.0.0",
       "_view_name": "LayoutView",
       "align_content": null,
       "align_items": null,
       "align_self": null,
       "border_bottom": null,
       "border_left": null,
       "border_right": null,
       "border_top": null,
       "bottom": null,
       "display": null,
       "flex": null,
       "flex_flow": null,
       "grid_area": null,
       "grid_auto_columns": null,
       "grid_auto_flow": null,
       "grid_auto_rows": null,
       "grid_column": null,
       "grid_gap": null,
       "grid_row": null,
       "grid_template_areas": null,
       "grid_template_columns": null,
       "grid_template_rows": null,
       "height": null,
       "justify_content": null,
       "justify_items": null,
       "left": null,
       "margin": null,
       "max_height": null,
       "max_width": null,
       "min_height": null,
       "min_width": null,
       "object_fit": null,
       "object_position": null,
       "order": null,
       "overflow": null,
       "padding": null,
       "right": null,
       "top": null,
       "visibility": null,
       "width": null
      }
     },
     "aab1e256bb40430bb68029e0251c7cf2": {
      "model_module": "@jupyter-widgets/controls",
      "model_module_version": "2.0.0",
      "model_name": "HTMLModel",
      "state": {
       "_dom_classes": [],
       "_model_module": "@jupyter-widgets/controls",
       "_model_module_version": "2.0.0",
       "_model_name": "HTMLModel",
       "_view_count": null,
       "_view_module": "@jupyter-widgets/controls",
       "_view_module_version": "2.0.0",
       "_view_name": "HTMLView",
       "description": "",
       "description_allow_html": false,
       "layout": "IPY_MODEL_e40ef4fe0f9c4ad18e94cf2c8aa43abd",
       "placeholder": "​",
       "style": "IPY_MODEL_02a23ef751c04b958ef65e3cc850932b",
       "tabbable": null,
       "tooltip": null,
       "value": "Тестирование DIGITAL: 100%"
      }
     },
     "ac5a3cdeb17c4ee69b710160cc3e03a0": {
      "model_module": "@jupyter-widgets/base",
      "model_module_version": "2.0.0",
      "model_name": "LayoutModel",
      "state": {
       "_model_module": "@jupyter-widgets/base",
       "_model_module_version": "2.0.0",
       "_model_name": "LayoutModel",
       "_view_count": null,
       "_view_module": "@jupyter-widgets/base",
       "_view_module_version": "2.0.0",
       "_view_name": "LayoutView",
       "align_content": null,
       "align_items": null,
       "align_self": null,
       "border_bottom": null,
       "border_left": null,
       "border_right": null,
       "border_top": null,
       "bottom": null,
       "display": null,
       "flex": null,
       "flex_flow": null,
       "grid_area": null,
       "grid_auto_columns": null,
       "grid_auto_flow": null,
       "grid_auto_rows": null,
       "grid_column": null,
       "grid_gap": null,
       "grid_row": null,
       "grid_template_areas": null,
       "grid_template_columns": null,
       "grid_template_rows": null,
       "height": null,
       "justify_content": null,
       "justify_items": null,
       "left": null,
       "margin": null,
       "max_height": null,
       "max_width": null,
       "min_height": null,
       "min_width": null,
       "object_fit": null,
       "object_position": null,
       "order": null,
       "overflow": null,
       "padding": null,
       "right": null,
       "top": null,
       "visibility": null,
       "width": null
      }
     },
     "aea12540d0e846e28e7fee34c7caa01e": {
      "model_module": "@jupyter-widgets/controls",
      "model_module_version": "2.0.0",
      "model_name": "HTMLModel",
      "state": {
       "_dom_classes": [],
       "_model_module": "@jupyter-widgets/controls",
       "_model_module_version": "2.0.0",
       "_model_name": "HTMLModel",
       "_view_count": null,
       "_view_module": "@jupyter-widgets/controls",
       "_view_module_version": "2.0.0",
       "_view_name": "HTMLView",
       "description": "",
       "description_allow_html": false,
       "layout": "IPY_MODEL_66ddc40bd3c84db8b3164e4a84d7cecf",
       "placeholder": "​",
       "style": "IPY_MODEL_24bf491adac04d408f7dbd46d620d67e",
       "tabbable": null,
       "tooltip": null,
       "value": "pytorch_model.bin: 100%"
      }
     },
     "af9a793aad864380b50bcb637c35e2fd": {
      "model_module": "@jupyter-widgets/base",
      "model_module_version": "2.0.0",
      "model_name": "LayoutModel",
      "state": {
       "_model_module": "@jupyter-widgets/base",
       "_model_module_version": "2.0.0",
       "_model_name": "LayoutModel",
       "_view_count": null,
       "_view_module": "@jupyter-widgets/base",
       "_view_module_version": "2.0.0",
       "_view_name": "LayoutView",
       "align_content": null,
       "align_items": null,
       "align_self": null,
       "border_bottom": null,
       "border_left": null,
       "border_right": null,
       "border_top": null,
       "bottom": null,
       "display": null,
       "flex": null,
       "flex_flow": null,
       "grid_area": null,
       "grid_auto_columns": null,
       "grid_auto_flow": null,
       "grid_auto_rows": null,
       "grid_column": null,
       "grid_gap": null,
       "grid_row": null,
       "grid_template_areas": null,
       "grid_template_columns": null,
       "grid_template_rows": null,
       "height": null,
       "justify_content": null,
       "justify_items": null,
       "left": null,
       "margin": null,
       "max_height": null,
       "max_width": null,
       "min_height": null,
       "min_width": null,
       "object_fit": null,
       "object_position": null,
       "order": null,
       "overflow": null,
       "padding": null,
       "right": null,
       "top": null,
       "visibility": null,
       "width": null
      }
     },
     "afc8aa0e65ad41d68cd30e19921e80a3": {
      "model_module": "@jupyter-widgets/controls",
      "model_module_version": "2.0.0",
      "model_name": "FloatProgressModel",
      "state": {
       "_dom_classes": [],
       "_model_module": "@jupyter-widgets/controls",
       "_model_module_version": "2.0.0",
       "_model_name": "FloatProgressModel",
       "_view_count": null,
       "_view_module": "@jupyter-widgets/controls",
       "_view_module_version": "2.0.0",
       "_view_name": "ProgressView",
       "bar_style": "success",
       "description": "",
       "description_allow_html": false,
       "layout": "IPY_MODEL_a7335fd3ba8345ac975ee4f53d9ae8fc",
       "max": 377555872,
       "min": 0,
       "orientation": "horizontal",
       "style": "IPY_MODEL_04ec3839360f4bfab35661e8b4b4588e",
       "tabbable": null,
       "tooltip": null,
       "value": 377555872
      }
     },
     "b6c1a6297acc4168a8257cfcc03c1881": {
      "model_module": "@jupyter-widgets/base",
      "model_module_version": "2.0.0",
      "model_name": "LayoutModel",
      "state": {
       "_model_module": "@jupyter-widgets/base",
       "_model_module_version": "2.0.0",
       "_model_name": "LayoutModel",
       "_view_count": null,
       "_view_module": "@jupyter-widgets/base",
       "_view_module_version": "2.0.0",
       "_view_name": "LayoutView",
       "align_content": null,
       "align_items": null,
       "align_self": null,
       "border_bottom": null,
       "border_left": null,
       "border_right": null,
       "border_top": null,
       "bottom": null,
       "display": null,
       "flex": null,
       "flex_flow": null,
       "grid_area": null,
       "grid_auto_columns": null,
       "grid_auto_flow": null,
       "grid_auto_rows": null,
       "grid_column": null,
       "grid_gap": null,
       "grid_row": null,
       "grid_template_areas": null,
       "grid_template_columns": null,
       "grid_template_rows": null,
       "height": null,
       "justify_content": null,
       "justify_items": null,
       "left": null,
       "margin": null,
       "max_height": null,
       "max_width": null,
       "min_height": null,
       "min_width": null,
       "object_fit": null,
       "object_position": null,
       "order": null,
       "overflow": null,
       "padding": null,
       "right": null,
       "top": null,
       "visibility": "hidden",
       "width": null
      }
     },
     "b77411f38cbc471abb74355321c01eb2": {
      "model_module": "@jupyter-widgets/base",
      "model_module_version": "2.0.0",
      "model_name": "LayoutModel",
      "state": {
       "_model_module": "@jupyter-widgets/base",
       "_model_module_version": "2.0.0",
       "_model_name": "LayoutModel",
       "_view_count": null,
       "_view_module": "@jupyter-widgets/base",
       "_view_module_version": "2.0.0",
       "_view_name": "LayoutView",
       "align_content": null,
       "align_items": null,
       "align_self": null,
       "border_bottom": null,
       "border_left": null,
       "border_right": null,
       "border_top": null,
       "bottom": null,
       "display": null,
       "flex": null,
       "flex_flow": null,
       "grid_area": null,
       "grid_auto_columns": null,
       "grid_auto_flow": null,
       "grid_auto_rows": null,
       "grid_column": null,
       "grid_gap": null,
       "grid_row": null,
       "grid_template_areas": null,
       "grid_template_columns": null,
       "grid_template_rows": null,
       "height": null,
       "justify_content": null,
       "justify_items": null,
       "left": null,
       "margin": null,
       "max_height": null,
       "max_width": null,
       "min_height": null,
       "min_width": null,
       "object_fit": null,
       "object_position": null,
       "order": null,
       "overflow": null,
       "padding": null,
       "right": null,
       "top": null,
       "visibility": null,
       "width": null
      }
     },
     "beedf437aa78428ab680827b0f167734": {
      "model_module": "@jupyter-widgets/controls",
      "model_module_version": "2.0.0",
      "model_name": "HTMLStyleModel",
      "state": {
       "_model_module": "@jupyter-widgets/controls",
       "_model_module_version": "2.0.0",
       "_model_name": "HTMLStyleModel",
       "_view_count": null,
       "_view_module": "@jupyter-widgets/base",
       "_view_module_version": "2.0.0",
       "_view_name": "StyleView",
       "background": null,
       "description_width": "",
       "font_size": null,
       "text_color": null
      }
     },
     "bfbff4a5779247e6a8bf4c42cbc3e050": {
      "model_module": "@jupyter-widgets/base",
      "model_module_version": "2.0.0",
      "model_name": "LayoutModel",
      "state": {
       "_model_module": "@jupyter-widgets/base",
       "_model_module_version": "2.0.0",
       "_model_name": "LayoutModel",
       "_view_count": null,
       "_view_module": "@jupyter-widgets/base",
       "_view_module_version": "2.0.0",
       "_view_name": "LayoutView",
       "align_content": null,
       "align_items": null,
       "align_self": null,
       "border_bottom": null,
       "border_left": null,
       "border_right": null,
       "border_top": null,
       "bottom": null,
       "display": null,
       "flex": null,
       "flex_flow": null,
       "grid_area": null,
       "grid_auto_columns": null,
       "grid_auto_flow": null,
       "grid_auto_rows": null,
       "grid_column": null,
       "grid_gap": null,
       "grid_row": null,
       "grid_template_areas": null,
       "grid_template_columns": null,
       "grid_template_rows": null,
       "height": null,
       "justify_content": null,
       "justify_items": null,
       "left": null,
       "margin": null,
       "max_height": null,
       "max_width": null,
       "min_height": null,
       "min_width": null,
       "object_fit": null,
       "object_position": null,
       "order": null,
       "overflow": null,
       "padding": null,
       "right": null,
       "top": null,
       "visibility": null,
       "width": null
      }
     },
     "c3ddd8afd073492da9ffc9cb8b9ff37c": {
      "model_module": "@jupyter-widgets/base",
      "model_module_version": "2.0.0",
      "model_name": "LayoutModel",
      "state": {
       "_model_module": "@jupyter-widgets/base",
       "_model_module_version": "2.0.0",
       "_model_name": "LayoutModel",
       "_view_count": null,
       "_view_module": "@jupyter-widgets/base",
       "_view_module_version": "2.0.0",
       "_view_name": "LayoutView",
       "align_content": null,
       "align_items": null,
       "align_self": null,
       "border_bottom": null,
       "border_left": null,
       "border_right": null,
       "border_top": null,
       "bottom": null,
       "display": null,
       "flex": null,
       "flex_flow": null,
       "grid_area": null,
       "grid_auto_columns": null,
       "grid_auto_flow": null,
       "grid_auto_rows": null,
       "grid_column": null,
       "grid_gap": null,
       "grid_row": null,
       "grid_template_areas": null,
       "grid_template_columns": null,
       "grid_template_rows": null,
       "height": null,
       "justify_content": null,
       "justify_items": null,
       "left": null,
       "margin": null,
       "max_height": null,
       "max_width": null,
       "min_height": null,
       "min_width": null,
       "object_fit": null,
       "object_position": null,
       "order": null,
       "overflow": null,
       "padding": null,
       "right": null,
       "top": null,
       "visibility": null,
       "width": null
      }
     },
     "c5b172a42a354ffa87957695dd0b3cd4": {
      "model_module": "@jupyter-widgets/controls",
      "model_module_version": "2.0.0",
      "model_name": "FloatProgressModel",
      "state": {
       "_dom_classes": [],
       "_model_module": "@jupyter-widgets/controls",
       "_model_module_version": "2.0.0",
       "_model_name": "FloatProgressModel",
       "_view_count": null,
       "_view_module": "@jupyter-widgets/controls",
       "_view_module_version": "2.0.0",
       "_view_name": "ProgressView",
       "bar_style": "",
       "description": "",
       "description_allow_html": false,
       "layout": "IPY_MODEL_e9d751bc77c34155b2cd48e2581e0491",
       "max": 2510,
       "min": 0,
       "orientation": "horizontal",
       "style": "IPY_MODEL_1129ecd95c64470199ae94726e125467",
       "tabbable": null,
       "tooltip": null,
       "value": 2510
      }
     },
     "c797693084944fdd931fae86fb9c7158": {
      "model_module": "@jupyter-widgets/controls",
      "model_module_version": "2.0.0",
      "model_name": "ProgressStyleModel",
      "state": {
       "_model_module": "@jupyter-widgets/controls",
       "_model_module_version": "2.0.0",
       "_model_name": "ProgressStyleModel",
       "_view_count": null,
       "_view_module": "@jupyter-widgets/base",
       "_view_module_version": "2.0.0",
       "_view_name": "StyleView",
       "bar_color": null,
       "description_width": ""
      }
     },
     "ca2bb7c243f0464b92c60da01621151c": {
      "model_module": "@jupyter-widgets/controls",
      "model_module_version": "2.0.0",
      "model_name": "HTMLStyleModel",
      "state": {
       "_model_module": "@jupyter-widgets/controls",
       "_model_module_version": "2.0.0",
       "_model_name": "HTMLStyleModel",
       "_view_count": null,
       "_view_module": "@jupyter-widgets/base",
       "_view_module_version": "2.0.0",
       "_view_name": "StyleView",
       "background": null,
       "description_width": "",
       "font_size": null,
       "text_color": null
      }
     },
     "cedf32072c804ef7beff18759414c5ba": {
      "model_module": "@jupyter-widgets/base",
      "model_module_version": "2.0.0",
      "model_name": "LayoutModel",
      "state": {
       "_model_module": "@jupyter-widgets/base",
       "_model_module_version": "2.0.0",
       "_model_name": "LayoutModel",
       "_view_count": null,
       "_view_module": "@jupyter-widgets/base",
       "_view_module_version": "2.0.0",
       "_view_name": "LayoutView",
       "align_content": null,
       "align_items": null,
       "align_self": null,
       "border_bottom": null,
       "border_left": null,
       "border_right": null,
       "border_top": null,
       "bottom": null,
       "display": null,
       "flex": null,
       "flex_flow": null,
       "grid_area": null,
       "grid_auto_columns": null,
       "grid_auto_flow": null,
       "grid_auto_rows": null,
       "grid_column": null,
       "grid_gap": null,
       "grid_row": null,
       "grid_template_areas": null,
       "grid_template_columns": null,
       "grid_template_rows": null,
       "height": null,
       "justify_content": null,
       "justify_items": null,
       "left": null,
       "margin": null,
       "max_height": null,
       "max_width": null,
       "min_height": null,
       "min_width": null,
       "object_fit": null,
       "object_position": null,
       "order": null,
       "overflow": null,
       "padding": null,
       "right": null,
       "top": null,
       "visibility": null,
       "width": null
      }
     },
     "d0edbe3829c64f3f952b731c916d2e62": {
      "model_module": "@jupyter-widgets/controls",
      "model_module_version": "2.0.0",
      "model_name": "HTMLStyleModel",
      "state": {
       "_model_module": "@jupyter-widgets/controls",
       "_model_module_version": "2.0.0",
       "_model_name": "HTMLStyleModel",
       "_view_count": null,
       "_view_module": "@jupyter-widgets/base",
       "_view_module_version": "2.0.0",
       "_view_name": "StyleView",
       "background": null,
       "description_width": "",
       "font_size": null,
       "text_color": null
      }
     },
     "d0ee33dc94734b898cc4be35372a73c2": {
      "model_module": "@jupyter-widgets/base",
      "model_module_version": "2.0.0",
      "model_name": "LayoutModel",
      "state": {
       "_model_module": "@jupyter-widgets/base",
       "_model_module_version": "2.0.0",
       "_model_name": "LayoutModel",
       "_view_count": null,
       "_view_module": "@jupyter-widgets/base",
       "_view_module_version": "2.0.0",
       "_view_name": "LayoutView",
       "align_content": null,
       "align_items": null,
       "align_self": null,
       "border_bottom": null,
       "border_left": null,
       "border_right": null,
       "border_top": null,
       "bottom": null,
       "display": null,
       "flex": null,
       "flex_flow": null,
       "grid_area": null,
       "grid_auto_columns": null,
       "grid_auto_flow": null,
       "grid_auto_rows": null,
       "grid_column": null,
       "grid_gap": null,
       "grid_row": null,
       "grid_template_areas": null,
       "grid_template_columns": null,
       "grid_template_rows": null,
       "height": null,
       "justify_content": null,
       "justify_items": null,
       "left": null,
       "margin": null,
       "max_height": null,
       "max_width": null,
       "min_height": null,
       "min_width": null,
       "object_fit": null,
       "object_position": null,
       "order": null,
       "overflow": null,
       "padding": null,
       "right": null,
       "top": null,
       "visibility": null,
       "width": null
      }
     },
     "d409905c8cd04e359b51125adf801a87": {
      "model_module": "@jupyter-widgets/controls",
      "model_module_version": "2.0.0",
      "model_name": "HTMLStyleModel",
      "state": {
       "_model_module": "@jupyter-widgets/controls",
       "_model_module_version": "2.0.0",
       "_model_name": "HTMLStyleModel",
       "_view_count": null,
       "_view_module": "@jupyter-widgets/base",
       "_view_module_version": "2.0.0",
       "_view_name": "StyleView",
       "background": null,
       "description_width": "",
       "font_size": null,
       "text_color": null
      }
     },
     "d429aa2b51c64729a68945ad66198329": {
      "model_module": "@jupyter-widgets/base",
      "model_module_version": "2.0.0",
      "model_name": "LayoutModel",
      "state": {
       "_model_module": "@jupyter-widgets/base",
       "_model_module_version": "2.0.0",
       "_model_name": "LayoutModel",
       "_view_count": null,
       "_view_module": "@jupyter-widgets/base",
       "_view_module_version": "2.0.0",
       "_view_name": "LayoutView",
       "align_content": null,
       "align_items": null,
       "align_self": null,
       "border_bottom": null,
       "border_left": null,
       "border_right": null,
       "border_top": null,
       "bottom": null,
       "display": null,
       "flex": null,
       "flex_flow": null,
       "grid_area": null,
       "grid_auto_columns": null,
       "grid_auto_flow": null,
       "grid_auto_rows": null,
       "grid_column": null,
       "grid_gap": null,
       "grid_row": null,
       "grid_template_areas": null,
       "grid_template_columns": null,
       "grid_template_rows": null,
       "height": null,
       "justify_content": null,
       "justify_items": null,
       "left": null,
       "margin": null,
       "max_height": null,
       "max_width": null,
       "min_height": null,
       "min_width": null,
       "object_fit": null,
       "object_position": null,
       "order": null,
       "overflow": null,
       "padding": null,
       "right": null,
       "top": null,
       "visibility": null,
       "width": null
      }
     },
     "d52bda1ea31b4aa28e31633c7825fef2": {
      "model_module": "@jupyter-widgets/controls",
      "model_module_version": "2.0.0",
      "model_name": "HTMLStyleModel",
      "state": {
       "_model_module": "@jupyter-widgets/controls",
       "_model_module_version": "2.0.0",
       "_model_name": "HTMLStyleModel",
       "_view_count": null,
       "_view_module": "@jupyter-widgets/base",
       "_view_module_version": "2.0.0",
       "_view_name": "StyleView",
       "background": null,
       "description_width": "",
       "font_size": null,
       "text_color": null
      }
     },
     "d57d3342cd73421ba91677898157b7f2": {
      "model_module": "@jupyter-widgets/base",
      "model_module_version": "2.0.0",
      "model_name": "LayoutModel",
      "state": {
       "_model_module": "@jupyter-widgets/base",
       "_model_module_version": "2.0.0",
       "_model_name": "LayoutModel",
       "_view_count": null,
       "_view_module": "@jupyter-widgets/base",
       "_view_module_version": "2.0.0",
       "_view_name": "LayoutView",
       "align_content": null,
       "align_items": null,
       "align_self": null,
       "border_bottom": null,
       "border_left": null,
       "border_right": null,
       "border_top": null,
       "bottom": null,
       "display": null,
       "flex": null,
       "flex_flow": null,
       "grid_area": null,
       "grid_auto_columns": null,
       "grid_auto_flow": null,
       "grid_auto_rows": null,
       "grid_column": null,
       "grid_gap": null,
       "grid_row": null,
       "grid_template_areas": null,
       "grid_template_columns": null,
       "grid_template_rows": null,
       "height": null,
       "justify_content": null,
       "justify_items": null,
       "left": null,
       "margin": null,
       "max_height": null,
       "max_width": null,
       "min_height": null,
       "min_width": null,
       "object_fit": null,
       "object_position": null,
       "order": null,
       "overflow": null,
       "padding": null,
       "right": null,
       "top": null,
       "visibility": "hidden",
       "width": null
      }
     },
     "d5f66e7c0f1c4ff2a4b787fe5c6b8f17": {
      "model_module": "@jupyter-widgets/controls",
      "model_module_version": "2.0.0",
      "model_name": "FloatProgressModel",
      "state": {
       "_dom_classes": [],
       "_model_module": "@jupyter-widgets/controls",
       "_model_module_version": "2.0.0",
       "_model_name": "FloatProgressModel",
       "_view_count": null,
       "_view_module": "@jupyter-widgets/controls",
       "_view_module_version": "2.0.0",
       "_view_name": "ProgressView",
       "bar_style": "",
       "description": "",
       "description_allow_html": false,
       "layout": "IPY_MODEL_5fc5820d49f44563bd63c50d9d1fe28c",
       "max": 2510,
       "min": 0,
       "orientation": "horizontal",
       "style": "IPY_MODEL_6248c1c8bfc841fd839aa3660f0ecfc0",
       "tabbable": null,
       "tooltip": null,
       "value": 2510
      }
     },
     "dcc7c31851184691a117c3ff787603e7": {
      "model_module": "@jupyter-widgets/base",
      "model_module_version": "2.0.0",
      "model_name": "LayoutModel",
      "state": {
       "_model_module": "@jupyter-widgets/base",
       "_model_module_version": "2.0.0",
       "_model_name": "LayoutModel",
       "_view_count": null,
       "_view_module": "@jupyter-widgets/base",
       "_view_module_version": "2.0.0",
       "_view_name": "LayoutView",
       "align_content": null,
       "align_items": null,
       "align_self": null,
       "border_bottom": null,
       "border_left": null,
       "border_right": null,
       "border_top": null,
       "bottom": null,
       "display": null,
       "flex": null,
       "flex_flow": null,
       "grid_area": null,
       "grid_auto_columns": null,
       "grid_auto_flow": null,
       "grid_auto_rows": null,
       "grid_column": null,
       "grid_gap": null,
       "grid_row": null,
       "grid_template_areas": null,
       "grid_template_columns": null,
       "grid_template_rows": null,
       "height": null,
       "justify_content": null,
       "justify_items": null,
       "left": null,
       "margin": null,
       "max_height": null,
       "max_width": null,
       "min_height": null,
       "min_width": null,
       "object_fit": null,
       "object_position": null,
       "order": null,
       "overflow": null,
       "padding": null,
       "right": null,
       "top": null,
       "visibility": "hidden",
       "width": null
      }
     },
     "e40ef4fe0f9c4ad18e94cf2c8aa43abd": {
      "model_module": "@jupyter-widgets/base",
      "model_module_version": "2.0.0",
      "model_name": "LayoutModel",
      "state": {
       "_model_module": "@jupyter-widgets/base",
       "_model_module_version": "2.0.0",
       "_model_name": "LayoutModel",
       "_view_count": null,
       "_view_module": "@jupyter-widgets/base",
       "_view_module_version": "2.0.0",
       "_view_name": "LayoutView",
       "align_content": null,
       "align_items": null,
       "align_self": null,
       "border_bottom": null,
       "border_left": null,
       "border_right": null,
       "border_top": null,
       "bottom": null,
       "display": null,
       "flex": null,
       "flex_flow": null,
       "grid_area": null,
       "grid_auto_columns": null,
       "grid_auto_flow": null,
       "grid_auto_rows": null,
       "grid_column": null,
       "grid_gap": null,
       "grid_row": null,
       "grid_template_areas": null,
       "grid_template_columns": null,
       "grid_template_rows": null,
       "height": null,
       "justify_content": null,
       "justify_items": null,
       "left": null,
       "margin": null,
       "max_height": null,
       "max_width": null,
       "min_height": null,
       "min_width": null,
       "object_fit": null,
       "object_position": null,
       "order": null,
       "overflow": null,
       "padding": null,
       "right": null,
       "top": null,
       "visibility": null,
       "width": null
      }
     },
     "e4adb990163f46b3a54f00be1bd70bac": {
      "model_module": "@jupyter-widgets/controls",
      "model_module_version": "2.0.0",
      "model_name": "HTMLStyleModel",
      "state": {
       "_model_module": "@jupyter-widgets/controls",
       "_model_module_version": "2.0.0",
       "_model_name": "HTMLStyleModel",
       "_view_count": null,
       "_view_module": "@jupyter-widgets/base",
       "_view_module_version": "2.0.0",
       "_view_name": "StyleView",
       "background": null,
       "description_width": "",
       "font_size": null,
       "text_color": null
      }
     },
     "e5ec4e78f3434955af96be09866a5648": {
      "model_module": "@jupyter-widgets/base",
      "model_module_version": "2.0.0",
      "model_name": "LayoutModel",
      "state": {
       "_model_module": "@jupyter-widgets/base",
       "_model_module_version": "2.0.0",
       "_model_name": "LayoutModel",
       "_view_count": null,
       "_view_module": "@jupyter-widgets/base",
       "_view_module_version": "2.0.0",
       "_view_name": "LayoutView",
       "align_content": null,
       "align_items": null,
       "align_self": null,
       "border_bottom": null,
       "border_left": null,
       "border_right": null,
       "border_top": null,
       "bottom": null,
       "display": null,
       "flex": null,
       "flex_flow": null,
       "grid_area": null,
       "grid_auto_columns": null,
       "grid_auto_flow": null,
       "grid_auto_rows": null,
       "grid_column": null,
       "grid_gap": null,
       "grid_row": null,
       "grid_template_areas": null,
       "grid_template_columns": null,
       "grid_template_rows": null,
       "height": null,
       "justify_content": null,
       "justify_items": null,
       "left": null,
       "margin": null,
       "max_height": null,
       "max_width": null,
       "min_height": null,
       "min_width": null,
       "object_fit": null,
       "object_position": null,
       "order": null,
       "overflow": null,
       "padding": null,
       "right": null,
       "top": null,
       "visibility": null,
       "width": null
      }
     },
     "e80fb1d0b98140eeae8b7d3c8237c93a": {
      "model_module": "@jupyter-widgets/controls",
      "model_module_version": "2.0.0",
      "model_name": "HTMLStyleModel",
      "state": {
       "_model_module": "@jupyter-widgets/controls",
       "_model_module_version": "2.0.0",
       "_model_name": "HTMLStyleModel",
       "_view_count": null,
       "_view_module": "@jupyter-widgets/base",
       "_view_module_version": "2.0.0",
       "_view_name": "StyleView",
       "background": null,
       "description_width": "",
       "font_size": null,
       "text_color": null
      }
     },
     "e8757f9a61974a2787569e8d2ba4292a": {
      "model_module": "@jupyter-widgets/controls",
      "model_module_version": "2.0.0",
      "model_name": "FloatProgressModel",
      "state": {
       "_dom_classes": [],
       "_model_module": "@jupyter-widgets/controls",
       "_model_module_version": "2.0.0",
       "_model_name": "FloatProgressModel",
       "_view_count": null,
       "_view_module": "@jupyter-widgets/controls",
       "_view_module_version": "2.0.0",
       "_view_name": "ProgressView",
       "bar_style": "",
       "description": "",
       "description_allow_html": false,
       "layout": "IPY_MODEL_6bf32fbc4abf43fc94ab689a0ab95543",
       "max": 11708,
       "min": 0,
       "orientation": "horizontal",
       "style": "IPY_MODEL_07b77a33ecee420090d3e7eb7d4372a8",
       "tabbable": null,
       "tooltip": null,
       "value": 11708
      }
     },
     "e9d751bc77c34155b2cd48e2581e0491": {
      "model_module": "@jupyter-widgets/base",
      "model_module_version": "2.0.0",
      "model_name": "LayoutModel",
      "state": {
       "_model_module": "@jupyter-widgets/base",
       "_model_module_version": "2.0.0",
       "_model_name": "LayoutModel",
       "_view_count": null,
       "_view_module": "@jupyter-widgets/base",
       "_view_module_version": "2.0.0",
       "_view_name": "LayoutView",
       "align_content": null,
       "align_items": null,
       "align_self": null,
       "border_bottom": null,
       "border_left": null,
       "border_right": null,
       "border_top": null,
       "bottom": null,
       "display": null,
       "flex": null,
       "flex_flow": null,
       "grid_area": null,
       "grid_auto_columns": null,
       "grid_auto_flow": null,
       "grid_auto_rows": null,
       "grid_column": null,
       "grid_gap": null,
       "grid_row": null,
       "grid_template_areas": null,
       "grid_template_columns": null,
       "grid_template_rows": null,
       "height": null,
       "justify_content": null,
       "justify_items": null,
       "left": null,
       "margin": null,
       "max_height": null,
       "max_width": null,
       "min_height": null,
       "min_width": null,
       "object_fit": null,
       "object_position": null,
       "order": null,
       "overflow": null,
       "padding": null,
       "right": null,
       "top": null,
       "visibility": null,
       "width": null
      }
     },
     "ea67fbea381d4d78bd666a6c973a9a53": {
      "model_module": "@jupyter-widgets/controls",
      "model_module_version": "2.0.0",
      "model_name": "ProgressStyleModel",
      "state": {
       "_model_module": "@jupyter-widgets/controls",
       "_model_module_version": "2.0.0",
       "_model_name": "ProgressStyleModel",
       "_view_count": null,
       "_view_module": "@jupyter-widgets/base",
       "_view_module_version": "2.0.0",
       "_view_name": "StyleView",
       "bar_color": null,
       "description_width": ""
      }
     },
     "ef64b2af73a84e7881386e7c3834797b": {
      "model_module": "@jupyter-widgets/controls",
      "model_module_version": "2.0.0",
      "model_name": "ProgressStyleModel",
      "state": {
       "_model_module": "@jupyter-widgets/controls",
       "_model_module_version": "2.0.0",
       "_model_name": "ProgressStyleModel",
       "_view_count": null,
       "_view_module": "@jupyter-widgets/base",
       "_view_module_version": "2.0.0",
       "_view_name": "StyleView",
       "bar_color": null,
       "description_width": ""
      }
     },
     "efa12fa851a44a7ead6c9729a03de081": {
      "model_module": "@jupyter-widgets/controls",
      "model_module_version": "2.0.0",
      "model_name": "HBoxModel",
      "state": {
       "_dom_classes": [],
       "_model_module": "@jupyter-widgets/controls",
       "_model_module_version": "2.0.0",
       "_model_name": "HBoxModel",
       "_view_count": null,
       "_view_module": "@jupyter-widgets/controls",
       "_view_module_version": "2.0.0",
       "_view_name": "HBoxView",
       "box_style": "",
       "children": [
        "IPY_MODEL_14278f62e252408bae2af5f778c2a7d0",
        "IPY_MODEL_e8757f9a61974a2787569e8d2ba4292a",
        "IPY_MODEL_83a4c7730d6a4230b19b53c8311b96a6"
       ],
       "layout": "IPY_MODEL_d57d3342cd73421ba91677898157b7f2",
       "tabbable": null,
       "tooltip": null
      }
     },
     "f0528563afb94d8d94a133c996674361": {
      "model_module": "@jupyter-widgets/base",
      "model_module_version": "2.0.0",
      "model_name": "LayoutModel",
      "state": {
       "_model_module": "@jupyter-widgets/base",
       "_model_module_version": "2.0.0",
       "_model_name": "LayoutModel",
       "_view_count": null,
       "_view_module": "@jupyter-widgets/base",
       "_view_module_version": "2.0.0",
       "_view_name": "LayoutView",
       "align_content": null,
       "align_items": null,
       "align_self": null,
       "border_bottom": null,
       "border_left": null,
       "border_right": null,
       "border_top": null,
       "bottom": null,
       "display": null,
       "flex": null,
       "flex_flow": null,
       "grid_area": null,
       "grid_auto_columns": null,
       "grid_auto_flow": null,
       "grid_auto_rows": null,
       "grid_column": null,
       "grid_gap": null,
       "grid_row": null,
       "grid_template_areas": null,
       "grid_template_columns": null,
       "grid_template_rows": null,
       "height": null,
       "justify_content": null,
       "justify_items": null,
       "left": null,
       "margin": null,
       "max_height": null,
       "max_width": null,
       "min_height": null,
       "min_width": null,
       "object_fit": null,
       "object_position": null,
       "order": null,
       "overflow": null,
       "padding": null,
       "right": null,
       "top": null,
       "visibility": "hidden",
       "width": null
      }
     },
     "f1b8500d516c45d3808127a1747a5f79": {
      "model_module": "@jupyter-widgets/base",
      "model_module_version": "2.0.0",
      "model_name": "LayoutModel",
      "state": {
       "_model_module": "@jupyter-widgets/base",
       "_model_module_version": "2.0.0",
       "_model_name": "LayoutModel",
       "_view_count": null,
       "_view_module": "@jupyter-widgets/base",
       "_view_module_version": "2.0.0",
       "_view_name": "LayoutView",
       "align_content": null,
       "align_items": null,
       "align_self": null,
       "border_bottom": null,
       "border_left": null,
       "border_right": null,
       "border_top": null,
       "bottom": null,
       "display": null,
       "flex": null,
       "flex_flow": null,
       "grid_area": null,
       "grid_auto_columns": null,
       "grid_auto_flow": null,
       "grid_auto_rows": null,
       "grid_column": null,
       "grid_gap": null,
       "grid_row": null,
       "grid_template_areas": null,
       "grid_template_columns": null,
       "grid_template_rows": null,
       "height": null,
       "justify_content": null,
       "justify_items": null,
       "left": null,
       "margin": null,
       "max_height": null,
       "max_width": null,
       "min_height": null,
       "min_width": null,
       "object_fit": null,
       "object_position": null,
       "order": null,
       "overflow": null,
       "padding": null,
       "right": null,
       "top": null,
       "visibility": "hidden",
       "width": null
      }
     },
     "f5110d1f594c4d5cb62d47a152744531": {
      "model_module": "@jupyter-widgets/base",
      "model_module_version": "2.0.0",
      "model_name": "LayoutModel",
      "state": {
       "_model_module": "@jupyter-widgets/base",
       "_model_module_version": "2.0.0",
       "_model_name": "LayoutModel",
       "_view_count": null,
       "_view_module": "@jupyter-widgets/base",
       "_view_module_version": "2.0.0",
       "_view_name": "LayoutView",
       "align_content": null,
       "align_items": null,
       "align_self": null,
       "border_bottom": null,
       "border_left": null,
       "border_right": null,
       "border_top": null,
       "bottom": null,
       "display": null,
       "flex": null,
       "flex_flow": null,
       "grid_area": null,
       "grid_auto_columns": null,
       "grid_auto_flow": null,
       "grid_auto_rows": null,
       "grid_column": null,
       "grid_gap": null,
       "grid_row": null,
       "grid_template_areas": null,
       "grid_template_columns": null,
       "grid_template_rows": null,
       "height": null,
       "justify_content": null,
       "justify_items": null,
       "left": null,
       "margin": null,
       "max_height": null,
       "max_width": null,
       "min_height": null,
       "min_width": null,
       "object_fit": null,
       "object_position": null,
       "order": null,
       "overflow": null,
       "padding": null,
       "right": null,
       "top": null,
       "visibility": null,
       "width": null
      }
     },
     "f92039dd4d9942e184b19e80255464cb": {
      "model_module": "@jupyter-widgets/controls",
      "model_module_version": "2.0.0",
      "model_name": "HTMLModel",
      "state": {
       "_dom_classes": [],
       "_model_module": "@jupyter-widgets/controls",
       "_model_module_version": "2.0.0",
       "_model_name": "HTMLModel",
       "_view_count": null,
       "_view_module": "@jupyter-widgets/controls",
       "_view_module_version": "2.0.0",
       "_view_name": "HTMLView",
       "description": "",
       "description_allow_html": false,
       "layout": "IPY_MODEL_e5ec4e78f3434955af96be09866a5648",
       "placeholder": "​",
       "style": "IPY_MODEL_2d745a49f3f346198e47ddcad752eefc",
       "tabbable": null,
       "tooltip": null,
       "value": " 1851/1851 [13:47&lt;00:00,  1.08it/s, loss=0.0164]"
      }
     },
     "f9e05d975f9b4d7c8e87ecab75ba47ae": {
      "model_module": "@jupyter-widgets/base",
      "model_module_version": "2.0.0",
      "model_name": "LayoutModel",
      "state": {
       "_model_module": "@jupyter-widgets/base",
       "_model_module_version": "2.0.0",
       "_model_name": "LayoutModel",
       "_view_count": null,
       "_view_module": "@jupyter-widgets/base",
       "_view_module_version": "2.0.0",
       "_view_name": "LayoutView",
       "align_content": null,
       "align_items": null,
       "align_self": null,
       "border_bottom": null,
       "border_left": null,
       "border_right": null,
       "border_top": null,
       "bottom": null,
       "display": null,
       "flex": null,
       "flex_flow": null,
       "grid_area": null,
       "grid_auto_columns": null,
       "grid_auto_flow": null,
       "grid_auto_rows": null,
       "grid_column": null,
       "grid_gap": null,
       "grid_row": null,
       "grid_template_areas": null,
       "grid_template_columns": null,
       "grid_template_rows": null,
       "height": null,
       "justify_content": null,
       "justify_items": null,
       "left": null,
       "margin": null,
       "max_height": null,
       "max_width": null,
       "min_height": null,
       "min_width": null,
       "object_fit": null,
       "object_position": null,
       "order": null,
       "overflow": null,
       "padding": null,
       "right": null,
       "top": null,
       "visibility": null,
       "width": null
      }
     },
     "fb813df732d54f44aea9d629f6d768ed": {
      "model_module": "@jupyter-widgets/controls",
      "model_module_version": "2.0.0",
      "model_name": "ProgressStyleModel",
      "state": {
       "_model_module": "@jupyter-widgets/controls",
       "_model_module_version": "2.0.0",
       "_model_name": "ProgressStyleModel",
       "_view_count": null,
       "_view_module": "@jupyter-widgets/base",
       "_view_module_version": "2.0.0",
       "_view_name": "StyleView",
       "bar_color": null,
       "description_width": ""
      }
     },
     "fc13541ab1464480a8c335b439e35359": {
      "model_module": "@jupyter-widgets/controls",
      "model_module_version": "2.0.0",
      "model_name": "HBoxModel",
      "state": {
       "_dom_classes": [],
       "_model_module": "@jupyter-widgets/controls",
       "_model_module_version": "2.0.0",
       "_model_name": "HBoxModel",
       "_view_count": null,
       "_view_module": "@jupyter-widgets/controls",
       "_view_module_version": "2.0.0",
       "_view_name": "HBoxView",
       "box_style": "",
       "children": [
        "IPY_MODEL_2d5fc2a73c3c4862b1a6f3173698542e",
        "IPY_MODEL_3bf84056db8d4be5a0cc3407054eadea",
        "IPY_MODEL_8fc85b16d6d54d2da8252fafcba3adee"
       ],
       "layout": "IPY_MODEL_37ac654da5424305838ef6583f01014f",
       "tabbable": null,
       "tooltip": null
      }
     },
     "fccaac304f804ba7b0c0c291e4569413": {
      "model_module": "@jupyter-widgets/controls",
      "model_module_version": "2.0.0",
      "model_name": "FloatProgressModel",
      "state": {
       "_dom_classes": [],
       "_model_module": "@jupyter-widgets/controls",
       "_model_module_version": "2.0.0",
       "_model_name": "FloatProgressModel",
       "_view_count": null,
       "_view_module": "@jupyter-widgets/controls",
       "_view_module_version": "2.0.0",
       "_view_name": "ProgressView",
       "bar_style": "success",
       "description": "",
       "description_allow_html": false,
       "layout": "IPY_MODEL_62bda50326fb434ebe21cc5d538f1e6b",
       "max": 1,
       "min": 0,
       "orientation": "horizontal",
       "style": "IPY_MODEL_43a4d4a56037466299842e12c48143c0",
       "tabbable": null,
       "tooltip": null,
       "value": 1
      }
     },
     "ff3ea31ade004ea5a8fa7637c4ab646e": {
      "model_module": "@jupyter-widgets/controls",
      "model_module_version": "2.0.0",
      "model_name": "FloatProgressModel",
      "state": {
       "_dom_classes": [],
       "_model_module": "@jupyter-widgets/controls",
       "_model_module_version": "2.0.0",
       "_model_name": "FloatProgressModel",
       "_view_count": null,
       "_view_module": "@jupyter-widgets/controls",
       "_view_module_version": "2.0.0",
       "_view_name": "ProgressView",
       "bar_style": "",
       "description": "",
       "description_allow_html": false,
       "layout": "IPY_MODEL_875b4740dea54d5f91275b3d7120de3b",
       "max": 1851,
       "min": 0,
       "orientation": "horizontal",
       "style": "IPY_MODEL_428810233df24ec2bd5fb6fdac53508f",
       "tabbable": null,
       "tooltip": null,
       "value": 1851
      }
     }
    },
    "version_major": 2,
    "version_minor": 0
   }
  }
 },
 "nbformat": 4,
 "nbformat_minor": 5
}
